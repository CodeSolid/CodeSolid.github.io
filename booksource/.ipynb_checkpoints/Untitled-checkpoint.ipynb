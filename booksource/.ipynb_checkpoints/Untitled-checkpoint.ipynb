{
 "cells": [
  {
   "cell_type": "markdown",
   "id": "c137fc4e-c709-4196-b272-27c4368c19f5",
   "metadata": {},
   "source": [
    "# Python Lists\n",
    "\n",
    "Python lists are one of the most flexible and widely used data types in Python.  The basic idea of a list is very easy to understand, because most people already know how to use a list in real life.  We might have a list of things to do, for example:\n",
    "\n",
    "* Finish work project\n",
    "* Stop at pharmacy\n",
    "* Return parrot to pet store\n",
    "\n",
    "Here's how easy it is to create a Python list with those items:"
   ]
  },
  {
   "cell_type": "code",
   "execution_count": 2,
   "id": "4460c6d1-dc51-41c2-b0cd-2cc6596a62d1",
   "metadata": {},
   "outputs": [
    {
     "name": "stdout",
     "output_type": "stream",
     "text": [
      "['Finish work project', 'Stop at pharmacy', 'Return parrot to pet store']\n"
     ]
    }
   ],
   "source": [
    "todo_list = [\"Finish work project\", \"Stop at pharmacy\", \"Return parrot to pet store\"]\n",
    "print(todo_list)"
   ]
  },
  {
   "cell_type": "markdown",
   "id": "e7b2c62f-74c8-413b-952d-922fd304be3f",
   "metadata": {},
   "source": [
    "We usually create a list with square brackets, as we've done here.  Square brackets tell Python we're dealing with a list. We can even create an empty list that way:"
   ]
  },
  {
   "cell_type": "code",
   "execution_count": null,
   "id": "953898ad-c1b1-49a7-b382-a4e2de54ae15",
   "metadata": {},
   "outputs": [],
   "source": []
  }
 ],
 "metadata": {
  "kernelspec": {
   "display_name": "Python 3 (ipykernel)",
   "language": "python",
   "name": "python3"
  },
  "language_info": {
   "codemirror_mode": {
    "name": "ipython",
    "version": 3
   },
   "file_extension": ".py",
   "mimetype": "text/x-python",
   "name": "python",
   "nbconvert_exporter": "python",
   "pygments_lexer": "ipython3",
   "version": "3.10.2"
  }
 },
 "nbformat": 4,
 "nbformat_minor": 5
}
