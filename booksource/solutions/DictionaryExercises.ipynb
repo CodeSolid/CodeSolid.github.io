{
 "cells": [
  {
   "cell_type": "markdown",
   "id": "27370f01-c5e1-41e0-9b68-250eaed4c03e",
   "metadata": {},
   "source": [
    "These are the exercises for the article [Python Dictionaries for Beginners:  A Complete Lesson With Exercises](https://codesolid.com/python-dictionaries-with-exercises).\n",
    "\n",
    "These exercises are part of the series, [Python for Beginners](https://codesolid.com/python-for-beginners/)."
   ]
  },
  {
   "cell_type": "markdown",
   "id": "1a82921e-f36f-4b46-a9eb-cc34f6282b41",
   "metadata": {},
   "source": [
    "**1.** When should you prefer a dictionary over a list?  What advantages does it have?"
   ]
  },
  {
   "cell_type": "markdown",
   "id": "d97860d3-cb4f-430b-962d-09235a33f702",
   "metadata": {},
   "source": [
    "(Exact answer varies).  Dictionaries are prefered over lists when you need to quickly look up a value based on a key.  Using a Hashtable-based dictionary provides much faster access for a single element than searching through a list."
   ]
  },
  {
   "cell_type": "markdown",
   "id": "87c8b0b8-abcd-44fb-9901-f98ece18c9d0",
   "metadata": {},
   "source": [
    "**2.** Given the following elements and their symbols, create a dictionary that allows you to look up the symbol given the element name as a key. Assume the element name and symbol names have the cases as shown.  Name the dictionary \"elements\".\n",
    "\n",
    "* Hydrogen H\n",
    "* Bismuth Bi\n",
    "* Iron Fe\n",
    "* Carbon C\n",
    "* Silicon Si\n",
    "* Helium He\n"
   ]
  },
  {
   "cell_type": "code",
   "execution_count": 1,
   "id": "ee63bb60-21e6-4d5d-98fb-43377338079d",
   "metadata": {},
   "outputs": [],
   "source": [
    "elements = {\"Hydrogen\": \"H\", \"Bismuth\": \"Bi\", \"Iron\": \"Fe\", \"Carbon\": \"C\", \"Silicon\": \"Si\", \"Helium\": \"He\"}"
   ]
  },
  {
   "cell_type": "markdown",
   "id": "34a4a890-97bd-4e22-925c-20967fcb1a28",
   "metadata": {},
   "source": [
    "**3.** Write a for loop that loops over the elements dictionary you created in exercise 2, above.  Print each item as \"Symbol => Name\" on a single line,"
   ]
  },
  {
   "cell_type": "code",
   "execution_count": 2,
   "id": "7d8052b6-1628-40c5-9db7-173417551061",
   "metadata": {},
   "outputs": [
    {
     "name": "stdout",
     "output_type": "stream",
     "text": [
      "H => Hydrogen\n",
      "Bi => Bismuth\n",
      "Fe => Iron\n",
      "C => Carbon\n",
      "Si => Silicon\n",
      "He => Helium\n"
     ]
    }
   ],
   "source": [
    "for name, symbol in elements.items():\n",
    "    print(f\"{symbol} => {name}\")"
   ]
  },
  {
   "cell_type": "markdown",
   "id": "29e293d8-ac8c-417a-876e-b456a48ae57f",
   "metadata": {},
   "source": [
    "**4.** Assuming the elements dictionary is in scope (declared globally for example, or you can add it to the function), write a function that takes an element name and returns the symbol name.  If the element name is not found, return the string \"NOT FOUND\"."
   ]
  },
  {
   "cell_type": "code",
   "execution_count": 3,
   "id": "11faf8b1-75a3-4fb9-9273-be4864cecb60",
   "metadata": {},
   "outputs": [
    {
     "name": "stdout",
     "output_type": "stream",
     "text": [
      "H\n",
      "NOT FOUND\n"
     ]
    }
   ],
   "source": [
    "def find_symbol(element: str):\n",
    "    return elements.get(element, \"NOT FOUND\")\n",
    "\n",
    "print(find_symbol(\"Hydrogen\"))\n",
    "print(find_symbol(\"Unobtainium\"))"
   ]
  },
  {
   "cell_type": "markdown",
   "id": "a8bf4eda-04ec-430f-b9d9-8729b8444041",
   "metadata": {},
   "source": [
    "**5.** Add the following elements and their symbols to the elements table.\n",
    "\n",
    "* Oxygen O\n",
    "* Sodium Na\n",
    "* Zinc Zn"
   ]
  },
  {
   "cell_type": "code",
   "execution_count": 4,
   "id": "0829919b-6f70-43cf-8294-af5629ad37e9",
   "metadata": {},
   "outputs": [
    {
     "data": {
      "text/plain": [
       "{'Hydrogen': 'H',\n",
       " 'Bismuth': 'Bi',\n",
       " 'Iron': 'Fe',\n",
       " 'Carbon': 'C',\n",
       " 'Silicon': 'Si',\n",
       " 'Helium': 'He',\n",
       " 'Oxygen': 'O',\n",
       " 'Sodium': 'Na',\n",
       " 'Zinc': 'Zn'}"
      ]
     },
     "execution_count": 4,
     "metadata": {},
     "output_type": "execute_result"
    }
   ],
   "source": [
    "elements[\"Oxygen\"] = \"O\"\n",
    "elements[\"Sodium\"] = \"Na\"\n",
    "elements[\"Zinc\"] = \"Zn\"        \n",
    "elements"
   ]
  },
  {
   "cell_type": "markdown",
   "id": "3dfc09cd-6bd4-4119-b47d-da6c24cbf2e0",
   "metadata": {},
   "source": [
    "**6.** The elements table allows you to look up symbols, given an element name.  How could you create a dictionary that would allow you to look up the element name, given a symbol name?"
   ]
  },
  {
   "cell_type": "code",
   "execution_count": 5,
   "id": "d732dd68-cc05-4d9f-aee9-6edcec4f79ee",
   "metadata": {},
   "outputs": [
    {
     "data": {
      "text/plain": [
       "{'H': 'Hydrogen',\n",
       " 'Bi': 'Bismuth',\n",
       " 'Fe': 'Iron',\n",
       " 'C': 'Carbon',\n",
       " 'Si': 'Silicon',\n",
       " 'He': 'Helium',\n",
       " 'O': 'Oxygen',\n",
       " 'Na': 'Sodium',\n",
       " 'Zn': 'Zinc'}"
      ]
     },
     "execution_count": 5,
     "metadata": {},
     "output_type": "execute_result"
    }
   ],
   "source": [
    "# The simplest form is with a dictionary comprehension.\n",
    "\n",
    "symbols = {symbol: element for element, symbol in elements.items()}\n",
    "symbols"
   ]
  },
  {
   "cell_type": "markdown",
   "id": "3c4d769f-9613-456b-9b18-cc8bc0924b78",
   "metadata": {},
   "source": [
    "**7.** You have a list of sensor IDs and sensor readings, as given in the next cell (the sensor ID comes first in each pair). Also shown is the code for iterating through the list. Write the code to create a dictionary that maps each unique sensor ID to a list of readings related to it, as shown in the following psuedocode:  ```{sensor_id:  [reading1, reading2, ...], ...}```  Name the dictionary \"readings\".\n"
   ]
  },
  {
   "cell_type": "code",
   "execution_count": 6,
   "id": "6cdf782c-f98f-4b37-b76b-e35e273df722",
   "metadata": {},
   "outputs": [
    {
     "name": "stdout",
     "output_type": "stream",
     "text": [
      "defaultdict(<class 'list'>, {'id001': [93.9, 93.9, 22.0], 'id007': [33.5, 22.1], 'id003': [55.1]})\n"
     ]
    }
   ],
   "source": [
    "reading_list = [(\"id001\", 93.9), (\"id001\", 93.9), (\"id007\", 33.5), (\"id001\", 22.0), (\"id003\", 55.1), (\"id007\", 22.10)]\n",
    "# for reading in reading_list:\n",
    "#     print(f\"id = {reading[0]}, reading = {reading[1]}\")\n",
    "    \n",
    "from collections import defaultdict\n",
    "readings = defaultdict(list)\n",
    "for key, value in reading_list:\n",
    "    readings[key].append(value)\n",
    "\n",
    "print(readings)\n",
    "\n",
    "# Your code to create the readings dictionary here:\n"
   ]
  },
  {
   "cell_type": "markdown",
   "id": "d0eadcc2-bdfa-4d25-b49d-4f79932c4e77",
   "metadata": {},
   "source": [
    "**8.** Write the code to create a dictionary named \"squares\".  Each key should be a number between one and ten, and each value should be the square of the number."
   ]
  },
  {
   "cell_type": "code",
   "execution_count": 7,
   "id": "a4a5d709-d255-488d-bff1-605bf2bccefc",
   "metadata": {},
   "outputs": [
    {
     "name": "stdout",
     "output_type": "stream",
     "text": [
      "1 squared is 1\n",
      "2 squared is 4\n",
      "3 squared is 9\n",
      "4 squared is 16\n",
      "5 squared is 25\n",
      "6 squared is 36\n",
      "7 squared is 49\n",
      "8 squared is 64\n",
      "9 squared is 81\n",
      "10 squared is 100\n"
     ]
    }
   ],
   "source": [
    "# Use a list comprehension to create the squares dictionary:\n",
    "squares = {i: i*i for i in range(1,11)}\n",
    "\n",
    "# Display it.\n",
    "for num, square in squares.items():\n",
    "    print(f\"{num} squared is {square}\")"
   ]
  },
  {
   "cell_type": "markdown",
   "id": "0096e61c-6c9f-456f-8e6a-cafa75f45628",
   "metadata": {},
   "source": [
    "**10.** What is wrong with the following code?  You can run it if you need to in order to refresh your memory about this topic:\n",
    "```\n",
    "grades = {[99, 95]: \"Kalea\", [85, 100]: \"Antoine\"}\n",
    "grades\n",
    "```"
   ]
  },
  {
   "cell_type": "markdown",
   "id": "385c9558-1021-432a-b6f5-9647bbb8297d",
   "metadata": {},
   "source": [
    "Lists are not hashable, and therefore cannot be used as dictionary keys."
   ]
  }
 ],
 "metadata": {
  "kernelspec": {
   "display_name": "Python 3 (ipykernel)",
   "language": "python",
   "name": "python3"
  },
  "language_info": {
   "codemirror_mode": {
    "name": "ipython",
    "version": 3
   },
   "file_extension": ".py",
   "mimetype": "text/x-python",
   "name": "python",
   "nbconvert_exporter": "python",
   "pygments_lexer": "ipython3",
   "version": "3.10.2"
  }
 },
 "nbformat": 4,
 "nbformat_minor": 5
}
