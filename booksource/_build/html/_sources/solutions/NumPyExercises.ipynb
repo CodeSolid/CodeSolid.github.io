{
 "cells": [
  {
   "cell_type": "markdown",
   "id": "f22321c4-05e7-4bdd-a258-1bb20b89b9f2",
   "metadata": {},
   "source": [
    "# NumPy Exercises Solutions\n",
    "\n",
    "These are my solutions that I wrote while working on the article [NumPy Examples: Forty-Five Practice Questions To Make You an Expert](https://codesolid.com/numpy-practice-questions-to-make-you-an-expert/).  I've tried to list the original questions in the comments."
   ]
  },
  {
   "cell_type": "code",
   "execution_count": null,
   "id": "5f072d39-1dd8-412d-8e99-ee3209251b93",
   "metadata": {},
   "outputs": [],
   "source": [
    "import numpy as np"
   ]
  },
  {
   "cell_type": "markdown",
   "id": "fc249983-6007-4c27-9287-712075a77864",
   "metadata": {},
   "source": [
    "## Array Creation\n",
    "\n",
    "NumPy supports a variety of methods for array creation."
   ]
  },
  {
   "cell_type": "code",
   "execution_count": null,
   "id": "f426501a-74cf-4af1-bc18-034534b3c024",
   "metadata": {},
   "outputs": [],
   "source": [
    "# How would you create a one dimensional NumPy array of the numbers from 10 to 100, counting by 10?\n",
    "\n",
    "np.arange(10, 110, 10)"
   ]
  },
  {
   "cell_type": "code",
   "execution_count": null,
   "id": "80352bc0-bb0a-49ea-97fb-dd396bdd08ab",
   "metadata": {},
   "outputs": [],
   "source": [
    "# How could you do the same thing with a standard Python range and a list?\n",
    "\n",
    "np.array([i for i in range(10, 110, 10)])"
   ]
  },
  {
   "cell_type": "code",
   "execution_count": null,
   "id": "6e81bf28-4463-485c-a47f-155fb068674f",
   "metadata": {},
   "outputs": [],
   "source": [
    "# What does np.array() do (no arguments passed to constructor).  Guess:  exception?\n",
    "\n",
    "# np.array()"
   ]
  },
  {
   "cell_type": "code",
   "execution_count": null,
   "id": "16405be3-a548-44a7-859b-37413301444c",
   "metadata": {},
   "outputs": [],
   "source": [
    "# How might you construct a NumPy array of capital letters (A-Z) "
   ]
  },
  {
   "cell_type": "code",
   "execution_count": null,
   "id": "d694e846-760c-4664-b9c7-a92cfdbe8d14",
   "metadata": {},
   "outputs": [],
   "source": [
    "arr = np.array(['fee', 'fi', 'fo', 'fumble-dee-dum'])\n",
    "arr.dtype"
   ]
  },
  {
   "cell_type": "code",
   "execution_count": null,
   "id": "b52a1cb8-80af-457e-afd2-04e1490560bb",
   "metadata": {},
   "outputs": [],
   "source": [
    "arr = np.array([chr(i) for i in range(ord('A'), ord('Z') + 1)])\n",
    "arr.dtype\n",
    "arr[0].dtype"
   ]
  },
  {
   "cell_type": "code",
   "execution_count": null,
   "id": "72382829-d390-49b2-9ff2-5ef95a2680aa",
   "metadata": {},
   "outputs": [],
   "source": [
    "# How would you create a ten-element array of all zeros?  \n",
    "print(np.zeros(10))\n",
    "\n",
    "# Of all ones?\n",
    "print(np.ones(10))\n"
   ]
  },
  {
   "cell_type": "code",
   "execution_count": null,
   "id": "2f7cb258-330a-40a5-8834-21cbe7698e04",
   "metadata": {},
   "outputs": [],
   "source": [
    "# What is the default data dype for the np.zeros function?\n",
    "# Guess is float64\n",
    "\n",
    "df = np.zeros(10)\n",
    "df.dtype"
   ]
  },
  {
   "cell_type": "code",
   "execution_count": null,
   "id": "4c75caaf-e958-4e36-8de5-d961d4486b3f",
   "metadata": {},
   "outputs": [],
   "source": [
    "# How can you create an array of 10 random integers?\n",
    "\n",
    "np.random.randint(1, 6, 10)"
   ]
  },
  {
   "cell_type": "code",
   "execution_count": null,
   "id": "f7158956-24a4-43ff-a010-bd402fae8035",
   "metadata": {},
   "outputs": [],
   "source": [
    "# How can you create a normal distribution of 10 numbers, centered on 5? \n",
    "# Note, the 1 in center represents mu, size of STD DEV, and is arbitrary.\n",
    "\n",
    "np.random.normal(5, 1, 10)"
   ]
  },
  {
   "cell_type": "code",
   "execution_count": null,
   "id": "dc5e8220-3fa2-4851-b45c-58cca3a0f981",
   "metadata": {},
   "outputs": [],
   "source": [
    "# How can you create an array of 10 random numbers in the range 0 - 1?\n",
    "\n",
    "np.random.rand(10)"
   ]
  },
  {
   "cell_type": "markdown",
   "id": "84dddbf7-fb7f-420d-bc1f-91c3154972d6",
   "metadata": {},
   "source": [
    "# Multidimensional arrays\n"
   ]
  },
  {
   "cell_type": "code",
   "execution_count": null,
   "id": "9b570674-e7e0-4faa-a902-320051aff59f",
   "metadata": {},
   "outputs": [],
   "source": [
    "np.zeros((3, 5))"
   ]
  },
  {
   "cell_type": "code",
   "execution_count": null,
   "id": "582200e8-e936-40ce-9adc-d639c96c2680",
   "metadata": {},
   "outputs": [],
   "source": [
    "myarray = np.arange(1, 13).reshape(3, 4)\n",
    "myarray"
   ]
  },
  {
   "cell_type": "code",
   "execution_count": null,
   "id": "9ad5156c-2d5f-40d3-a19b-9170b40c2089",
   "metadata": {},
   "outputs": [],
   "source": [
    "myarray[1,2]"
   ]
  },
  {
   "cell_type": "code",
   "execution_count": null,
   "id": "42fb03ca-033a-475b-82a1-f5e0399a4cc6",
   "metadata": {},
   "outputs": [],
   "source": [
    "myarray.ndim"
   ]
  },
  {
   "cell_type": "code",
   "execution_count": null,
   "id": "8daa3694-3c11-4301-ba18-46e4be1f7e01",
   "metadata": {},
   "outputs": [],
   "source": [
    "myarray.reshape(2,6)"
   ]
  },
  {
   "cell_type": "code",
   "execution_count": null,
   "id": "c5928434-6ed0-4b3c-823f-70648b484115",
   "metadata": {},
   "outputs": [],
   "source": [
    "arr"
   ]
  },
  {
   "cell_type": "code",
   "execution_count": null,
   "id": "4d648629-a4d3-4a15-8c39-5352e41ec9c2",
   "metadata": {},
   "outputs": [],
   "source": [
    "myarray.shape"
   ]
  },
  {
   "cell_type": "code",
   "execution_count": null,
   "id": "72f66823-409b-4fb3-8ad5-5ba51119fcdd",
   "metadata": {},
   "outputs": [],
   "source": [
    "myarray.reshape(2,6)"
   ]
  },
  {
   "cell_type": "code",
   "execution_count": null,
   "id": "797c9764-6f92-4112-bf31-7545db1501b2",
   "metadata": {},
   "outputs": [],
   "source": [
    "myarray"
   ]
  },
  {
   "cell_type": "code",
   "execution_count": null,
   "id": "e5ca08be-78d2-4f1f-9031-fc6c98d75622",
   "metadata": {},
   "outputs": [],
   "source": [
    "x = myarray\n",
    "x"
   ]
  },
  {
   "cell_type": "code",
   "execution_count": null,
   "id": "f077a492-d21b-41e6-9c90-f5138375755f",
   "metadata": {},
   "outputs": [],
   "source": [
    "x[0,0] = 42\n",
    "myarray"
   ]
  },
  {
   "cell_type": "code",
   "execution_count": null,
   "id": "6bb52949-e8bd-470b-97c5-db21a4506fb5",
   "metadata": {},
   "outputs": [],
   "source": [
    "# Create a 3x4 array of random integers between 1 and 10 \n",
    "np.random.randint(1, 11, (3,4))\n"
   ]
  },
  {
   "cell_type": "code",
   "execution_count": null,
   "id": "477de4fd-de29-4673-90f9-0f02eafd62b8",
   "metadata": {},
   "outputs": [],
   "source": [
    "# ... or:\n",
    "    \n",
    "arr = np.random.randint(1,11,12).reshape(3,4)\n",
    "arr"
   ]
  },
  {
   "cell_type": "code",
   "execution_count": null,
   "id": "50c4ec18-19f7-4388-b77b-9cbecbf843f6",
   "metadata": {},
   "outputs": [],
   "source": [
    "arr - arr"
   ]
  },
  {
   "cell_type": "code",
   "execution_count": null,
   "id": "981ea130-d8ea-4130-9338-225223593a5a",
   "metadata": {},
   "outputs": [],
   "source": [
    "\n",
    "z_list = [z for z in range(0,5)]\n",
    "y_list = [z_list for y in range(0,4)]\n",
    "x_list = [y_list for x in range(0,3)]\n",
    "\n",
    "x_array = np.array(x_list)\n",
    "\n",
    "\n",
    "         "
   ]
  },
  {
   "cell_type": "code",
   "execution_count": null,
   "id": "c347cf60-68ee-4176-bc5d-932af651559e",
   "metadata": {},
   "outputs": [],
   "source": [
    "# My guess is x_array.shape == 3,4,5.  Correct but show tuple brackets would be better\n",
    "x_array.shape"
   ]
  },
  {
   "cell_type": "code",
   "execution_count": null,
   "id": "fc78bfe7-cf2e-4a2c-8035-6cf70e2c3876",
   "metadata": {},
   "outputs": [],
   "source": [
    "# What is the value of x_array.ndim?\n",
    "x_array.ndim"
   ]
  },
  {
   "cell_type": "code",
   "execution_count": null,
   "id": "3295de06-6160-419c-a73a-b11df5fcf910",
   "metadata": {},
   "outputs": [],
   "source": [
    "# Given the following:\n",
    "arr = np.arange(0,6).reshape(2,3)\n",
    "arr\n",
    "# How could you convert it to an array that looks like\n",
    "# array([[0,3], [1,4], [2,5]))\n",
    "# My answer either arr.transpose() or arr.T\n",
    "# (arr.transpose() == arr.T).all()\n",
    "# Note difference is mutablity?  NO!  Both return a view.  Need to copy.\n",
    "arr.transpose()\n"
   ]
  },
  {
   "cell_type": "code",
   "execution_count": null,
   "id": "35d03861-17b9-42d4-aea3-b42c5aba8652",
   "metadata": {},
   "outputs": [],
   "source": [
    "four_by_five = np.arange(1, 21).reshape(4,5)\n",
    "four_by_five"
   ]
  },
  {
   "cell_type": "code",
   "execution_count": null,
   "id": "d3882a92-0a58-415f-b55c-1a286288e7ce",
   "metadata": {},
   "outputs": [],
   "source": [
    "# Write an exoression to return the first row\n",
    "four_by_five[0]"
   ]
  },
  {
   "cell_type": "code",
   "execution_count": null,
   "id": "2b8a9a1c-045a-4c03-b8e8-897bfe253d78",
   "metadata": {},
   "outputs": [],
   "source": [
    "# Write an exoression to return the last row\n",
    "four_by_five[-1]"
   ]
  },
  {
   "cell_type": "code",
   "execution_count": null,
   "id": "b2c4311c-51de-4f5a-801e-864b51666227",
   "metadata": {},
   "outputs": [],
   "source": [
    "# What does four_by_five[2,3] return?  My answer, 14 (scalar)\n",
    "four_by_five[2,3]"
   ]
  },
  {
   "cell_type": "code",
   "execution_count": null,
   "id": "ba187a5d-e6d4-452d-af36-951d9c0ce1ce",
   "metadata": {},
   "outputs": [],
   "source": [
    "# What does four_by_five[3,2] return?  My answer, 18 (scalar)\n",
    "four_by_five[3,2]"
   ]
  },
  {
   "cell_type": "code",
   "execution_count": null,
   "id": "f27bbdea-44d0-40db-840c-7ed785968bcc",
   "metadata": {},
   "outputs": [],
   "source": [
    "# How could you return the first column?  It will be a (four-element array ending with 16.) My answer four_by_five[:,0]\n",
    "four_by_five[:,0]"
   ]
  },
  {
   "cell_type": "code",
   "execution_count": null,
   "id": "e98683e1-25d4-4bb5-a0b4-046f37b76073",
   "metadata": {},
   "outputs": [],
   "source": [
    "# What does four_by_five[:, 2:4] return?\n",
    "# My answer the last two columns -- wrong, third and fourth columns\n",
    "four_by_five[:, 2:4]"
   ]
  },
  {
   "cell_type": "code",
   "execution_count": null,
   "id": "55f8a1e5-6cd0-4171-9593-2a1c3414e290",
   "metadata": {},
   "outputs": [],
   "source": [
    "# Corrected question\n",
    "# What does four_by_five[:, 3:5] return?\n",
    "four_by_five[:, 3:5] "
   ]
  },
  {
   "cell_type": "code",
   "execution_count": null,
   "id": "91aefd49-65f6-4ade-9d9e-163b7ec4bd04",
   "metadata": {},
   "outputs": [],
   "source": [
    "# Write an expression to return the last two columns of the middle two rows.\n",
    "four_by_five[1:3, 3:] "
   ]
  },
  {
   "cell_type": "code",
   "execution_count": null,
   "id": "d8dab8a1-5d00-4c46-a838-7fbd0772876a",
   "metadata": {},
   "outputs": [],
   "source": [
    "one_dim = np.arange(1,6)\n",
    "one_dim"
   ]
  },
  {
   "cell_type": "code",
   "execution_count": null,
   "id": "59632045-f5c8-4571-90ff-c8ae172fddca",
   "metadata": {},
   "outputs": [],
   "source": [
    "# What would be the result of one_dim * 2\n",
    "# My answer array([2, 4, 6, 8, 10])\n",
    "one_dim * 2"
   ]
  },
  {
   "cell_type": "code",
   "execution_count": null,
   "id": "1d8bac55-9919-42ca-a57b-8d96de4c055b",
   "metadata": {},
   "outputs": [],
   "source": [
    "# What would be the result of one_dim + np.arange(5, 0, -1)?\n",
    "# My answer:  array([ 6,  6,  6,  6, 6])\n",
    "one_dim + np.arange(5, 0, -1)"
   ]
  },
  {
   "cell_type": "code",
   "execution_count": null,
   "id": "4930a95b-f550-4cdf-b779-e04c55b2d1d0",
   "metadata": {},
   "outputs": [],
   "source": [
    "# How many zeros are in the array returned by one_dim - one_dim ?\n",
    "# My answer: 5\n",
    "one_dim - one_dim"
   ]
  },
  {
   "cell_type": "code",
   "execution_count": null,
   "id": "08e01f28-cc36-45af-8600-781fa11c3a98",
   "metadata": {},
   "outputs": [],
   "source": [
    "# What is the result of one_dim > 2 ?\n",
    "# My answer:  array([F, F, T, T, T])  (abbreviated)\n",
    "one_dim > 2"
   ]
  },
  {
   "cell_type": "code",
   "execution_count": null,
   "id": "da58dc9e-9d31-4422-9602-bbb7d50da8d6",
   "metadata": {},
   "outputs": [],
   "source": [
    "# For NumPy arrays, logical operations are done with the operators \"&\" and \"|\", \n",
    "# rather than the usual Python \"and\" and \"or\".  Given that, can you evaluate this expression?  \n",
    "# (one_dim > 4) | (one_dim == 1)\n",
    "# My answer: array([True, False, False, False, True])\n",
    "(one_dim > 4) | (one_dim == 1)"
   ]
  },
  {
   "cell_type": "code",
   "execution_count": null,
   "id": "09b89fce-0a25-4756-aacc-353f960153ea",
   "metadata": {},
   "outputs": [],
   "source": [
    "# What is the result of -one_dim?\n",
    "# My answer array([-1, -2, -3, -4, -5])\n",
    "-one_dim"
   ]
  },
  {
   "cell_type": "code",
   "execution_count": null,
   "id": "ed5b0df9-9b73-4405-bbec-268bfaa98333",
   "metadata": {},
   "outputs": [],
   "source": [
    "# np.absolute take the absolute value of each element.  Given that, what would the result be of the following expression:\n",
    "# My answer 4,5\n",
    "np.absolute(-(one_dim[3:]))"
   ]
  },
  {
   "cell_type": "code",
   "execution_count": null,
   "id": "f4612ae8-f93f-4296-8631-56d7ada74092",
   "metadata": {},
   "outputs": [],
   "source": [
    "# What is returned by one_dim.sum()?\n",
    "# My answer: 15\n",
    "one_dim.sum()"
   ]
  },
  {
   "cell_type": "code",
   "execution_count": null,
   "id": "e97074f7-fd56-4274-99ad-7dbcaa4ecada",
   "metadata": {},
   "outputs": [],
   "source": [
    "# What is the value of one_dim.mean() ?\n",
    "\n",
    "\n",
    "one_dim.mean() # The median!\n"
   ]
  },
  {
   "cell_type": "code",
   "execution_count": null,
   "id": "b4a5e90d-f681-445e-a150-b103c44e6a8b",
   "metadata": {},
   "outputs": [],
   "source": [
    "# Given the following...\n",
    "\n",
    "arr = np.array([0., .5, 1.0, 1.5, 2.0]) * np.pi\n",
    "arr"
   ]
  },
  {
   "cell_type": "code",
   "execution_count": null,
   "id": "f1cfb763-4648-475a-83eb-d7472f33055c",
   "metadata": {},
   "outputs": [],
   "source": [
    "# What are the \"approximate\" values for \n",
    "# np.around(np.sin(arr), 0)\n",
    "# My answer:  array(0, 1, 0, -1, 0)\n",
    "np.around(np.sin(arr), 0)\n"
   ]
  },
  {
   "cell_type": "code",
   "execution_count": null,
   "id": "3b9c5f32-7009-4ba2-b2dc-31ec5d0ddfbd",
   "metadata": {},
   "outputs": [],
   "source": [
    "# What are the approximate values for \n",
    "# np.around(np.cos(arr), 0)\n",
    "# My answer:  array(1, 0, -1, 0, 1)\n",
    "np.around(np.cos(arr), 0)"
   ]
  },
  {
   "cell_type": "code",
   "execution_count": null,
   "id": "318d64da-cf28-448c-8052-a5545420ed1f",
   "metadata": {},
   "outputs": [],
   "source": [
    "# You're asked to save the following two arrays as is to a file, \"data.npz\". The arrays should be named as they are here in the file. How could you do it?\n",
    "people = np.array([\"John\", \"Jenniffer\", \"Helen\", \"Miryam\"])\n",
    "languages = np.array([2, 2, 1, 1])\n",
    "# My answer np.savez(\"data.npz\", people=people, languages=languages)\n",
    "np.savez(\"data.npz\", people=people, languages=languages)"
   ]
  },
  {
   "cell_type": "code",
   "execution_count": null,
   "id": "3e9238c9-83be-471e-b4ee-62940f941ce4",
   "metadata": {},
   "outputs": [],
   "source": [
    "# How could you load the files again into two new variables, people2 and languages2\n",
    "\n",
    "arrays = np.load(\"data.npz\")\n",
    "people2 = arrays[\"people\"]\n",
    "languages2 = arrays[\"languages\"]\n",
    "print(people2)\n",
    "print(languages2)"
   ]
  },
  {
   "cell_type": "code",
   "execution_count": null,
   "id": "05dbbe29-7b09-42e7-bd28-c5b999f1152a",
   "metadata": {},
   "outputs": [],
   "source": [
    "# Given \n",
    "# arr = np.arange(1,13).reshape(3,4)\n",
    "# Save it to a csv file, \"myrray.csv\".\n",
    "arr = np.arange(1,13).reshape(3,4)\n",
    "np.savetxt(\"myarray.csv\", arr, delimiter=\",\")"
   ]
  },
  {
   "cell_type": "code",
   "execution_count": null,
   "id": "4ba692a5-9de6-41c2-9ef3-2cf32f6b3935",
   "metadata": {},
   "outputs": [],
   "source": [
    "# How would you load it back into arr2?\n",
    "# My guess: arr2 = np.loadtxt(\"myarray.csv\", delimiter=\",\")\n",
    "arr2 = np.loadtxt(\"myarray.csv\", delimiter=\",\")\n",
    "arr2"
   ]
  },
  {
   "cell_type": "code",
   "execution_count": null,
   "id": "44a727b0-fe2d-4bd0-a9a0-1c053df15db3",
   "metadata": {},
   "outputs": [],
   "source": [
    "# Given \n",
    "\n",
    "lumberjack = np.array(\"I'm a lumberjack and I'm OK I sleep all night and I work all day\".split(\" \"))\n",
    "lumberjack\n"
   ]
  },
  {
   "cell_type": "code",
   "execution_count": null,
   "id": "333cab80-895e-4b55-bef1-31c1905fb7e5",
   "metadata": {},
   "outputs": [],
   "source": [
    "# How could you capitalize the first character of each string?\n",
    "# Guessed np.capitalize(lumberjack) wrong\n",
    "np.char.capitalize(lumberjack)"
   ]
  },
  {
   "cell_type": "code",
   "execution_count": null,
   "id": "11934bc2-e138-4735-ab81-7a08cefe37a6",
   "metadata": {},
   "outputs": [],
   "source": [
    "# What would you expect the value of np.char.capitalize(lunberjack)[2] to be?\n",
    "# My answer \"Lumberjack\"\n",
    "np.char.capitalize(lumberjack)[2]"
   ]
  },
  {
   "cell_type": "code",
   "execution_count": null,
   "id": "452a193d-06da-4db4-bbe1-f47b154de04a",
   "metadata": {},
   "outputs": [],
   "source": [
    "# How could you surround each string with an initial and final asterisk character (*)?  \n",
    "# Guessed add takes n arguments, wrong, need two arguments at a time\n",
    "np.char.add(np.char.add(\"*\", lumberjack), \"*\")"
   ]
  },
  {
   "cell_type": "code",
   "execution_count": null,
   "id": "d28f1de2-6329-4036-abce-268fd6cc209a",
   "metadata": {},
   "outputs": [],
   "source": [
    "# np.where can be used to make selections.  How can we use this to create a smaller array of those strings that have a length >= 5?\n",
    "# My guess np.where(lumberjack, np.length(lumberjack) >= 5)  Way off."
   ]
  },
  {
   "cell_type": "code",
   "execution_count": null,
   "id": "8d279d64-e5fd-4841-b2a1-4283207afbbd",
   "metadata": {},
   "outputs": [],
   "source": [
    "np.where(np.char.str_len(lumberjack) >=5)"
   ]
  },
  {
   "cell_type": "code",
   "execution_count": null,
   "id": "b3c073c8-984e-42d1-85b4-161dd02176ba",
   "metadata": {},
   "outputs": [],
   "source": [
    "lumberjack[np.where(np.char.str_len(lumberjack) >=5)]"
   ]
  }
 ],
 "metadata": {
  "kernelspec": {
   "display_name": "Python 3 (ipykernel)",
   "language": "python",
   "name": "python3"
  },
  "language_info": {
   "codemirror_mode": {
    "name": "ipython",
    "version": 3
   },
   "file_extension": ".py",
   "mimetype": "text/x-python",
   "name": "python",
   "nbconvert_exporter": "python",
   "pygments_lexer": "ipython3",
   "version": "3.10.2"
  }
 },
 "nbformat": 4,
 "nbformat_minor": 5
}
