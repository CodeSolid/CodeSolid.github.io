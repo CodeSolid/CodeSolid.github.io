{
 "cells": [
  {
   "cell_type": "markdown",
   "id": "ad8430d2-aaeb-49e6-8ceb-e108f6cc2507",
   "metadata": {},
   "source": [
    "# Python Lists for Beginners\n",
    "\n",
    "Here are the runnable exercises for [Python Lists for Beginners](https://codesolid.com/python-lists-for-beginners/)."
   ]
  },
  {
   "cell_type": "markdown",
   "id": "8215603a-06f6-4ced-b213-76a89d8d189a",
   "metadata": {},
   "source": [
    "#1. Create a list of three of your favorite foods. Save it in a variable called foods."
   ]
  },
  {
   "cell_type": "code",
   "execution_count": 2,
   "id": "24a6b0f2-b684-429f-af3b-3cbc0f633151",
   "metadata": {},
   "outputs": [],
   "source": [
    "# Your code here:"
   ]
  },
  {
   "cell_type": "markdown",
   "id": "c977005c-c3b3-4e86-a6f9-e63f13ac9ed6",
   "metadata": {},
   "source": [
    "#2. From your list of favorite foods, select the second item."
   ]
  },
  {
   "cell_type": "code",
   "execution_count": null,
   "id": "afb374c6-37d6-4bd7-bf15-e9bf6f27a622",
   "metadata": {},
   "outputs": [],
   "source": []
  },
  {
   "cell_type": "markdown",
   "id": "82648a2f-bd8b-49a5-a140-0ec4347a45ae",
   "metadata": {},
   "source": [
    "#3. Using a slice, create a __reversed__ copy of your list of favorite food"
   ]
  },
  {
   "cell_type": "code",
   "execution_count": null,
   "id": "4bfdf0f5-9708-4519-8972-a9a93a8ff2d2",
   "metadata": {},
   "outputs": [],
   "source": []
  },
  {
   "cell_type": "markdown",
   "id": "9d4c91bc-b5c8-4f8c-b236-7ea597b5b961",
   "metadata": {},
   "source": [
    "#4. ```my name is john\".upper()``` returns the string \"MY NAME IS JOHN\".  Given that fact, create an uppercase list of your favorite foods using a for loop."
   ]
  },
  {
   "cell_type": "code",
   "execution_count": null,
   "id": "e72dd2f3-9cae-4815-8f32-d09b22c36cd9",
   "metadata": {},
   "outputs": [],
   "source": []
  },
  {
   "cell_type": "markdown",
   "id": "b74d3d84-cc8b-4b1a-9b47-e6431b588dce",
   "metadata": {},
   "source": [
    "#5. Create a second uppercase list of your favorite foods, using a list comprehension."
   ]
  },
  {
   "cell_type": "code",
   "execution_count": null,
   "id": "f2a0578d-cb85-45b2-b87e-5c90124e152a",
   "metadata": {},
   "outputs": [],
   "source": []
  },
  {
   "cell_type": "markdown",
   "id": "c741bce4-3350-4c26-9254-61cb908d356e",
   "metadata": {},
   "source": [
    "For exercises 6-14, use the following list as your starting point.  (Tip:  If you run the cell below, you can use the variables in cells beneath)."
   ]
  },
  {
   "cell_type": "code",
   "execution_count": 3,
   "id": "05e1dcab-94b5-4b12-8945-3c5e2d315a67",
   "metadata": {},
   "outputs": [],
   "source": [
    "letters = ['A', 'B', 'C', 'D', 'E', 'F', 'G']"
   ]
  },
  {
   "cell_type": "markdown",
   "id": "9c5beabc-29f2-4a00-b3a8-1a4cddf63e06",
   "metadata": {},
   "source": [
    "#6. Use a function to get the length of the letters list.  Display it."
   ]
  },
  {
   "cell_type": "code",
   "execution_count": null,
   "id": "2a34eea0-94ab-4b19-89c3-457b016d5360",
   "metadata": {},
   "outputs": [],
   "source": []
  },
  {
   "cell_type": "markdown",
   "id": "d0a0b26d-af4a-4cbc-adff-c39ba362ea15",
   "metadata": {},
   "source": [
    "#7. Get the last item in the list, using a positive index."
   ]
  },
  {
   "cell_type": "code",
   "execution_count": null,
   "id": "935e5c4c-d4ef-4d08-99d3-ed0397d7a81d",
   "metadata": {},
   "outputs": [],
   "source": []
  },
  {
   "cell_type": "markdown",
   "id": "ae77974a-f14e-4705-8b51-2aeae2b530f9",
   "metadata": {},
   "source": [
    "#8. Get the last item in the list, using a negative index."
   ]
  },
  {
   "cell_type": "code",
   "execution_count": null,
   "id": "aff50a74-4df9-4691-ab7c-b1d344530450",
   "metadata": {},
   "outputs": [],
   "source": []
  },
  {
   "cell_type": "markdown",
   "id": "266bcbe8-1c98-4878-8e1f-7d7360886c3e",
   "metadata": {},
   "source": [
    "#9. Write a slice expression to return the letters D through F (inclusive)"
   ]
  },
  {
   "cell_type": "code",
   "execution_count": null,
   "id": "df0a85ea-7d41-4ef0-91fb-98bc7c2be08d",
   "metadata": {},
   "outputs": [],
   "source": []
  },
  {
   "cell_type": "markdown",
   "id": "192abf51-b10c-406e-87f5-3e61168a52f7",
   "metadata": {},
   "source": [
    "#10. Write a slice expression that returns the following list: ['A', 'D', 'G']"
   ]
  },
  {
   "cell_type": "code",
   "execution_count": null,
   "id": "675662a9-5b3b-4318-9e1e-641b538d1105",
   "metadata": {},
   "outputs": [],
   "source": []
  },
  {
   "cell_type": "markdown",
   "id": "1916e3c4-eed6-49d2-b8a3-75a734597037",
   "metadata": {},
   "source": [
    "#11. Based on what you learned in exercise 4, can you guess how to write a program to return a list of lowercase letters based on the letters list?"
   ]
  },
  {
   "cell_type": "code",
   "execution_count": null,
   "id": "b60851be-3ccd-44d8-8dc2-cf2b17cb08ae",
   "metadata": {},
   "outputs": [],
   "source": []
  },
  {
   "cell_type": "markdown",
   "id": "ee759433-ae66-4a90-b869-39b5e52673f1",
   "metadata": {},
   "source": [
    "#12. For #11, did you iterate the list using a list comprehension or a for loop? Why?"
   ]
  },
  {
   "cell_type": "raw",
   "id": "e946152d-4f51-4020-99e7-8f1cb1c695d1",
   "metadata": {},
   "source": []
  },
  {
   "cell_type": "markdown",
   "id": "c7ba997b-f3bc-40f7-bd4f-5e186636db65",
   "metadata": {},
   "source": [
    "#13. How could you return a copy of the list using a slice expression?"
   ]
  },
  {
   "cell_type": "code",
   "execution_count": null,
   "id": "d59a3b70-2712-4852-bbaf-e09e60c16248",
   "metadata": {},
   "outputs": [],
   "source": []
  },
  {
   "cell_type": "markdown",
   "id": "f7e85a4f-be38-4cd1-9ab4-b10e648bed1b",
   "metadata": {},
   "source": [
    "#14. How could you return a list that looks like the list below?\n",
    "\n",
    "```python\n",
    "['G', 'F', 'E', 'D', 'C', 'B', 'A']\n",
    "```"
   ]
  },
  {
   "cell_type": "code",
   "execution_count": null,
   "id": "53bb6ae1-93d8-4d58-83d7-dd448b26f630",
   "metadata": {},
   "outputs": [],
   "source": []
  },
  {
   "cell_type": "markdown",
   "id": "e0b1aaad-fde4-4ee1-be99-5619c5dfb979",
   "metadata": {},
   "source": [
    "#15. The range function returns a sequence — that is to say, it can be used as you would use a list inside a for-loop or list comprehension. For example:\n",
    "\n",
    "```python\n",
    "num_list = [x for x in range(1,6)]\n",
    "print(num_list)\n",
    "```\n",
    "\n",
    "Output:\n",
    "```python\n",
    "[1, 2, 3, 4, 5]\n",
    "```\n",
    "\n",
    "Based on what you know about slice syntax, what would you expect the output of the following code to be?"
   ]
  },
  {
   "cell_type": "code",
   "execution_count": null,
   "id": "f0bed101-27cb-4818-b839-21b4d5fc54c2",
   "metadata": {},
   "outputs": [],
   "source": []
  },
  {
   "cell_type": "markdown",
   "id": "de12d72f-727f-4057-8e8f-0dd8cdad4808",
   "metadata": {},
   "source": [
    "#16. What do you predict will be printed by the code below?\n",
    "\n",
    "```python\n",
    "num_list = [x for x in range(1,6)]\n",
    "num_list[0:2] = [99, 100]\n",
    "print(num_list)\n",
    "```"
   ]
  },
  {
   "cell_type": "code",
   "execution_count": null,
   "id": "1fab657d-d75b-4d3b-a70c-dadf585e504b",
   "metadata": {},
   "outputs": [],
   "source": []
  },
  {
   "cell_type": "markdown",
   "id": "ebd32022-3a6f-48e9-b9a2-66ec950cdce3",
   "metadata": {},
   "source": [
    "#17. Here’s a slight variation on the code from #16. What do you expect will be printed by the following code?\n",
    "\n",
    "```python\n",
    "num_list = [x for x in range(1,6)]\n",
    "other_list = num_list[:]\n",
    "other_list[0:2] = [99, 100]\n",
    "print(num_list)\n",
    "```"
   ]
  },
  {
   "cell_type": "code",
   "execution_count": null,
   "id": "0caa2ae6-16d6-4620-8633-cb378e278555",
   "metadata": {},
   "outputs": [],
   "source": []
  }
 ],
 "metadata": {
  "kernelspec": {
   "display_name": "Python 3 (ipykernel)",
   "language": "python",
   "name": "python3"
  },
  "language_info": {
   "codemirror_mode": {
    "name": "ipython",
    "version": 3
   },
   "file_extension": ".py",
   "mimetype": "text/x-python",
   "name": "python",
   "nbconvert_exporter": "python",
   "pygments_lexer": "ipython3",
   "version": "3.10.2"
  }
 },
 "nbformat": 4,
 "nbformat_minor": 5
}
