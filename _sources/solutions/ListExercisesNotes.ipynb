{
 "cells": [
  {
   "cell_type": "code",
   "execution_count": 1,
   "id": "12c945ab-0086-44a3-b068-cfdcf6625f5c",
   "metadata": {},
   "outputs": [
    {
     "data": {
      "text/plain": [
       "[0, 1, 2, 3, 4, 5, 6, 7, 8, 9, 10]"
      ]
     },
     "execution_count": 1,
     "metadata": {},
     "output_type": "execute_result"
    }
   ],
   "source": [
    "numbers = [0,1,2,3,4,5,6,7,8,9,10]\n",
    "numbers"
   ]
  },
  {
   "cell_type": "code",
   "execution_count": 24,
   "id": "d67e5058-37a0-474c-b690-dd8a86d038d7",
   "metadata": {},
   "outputs": [
    {
     "name": "stdout",
     "output_type": "stream",
     "text": [
      "first_four = [0, 1, 2, 3]\n",
      "last_three = [8, 9, 10]\n",
      "last_three_again = [8, 9, 10]\n",
      "copy_of_list = [0, 1, 2, 3, 4, 5, 6, 7, 8, 9, 10]\n",
      "every_other_number = [0, 2, 4, 6, 8, 10]\n",
      "every_other_number = [0, 2, 4, 6, 8, 10]\n",
      "reversed =  [10, 9, 8, 7, 6, 5, 4, 3, 2, 1, 0]\n"
     ]
    }
   ],
   "source": [
    "first_four = numbers[0:4]\n",
    "print(\"first_four =\", first_four)\n",
    "\n",
    "last_three = numbers[8:]\n",
    "print(\"last_three =\", last_three)\n",
    "\n",
    "last_three_again = numbers[:-3]\n",
    "print(\"last_three_again =\", last_three)\n",
    "\n",
    "copy_of_list = numbers[:]\n",
    "print(\"copy_of_list =\", copy_of_list)\n",
    "\n",
    "every_other_number = numbers[0::2]\n",
    "print(\"every_other_number =\", every_other_number)\n",
    "\n",
    "every_other_number = numbers[0::2]\n",
    "print(\"every_other_number =\", every_other_number)\n",
    "\n",
    "reversed = numbers[::-1]\n",
    "print(\"reversed = \", reversed)\n",
    "\n",
    "\n"
   ]
  },
  {
   "cell_type": "code",
   "execution_count": 25,
   "id": "29f0ca82-bc28-4aee-9d49-bfb06dc0d428",
   "metadata": {},
   "outputs": [
    {
     "name": "stdout",
     "output_type": "stream",
     "text": [
      "last_three_again = [8, 9, 10]\n",
      "every_other_number = [0, 2, 4, 6, 8, 10]\n",
      "reversed =  [10, 9, 8, 7, 6, 5, 4, 3, 2, 1, 0]\n"
     ]
    }
   ],
   "source": [
    "last_three_again = numbers[:-3]\n",
    "print(\"last_three_again =\", last_three)\n",
    "\n",
    "every_other_number = numbers[0::2]\n",
    "print(\"every_other_number =\", every_other_number)\n",
    "\n",
    "reversed = numbers[::-1]\n",
    "print(\"reversed = \", reversed)"
   ]
  },
  {
   "cell_type": "code",
   "execution_count": 28,
   "id": "1bab7f24-04df-490d-ada5-747e076ef564",
   "metadata": {},
   "outputs": [
    {
     "data": {
      "text/plain": [
       "['A', 'B', 'C', 'D', 'E', 'F', 'G']"
      ]
     },
     "execution_count": 28,
     "metadata": {},
     "output_type": "execute_result"
    }
   ],
   "source": [
    "letters = ['A', 'B', 'C', 'D', 'E', 'F', 'G']\n",
    "letters"
   ]
  }
 ],
 "metadata": {
  "kernelspec": {
   "display_name": "Python 3 (ipykernel)",
   "language": "python",
   "name": "python3"
  },
  "language_info": {
   "codemirror_mode": {
    "name": "ipython",
    "version": 3
   },
   "file_extension": ".py",
   "mimetype": "text/x-python",
   "name": "python",
   "nbconvert_exporter": "python",
   "pygments_lexer": "ipython3",
   "version": "3.10.2"
  }
 },
 "nbformat": 4,
 "nbformat_minor": 5
}
