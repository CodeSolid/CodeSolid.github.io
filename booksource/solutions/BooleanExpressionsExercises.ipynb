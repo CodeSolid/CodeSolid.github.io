{
 "cells": [
  {
   "cell_type": "markdown",
   "id": "68325f78-d075-48de-b52a-ebe786ad75c2",
   "metadata": {},
   "source": [
    "# Python If/Else and Booleans:  Examples and Practice Questions\n",
    "\n",
    "These are the solutions for the exercises in [Boolean Expressions in Python: Beginner to Expert](https://codesolid.com/boolean-expressions-python/).  For the runnable exercises without the solutions, [this notebook](../exercises/BooleanExpressionsExercises.ipynb).\n",
    "\n",
    "For each of the following questions, give the best answer.  You can assume all code is indented/aligned correctly at the left even if it appears indented slightly in the question text.\n",
    "\n",
    "__1.__ The following Python code contains one or more errors.  How would you correct them?\n",
    "\n",
    "```\n",
    "water_level = 5\n",
    "\n",
    "if water_level > 3\n",
    "    print(\"Open flood gates\")\n",
    "else\n",
    "    print(\"Normal operations\")\n",
    "```"
   ]
  },
  {
   "cell_type": "markdown",
   "id": "d3e96a5f-1e4c-4f94-8713-d2cebdae5ff2",
   "metadata": {},
   "source": [
    "Add a colon at end of if line and else line"
   ]
  },
  {
   "cell_type": "code",
   "execution_count": null,
   "id": "2e8c825f-f4bb-41bc-81fd-ea45c604cda1",
   "metadata": {},
   "outputs": [
    {
     "name": "stdout",
     "output_type": "stream",
     "text": [
      "Open flood gates\n"
     ]
    }
   ],
   "source": [
    "water_level = 5\n",
    "\n",
    "if water_level > 3:\n",
    "    print(\"Open flood gates\")\n",
    "else:\n",
    "    print(\"Normal operations\")\n"
   ]
  },
  {
   "cell_type": "markdown",
   "id": "5130c4ad-dce9-4564-a7b2-46936f5ead7f",
   "metadata": {},
   "source": [
    "__2.__ Which of the following is not a boolean expression, and why?\n",
    "\n",
    "\n",
    "1. 5 < 2\n",
    "1. 2 < 3\n",
    "1. 3.5 <= 7\n",
    "1. 3 = 7\n",
    "1. my_variable is not None"
   ]
  },
  {
   "cell_type": "markdown",
   "id": "dced07e9-84a2-4658-888e-5645d9d5004d",
   "metadata": {},
   "source": [
    "Number 4 is not a boolean expression, it should be double equals, not single. Single equals is used for assignment, as in message = \"Hello\".  Some others evaluate to False, that's OK, they're still valid boolean expressions.  Number 5 might throw an exception if my_variable is not defined, but it's valid otherwise."
   ]
  },
  {
   "cell_type": "markdown",
   "id": "c72b0682-68ce-43b8-93d0-3383b5560410",
   "metadata": {},
   "source": [
    "__3.__ What does the following print?\n",
    "\n",
    "```\n",
    "noise_level = 2\n",
    "heat_output_percent = 98\n",
    "\n",
    "if noise_level > 4 or heat_output_percent < 95:\n",
    "    print(\"Call technician\")\n",
    "else:\n",
    "    print(\"Normal operation\")\n",
    "\n",
    "```"
   ]
  },
  {
   "cell_type": "markdown",
   "id": "ba18aeb7-338f-41c2-834b-a96389f44128",
   "metadata": {},
   "source": [
    "Normal operation"
   ]
  },
  {
   "cell_type": "markdown",
   "id": "743b9c21-ded7-413b-9e93-15e3b5100cdb",
   "metadata": {},
   "source": [
    "__4.__ What does the following print:\n",
    "```\n",
    "to_be = True\n",
    "\n",
    "print(to_be and not to_be)\n",
    "print(to_be or not to_be)\n",
    "```"
   ]
  },
  {
   "cell_type": "markdown",
   "id": "4ebb7c3b-97fb-4370-ae66-5799cbd0d536",
   "metadata": {},
   "source": [
    "False  \n",
    "True"
   ]
  },
  {
   "cell_type": "markdown",
   "id": "b425864c-5c6d-4545-835b-fb5168aefe86",
   "metadata": {},
   "source": [
    "__5.__ What does the following print:\n",
    "\n",
    "```\n",
    "water_level = 3\n",
    "time_of_day = \"PM\"\n",
    "heat_ouput_percent = 75\n",
    "\n",
    "print(water_level > 5 and time_of_day == \"PM\" or heat_output_percent < 90)\n",
    "```"
   ]
  },
  {
   "cell_type": "markdown",
   "id": "56612cf7-d788-4d58-892a-446648a269ee",
   "metadata": {},
   "source": [
    "False"
   ]
  },
  {
   "cell_type": "markdown",
   "id": "8d817ec6-8f31-478a-8f79-d266fecdfe35",
   "metadata": {},
   "source": [
    "__6.__  The following code works OK, but what if anything is wrong with it?\n",
    "```\n",
    "if (3 > 10) or (4.5 > 9):\n",
    "    print(\"Gotcha!\")\n",
    "```"
   ]
  },
  {
   "cell_type": "markdown",
   "id": "be08d574-bb40-4e30-afba-d0137a72447b",
   "metadata": {},
   "source": [
    "What is the value of obscure after the following code runs?\n",
    "\n",
    "```\n",
    "obscure = True and False or False or True\n",
    "```"
   ]
  },
  {
   "cell_type": "markdown",
   "id": "e9747fd5-0a79-4eb0-95fd-71c5f61a14ac",
   "metadata": {},
   "source": [
    "True.  The ```and``` expression is evaluated first, and evaluates to False. But because the final term of the ```or``` clauses is True, obscure evaluates to true."
   ]
  },
  {
   "cell_type": "markdown",
   "id": "6d19607f-29c6-4a8e-b622-9047883e6fba",
   "metadata": {},
   "source": [
    "__7.__ How might the following code be improved:\n",
    "\n",
    "```    \n",
    "rebounds = None\n",
    "\n",
    "if rebounds != None:\n",
    "    print(\"Got some rebounds!\")\n",
    "else:\n",
    "    print(\"No rebounds\")\n",
    "```    "
   ]
  },
  {
   "cell_type": "markdown",
   "id": "454fb363-d3e2-445b-ab1e-2ae44275c2eb",
   "metadata": {},
   "source": [
    "Although this code works, the recommended way to write the if clause in this case would be:\n",
    "    \n",
    "```\n",
    "if rebounds is not None:\n",
    "```"
   ]
  },
  {
   "cell_type": "markdown",
   "id": "17723efa-73a7-401f-b339-6af5cea6580d",
   "metadata": {},
   "source": [
    "__8.__ In the following code, which expressions are evaluated?\n",
    "\n",
    "```\n",
    "light_level = 10\n",
    "decibel_level = 30\n",
    "result = decibel_level > 50 or light_level == 10\n",
    "```\n",
    "\n",
    "A) decibel_level > 50\n",
    "\n",
    "B) light_level == 10 \n",
    "\n",
    "C) Both A and B \n",
    "\n",
    "D) Neither A nor B \n",
    "\n"
   ]
  },
  {
   "cell_type": "markdown",
   "id": "8ee4c2f9-88fc-4616-ae5a-4b6fb821e461",
   "metadata": {},
   "source": [
    "C.  Both are evaluated.  The first comparison evaluates to False, but since it is an \"or\" statement, evaluation needs to continue to see if the second comparison is true."
   ]
  },
  {
   "cell_type": "markdown",
   "id": "cc8a1e99-1d6c-4718-98f6-1e0459617f46",
   "metadata": {},
   "source": [
    "__9.__ Which of the following statements is false?  There may be more than one.\n",
    "\n",
    "<pre>\n",
    "A) An else clause must be preceded by an if clause.\n",
    "B) An if clause must be followed by an else clause.\n",
    "C) Usually, a Boolean expression contains one or more comparison operations.\n",
    "D) Boolean expressions can appear outside of an if statement.\n",
    "E) Boolean expressions must include a Boolean literal (i.e. one of the the keywords \"True\" or \"False\")\n",
    "</pre>\n"
   ]
  },
  {
   "cell_type": "markdown",
   "id": "8ccd1836-0aad-4883-bd73-9b7ffac992c2",
   "metadata": {},
   "source": [
    "B and E are false.  B is false because if clauses do not need to be followed by either elif or else.  Those clauses are optional.  E is false because Boolean expressions can have a Boolean literal most don't -- they simply contain comparison operations."
   ]
  },
  {
   "cell_type": "markdown",
   "id": "18941676-8478-48a4-8534-d5565590ed5f",
   "metadata": {},
   "source": [
    "__10__. What is the error in the following code?  How would you fix it?\n",
    "\n",
    "```\n",
    "water_level = 5\n",
    "\n",
    "if water_level and water_level < 3:\n",
    "    print(\"Normal operations\")\n",
    "else if water_level >= 3 and water_level <= 4.5:\n",
    "    print(\"Call City Manager\")\n",
    "else:\n",
    "    print(\"Open flood gates and call City Manager\")\n",
    "```"
   ]
  },
  {
   "cell_type": "markdown",
   "id": "d6105f94-a7e1-4f97-b709-7202436f5494",
   "metadata": {},
   "source": [
    "The code \"else if\" should be replaced with \"elif\", as below:"
   ]
  },
  {
   "cell_type": "code",
   "execution_count": 9,
   "id": "1ee60fa0-d9c7-4bf1-9e05-9f25dcdda77a",
   "metadata": {},
   "outputs": [
    {
     "name": "stdout",
     "output_type": "stream",
     "text": [
      "Open flood gates and call City Manager\n"
     ]
    }
   ],
   "source": [
    "water_level = 5\n",
    "\n",
    "if water_level and water_level < 3:\n",
    "    print(\"Normal operations\")\n",
    "elif water_level >= 3 and water_level <= 4.5:\n",
    "    print(\"Call City Manager\")\n",
    "else:\n",
    "    print(\"Open flood gates and call City Manager\")"
   ]
  }
 ],
 "metadata": {
  "kernelspec": {
   "display_name": "Python 3 (ipykernel)",
   "language": "python",
   "name": "python3"
  },
  "language_info": {
   "codemirror_mode": {
    "name": "ipython",
    "version": 3
   },
   "file_extension": ".py",
   "mimetype": "text/x-python",
   "name": "python",
   "nbconvert_exporter": "python",
   "pygments_lexer": "ipython3",
   "version": "3.10.2"
  }
 },
 "nbformat": 4,
 "nbformat_minor": 5
}
