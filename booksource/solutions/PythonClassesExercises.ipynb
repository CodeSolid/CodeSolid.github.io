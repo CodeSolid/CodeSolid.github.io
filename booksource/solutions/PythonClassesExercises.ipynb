{
 "cells": [
  {
   "cell_type": "markdown",
   "id": "e478390e-8f04-4485-93d5-426792a7787b",
   "metadata": {},
   "source": [
    "# Practice Exercises for Python Classes and Objects\n",
    "\n",
    "These are the companion exercises to the article, [Python Classes Zero to Expert](https://codesolid.com/getting-started-with-python-classes/)."
   ]
  },
  {
   "cell_type": "markdown",
   "id": "04769deb-06ef-470a-a3a8-d1bab80a93db",
   "metadata": {},
   "source": [
    "The code  below has two bugs. Can you spot them?  Try to do it without running the code.\n",
    "\n",
    "```python\n",
    "class Pet:\n",
    "    def init(self, name):\n",
    "        self.name = name\n",
    "        \n",
    "    def move():\n",
    "        return f\"{self.name} is moving...\"\n",
    "```"
   ]
  },
  {
   "cell_type": "markdown",
   "id": "26775bc5-8739-440c-b9b1-f079d5da4caa",
   "metadata": {},
   "source": [
    "Rewrite the code from the last question so that the test below works and prints \"Fritz is moving...\""
   ]
  },
  {
   "cell_type": "code",
   "execution_count": 6,
   "id": "5204463d-9581-4055-9c8e-95a1b913242c",
   "metadata": {},
   "outputs": [
    {
     "name": "stdout",
     "output_type": "stream",
     "text": [
      "Fritz is moving...\n"
     ]
    }
   ],
   "source": [
    "# Paste and fix the code below:\n",
    "\n",
    "# Leave this code\n",
    "dog = Pet(\"Fritz\")\n",
    "print(dog.move())"
   ]
  },
  {
   "cell_type": "markdown",
   "id": "4831a33c-1b43-48aa-a299-b6fbcda4f951",
   "metadata": {},
   "source": [
    "Write a simple Tag class to encapsulate HTML tags, for example, \n",
    "\n",
    "```html\n",
    "<p>I am a paragraph.</p>\n",
    "```\n",
    "The constructor should save the text to be wrapped in the HTML tag, and the ```render``` method should return the text wrapped in the opening and closing HTML tag.  Using inheritance, create subclasses for Paragraph (tag is as above) and ListItem (tag looks like ```<li>I am a list item</li>```)."
   ]
  },
  {
   "cell_type": "code",
   "execution_count": null,
   "id": "d120816f-e309-4521-8547-0e94d115e227",
   "metadata": {},
   "outputs": [],
   "source": []
  }
 ],
 "metadata": {
  "kernelspec": {
   "display_name": "Python 3 (ipykernel)",
   "language": "python",
   "name": "python3"
  },
  "language_info": {
   "codemirror_mode": {
    "name": "ipython",
    "version": 3
   },
   "file_extension": ".py",
   "mimetype": "text/x-python",
   "name": "python",
   "nbconvert_exporter": "python",
   "pygments_lexer": "ipython3",
   "version": "3.10.2"
  }
 },
 "nbformat": 4,
 "nbformat_minor": 5
}
