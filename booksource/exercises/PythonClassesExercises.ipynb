{
 "cells": [
  {
   "cell_type": "markdown",
   "id": "e478390e-8f04-4485-93d5-426792a7787b",
   "metadata": {},
   "source": [
    "# Practice Exercises for Python Classes and Objects\n",
    "\n",
    "These are the companion exercises to the article, [Python Classes Zero to Expert](https://codesolid.com/getting-started-with-python-classes/)."
   ]
  },
  {
   "cell_type": "markdown",
   "id": "04769deb-06ef-470a-a3a8-d1bab80a93db",
   "metadata": {},
   "source": [
    "**1.** The code  below has two bugs. Can you spot them?  Try to do it without running the code.\n",
    "\n",
    "```python\n",
    "class Pet:\n",
    "    def init(self, name):\n",
    "        self.name = name\n",
    "        \n",
    "    def move():\n",
    "        return f\"{self.name} is moving...\"\n",
    "```"
   ]
  },
  {
   "cell_type": "markdown",
   "id": "26775bc5-8739-440c-b9b1-f079d5da4caa",
   "metadata": {},
   "source": [
    "**2.** Rewrite the code from the last question so that the test below works and prints \"Fritz is moving...\""
   ]
  },
  {
   "cell_type": "code",
   "execution_count": 6,
   "id": "5204463d-9581-4055-9c8e-95a1b913242c",
   "metadata": {},
   "outputs": [
    {
     "name": "stdout",
     "output_type": "stream",
     "text": [
      "Fritz is moving...\n"
     ]
    }
   ],
   "source": [
    "# Paste and fix the code here:\n",
    "\n",
    "# Leave this code\n",
    "dog = Pet(\"Fritz\")\n",
    "print(dog.move())"
   ]
  },
  {
   "cell_type": "markdown",
   "id": "4831a33c-1b43-48aa-a299-b6fbcda4f951",
   "metadata": {},
   "source": [
    "**3.** Write a simple Tag class to encapsulate HTML tags, for example, \n",
    "\n",
    "```html\n",
    "<p>I am a paragraph.</p>\n",
    "```\n",
    "The constructor should save the text to be wrapped in the HTML tag, and the ```render``` method should return the text wrapped in the opening and closing HTML tag.  Using inheritance, create subclasses for Paragraph (tag is as above) and ListItem (tag looks like ```<li>I am a list item</li>```)."
   ]
  },
  {
   "cell_type": "code",
   "execution_count": null,
   "id": "e9ca8f12-17f7-40c5-af67-b9c403bbe176",
   "metadata": {},
   "outputs": [],
   "source": []
  },
  {
   "cell_type": "markdown",
   "id": "655b3379-5a1d-44ba-9af6-e51876c2cc90",
   "metadata": {},
   "source": [
    "**4.** For the tag class hierarchy, can you think of how this might be implemented as a function?  Which way would you think is simpler and more maintainable?"
   ]
  },
  {
   "cell_type": "markdown",
   "id": "5f15a537-ea51-41da-a9d9-87397c28e934",
   "metadata": {},
   "source": []
  },
  {
   "cell_type": "markdown",
   "id": "13cb602d-b7dd-4cb1-8cff-8ebefadbf05c",
   "metadata": {},
   "source": [
    "**5.** Create an abstract base class, ```Shape```, with a single abstract method, ```draw```.  Implement two child classes, ```Elipse``` and ```Rectangle```, that override the draw method.  For the implementation, you can substitute a stub (a simple string printout saying what the class is drawing)."
   ]
  },
  {
   "cell_type": "code",
   "execution_count": null,
   "id": "58db0919-367f-4800-9e0b-09d07c663c45",
   "metadata": {},
   "outputs": [],
   "source": []
  },
  {
   "cell_type": "markdown",
   "id": "ccb36414-44a4-4340-bf23-f3791575fa18",
   "metadata": {},
   "source": [
    "**6.** You will need to create an __init__ method with some data for this task. For the Rectangle class that you defined above, print a rectangle using characters and the code to test it, for example:\n",
    "\n",
    "```\n",
    "# ... Implementation code above:\n",
    "\n",
    "r = Rectangle(5,3)\n",
    "r.draw()\n",
    "*****\n",
    "*****\n",
    "*****\n",
    "```"
   ]
  },
  {
   "cell_type": "code",
   "execution_count": null,
   "id": "6975cf5c-76a1-4723-a851-6951c19b3945",
   "metadata": {},
   "outputs": [],
   "source": []
  },
  {
   "cell_type": "markdown",
   "id": "b0e63811-4d2d-43bc-985a-b6e1d6d835b8",
   "metadata": {},
   "source": [
    "**7.** Modify the Rectangle class to make the character that gets printed configurable, but with a default of X. Write code to test it."
   ]
  },
  {
   "cell_type": "code",
   "execution_count": null,
   "id": "8d9e820f-9487-47c6-b7fe-1b80444430db",
   "metadata": {},
   "outputs": [],
   "source": []
  },
  {
   "cell_type": "markdown",
   "id": "5105be77-5d23-4747-9913-602b5b3c7076",
   "metadata": {},
   "source": [
    "**8.**  Create Square as a subclass of Rectangle, which does the right thing for a square. Change the default value of the character to %But continue to allow it to be overridden."
   ]
  },
  {
   "cell_type": "code",
   "execution_count": null,
   "id": "261c1b95-ed8e-4bfa-a48a-cdaf83c1fa00",
   "metadata": {},
   "outputs": [],
   "source": []
  },
  {
   "cell_type": "markdown",
   "id": "fcb05f0a-2f3d-4160-b434-2cab953c942b",
   "metadata": {
    "tags": []
   },
   "source": [
    "**9.** For each of the classes created above in exercises 5-8, implement a reasonable ```__str__``` method and test."
   ]
  },
  {
   "cell_type": "code",
   "execution_count": null,
   "id": "4e547959-a18c-42e4-ba1c-e10c7bed1a19",
   "metadata": {},
   "outputs": [],
   "source": []
  },
  {
   "cell_type": "markdown",
   "id": "84b1a9d9-2339-49ef-a9fc-831cb24f267d",
   "metadata": {},
   "source": [
    "**10.** For each of the classes created above in exercises 5-8, implement a reasonable ```__repr__``` method and test."
   ]
  },
  {
   "cell_type": "code",
   "execution_count": null,
   "id": "c49a1099-fc44-413a-a52a-e870bf6d3c9e",
   "metadata": {},
   "outputs": [],
   "source": []
  }
 ],
 "metadata": {
  "kernelspec": {
   "display_name": "Python 3 (ipykernel)",
   "language": "python",
   "name": "python3"
  },
  "language_info": {
   "codemirror_mode": {
    "name": "ipython",
    "version": 3
   },
   "file_extension": ".py",
   "mimetype": "text/x-python",
   "name": "python",
   "nbconvert_exporter": "python",
   "pygments_lexer": "ipython3",
   "version": "3.10.2"
  }
 },
 "nbformat": 4,
 "nbformat_minor": 5
}
