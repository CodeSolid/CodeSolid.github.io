{
 "cells": [
  {
   "cell_type": "markdown",
   "id": "f22321c4-05e7-4bdd-a258-1bb20b89b9f2",
   "metadata": {},
   "source": [
    "This is a notebook I wrote while as a \"solution set\" to a set of NumPy exercises, or \"quiz questions\" to test your knowledge of NumPy.  I'll have more to say about this shortly."
   ]
  },
  {
   "cell_type": "code",
   "execution_count": 1,
   "id": "5f072d39-1dd8-412d-8e99-ee3209251b93",
   "metadata": {},
   "outputs": [],
   "source": [
    "import numpy as np"
   ]
  },
  {
   "cell_type": "markdown",
   "id": "fc249983-6007-4c27-9287-712075a77864",
   "metadata": {},
   "source": [
    "## Array Creation\n",
    "\n",
    "NumPy supports a variety of methods for array creation."
   ]
  },
  {
   "cell_type": "code",
   "execution_count": 4,
   "id": "f426501a-74cf-4af1-bc18-034534b3c024",
   "metadata": {},
   "outputs": [
    {
     "data": {
      "text/plain": [
       "array([ 10,  20,  30,  40,  50,  60,  70,  80,  90, 100])"
      ]
     },
     "execution_count": 4,
     "metadata": {},
     "output_type": "execute_result"
    }
   ],
   "source": [
    "# How would you create a one dimensional NumPy array of the numbers from 10 to 100, counting by 10?\n",
    "\n",
    "np.arange(10, 110, 10)"
   ]
  },
  {
   "cell_type": "code",
   "execution_count": 5,
   "id": "80352bc0-bb0a-49ea-97fb-dd396bdd08ab",
   "metadata": {},
   "outputs": [
    {
     "data": {
      "text/plain": [
       "array([ 10,  20,  30,  40,  50,  60,  70,  80,  90, 100])"
      ]
     },
     "execution_count": 5,
     "metadata": {},
     "output_type": "execute_result"
    }
   ],
   "source": [
    "# How could you do the same thing with a standard Python range and a list?\n",
    "\n",
    "np.array([i for i in range(10, 110, 10)])"
   ]
  },
  {
   "cell_type": "code",
   "execution_count": 4,
   "id": "6e81bf28-4463-485c-a47f-155fb068674f",
   "metadata": {},
   "outputs": [],
   "source": [
    "# What does np.array() do (no arguments passed to constructor).  Guess:  exception?\n",
    "\n",
    "# np.array()"
   ]
  },
  {
   "cell_type": "code",
   "execution_count": 5,
   "id": "16405be3-a548-44a7-859b-37413301444c",
   "metadata": {},
   "outputs": [],
   "source": [
    "# How might you construct a NumPy array of capital letters (A-Z) "
   ]
  },
  {
   "cell_type": "code",
   "execution_count": 6,
   "id": "d694e846-760c-4664-b9c7-a92cfdbe8d14",
   "metadata": {},
   "outputs": [
    {
     "data": {
      "text/plain": [
       "dtype('<U14')"
      ]
     },
     "execution_count": 6,
     "metadata": {},
     "output_type": "execute_result"
    }
   ],
   "source": [
    "arr = np.array(['fee', 'fi', 'fo', 'fumble-dee-dum'])\n",
    "arr.dtype"
   ]
  },
  {
   "cell_type": "code",
   "execution_count": 7,
   "id": "b52a1cb8-80af-457e-afd2-04e1490560bb",
   "metadata": {},
   "outputs": [
    {
     "data": {
      "text/plain": [
       "dtype('<U1')"
      ]
     },
     "execution_count": 7,
     "metadata": {},
     "output_type": "execute_result"
    }
   ],
   "source": [
    "arr = np.array([chr(i) for i in range(ord('A'), ord('Z') + 1)])\n",
    "arr.dtype\n",
    "arr[0].dtype"
   ]
  },
  {
   "cell_type": "code",
   "execution_count": 8,
   "id": "72382829-d390-49b2-9ff2-5ef95a2680aa",
   "metadata": {},
   "outputs": [
    {
     "name": "stdout",
     "output_type": "stream",
     "text": [
      "[0. 0. 0. 0. 0. 0. 0. 0. 0. 0.]\n",
      "[1. 1. 1. 1. 1. 1. 1. 1. 1. 1.]\n"
     ]
    }
   ],
   "source": [
    "# How would you create a ten-element array of all zeros?  \n",
    "print(np.zeros(10))\n",
    "\n",
    "# Of all ones?\n",
    "print(np.ones(10))\n"
   ]
  },
  {
   "cell_type": "code",
   "execution_count": 9,
   "id": "2f7cb258-330a-40a5-8834-21cbe7698e04",
   "metadata": {},
   "outputs": [
    {
     "data": {
      "text/plain": [
       "dtype('float64')"
      ]
     },
     "execution_count": 9,
     "metadata": {},
     "output_type": "execute_result"
    }
   ],
   "source": [
    "# What is the default data dype for the np.zeros function?\n",
    "# Guess is float64\n",
    "\n",
    "df = np.zeros(10)\n",
    "df.dtype"
   ]
  },
  {
   "cell_type": "code",
   "execution_count": 10,
   "id": "4c75caaf-e958-4e36-8de5-d961d4486b3f",
   "metadata": {},
   "outputs": [
    {
     "data": {
      "text/plain": [
       "array([1, 2, 3, 4, 3, 3, 2, 4, 3, 4])"
      ]
     },
     "execution_count": 10,
     "metadata": {},
     "output_type": "execute_result"
    }
   ],
   "source": [
    "# How can you create an array of 10 random integers?\n",
    "\n",
    "np.random.randint(1, 6, 10)"
   ]
  },
  {
   "cell_type": "code",
   "execution_count": 11,
   "id": "f7158956-24a4-43ff-a010-bd402fae8035",
   "metadata": {},
   "outputs": [
    {
     "data": {
      "text/plain": [
       "array([4.35624055, 4.58353886, 6.62534603, 5.24529626, 5.51954865,\n",
       "       6.25301288, 5.09138161, 5.50577968, 6.05544588, 6.36303494])"
      ]
     },
     "execution_count": 11,
     "metadata": {},
     "output_type": "execute_result"
    }
   ],
   "source": [
    "# How can you create a normal distribution of 10 numbers, centered on 5? \n",
    "# Note, the 1 in center represents mu, size of STD DEV, and is arbitrary.\n",
    "\n",
    "np.random.normal(5, 1, 10)"
   ]
  },
  {
   "cell_type": "code",
   "execution_count": 12,
   "id": "dc5e8220-3fa2-4851-b45c-58cca3a0f981",
   "metadata": {},
   "outputs": [
    {
     "data": {
      "text/plain": [
       "array([0.34209804, 0.7537605 , 0.38723756, 0.54313884, 0.85229294,\n",
       "       0.07247103, 0.74355315, 0.83994233, 0.03041159, 0.44543551])"
      ]
     },
     "execution_count": 12,
     "metadata": {},
     "output_type": "execute_result"
    }
   ],
   "source": [
    "# How can you create an array of 10 random numbers in the range 0 - 1?\n",
    "\n",
    "np.random.rand(10)"
   ]
  },
  {
   "cell_type": "markdown",
   "id": "84dddbf7-fb7f-420d-bc1f-91c3154972d6",
   "metadata": {},
   "source": [
    "# Multidimensional arrays\n"
   ]
  },
  {
   "cell_type": "code",
   "execution_count": 13,
   "id": "9b570674-e7e0-4faa-a902-320051aff59f",
   "metadata": {},
   "outputs": [
    {
     "data": {
      "text/plain": [
       "array([[0., 0., 0., 0., 0.],\n",
       "       [0., 0., 0., 0., 0.],\n",
       "       [0., 0., 0., 0., 0.]])"
      ]
     },
     "execution_count": 13,
     "metadata": {},
     "output_type": "execute_result"
    }
   ],
   "source": [
    "np.zeros((3, 5))"
   ]
  },
  {
   "cell_type": "code",
   "execution_count": 14,
   "id": "582200e8-e936-40ce-9adc-d639c96c2680",
   "metadata": {},
   "outputs": [
    {
     "data": {
      "text/plain": [
       "array([[ 1,  2,  3,  4],\n",
       "       [ 5,  6,  7,  8],\n",
       "       [ 9, 10, 11, 12]])"
      ]
     },
     "execution_count": 14,
     "metadata": {},
     "output_type": "execute_result"
    }
   ],
   "source": [
    "myarray = np.arange(1, 13).reshape(3, 4)\n",
    "myarray"
   ]
  },
  {
   "cell_type": "code",
   "execution_count": 15,
   "id": "9ad5156c-2d5f-40d3-a19b-9170b40c2089",
   "metadata": {},
   "outputs": [
    {
     "data": {
      "text/plain": [
       "7"
      ]
     },
     "execution_count": 15,
     "metadata": {},
     "output_type": "execute_result"
    }
   ],
   "source": [
    "myarray[1,2]"
   ]
  },
  {
   "cell_type": "code",
   "execution_count": 16,
   "id": "42fb03ca-033a-475b-82a1-f5e0399a4cc6",
   "metadata": {},
   "outputs": [
    {
     "data": {
      "text/plain": [
       "2"
      ]
     },
     "execution_count": 16,
     "metadata": {},
     "output_type": "execute_result"
    }
   ],
   "source": [
    "myarray.ndim"
   ]
  },
  {
   "cell_type": "code",
   "execution_count": 17,
   "id": "8daa3694-3c11-4301-ba18-46e4be1f7e01",
   "metadata": {},
   "outputs": [
    {
     "data": {
      "text/plain": [
       "array([[ 1,  2,  3,  4,  5,  6],\n",
       "       [ 7,  8,  9, 10, 11, 12]])"
      ]
     },
     "execution_count": 17,
     "metadata": {},
     "output_type": "execute_result"
    }
   ],
   "source": [
    "myarray.reshape(2,6)"
   ]
  },
  {
   "cell_type": "code",
   "execution_count": 18,
   "id": "c5928434-6ed0-4b3c-823f-70648b484115",
   "metadata": {},
   "outputs": [
    {
     "data": {
      "text/plain": [
       "array(['A', 'B', 'C', 'D', 'E', 'F', 'G', 'H', 'I', 'J', 'K', 'L', 'M',\n",
       "       'N', 'O', 'P', 'Q', 'R', 'S', 'T', 'U', 'V', 'W', 'X', 'Y', 'Z'],\n",
       "      dtype='<U1')"
      ]
     },
     "execution_count": 18,
     "metadata": {},
     "output_type": "execute_result"
    }
   ],
   "source": [
    "arr"
   ]
  },
  {
   "cell_type": "code",
   "execution_count": 19,
   "id": "4d648629-a4d3-4a15-8c39-5352e41ec9c2",
   "metadata": {},
   "outputs": [
    {
     "data": {
      "text/plain": [
       "(3, 4)"
      ]
     },
     "execution_count": 19,
     "metadata": {},
     "output_type": "execute_result"
    }
   ],
   "source": [
    "myarray.shape"
   ]
  },
  {
   "cell_type": "code",
   "execution_count": 20,
   "id": "72f66823-409b-4fb3-8ad5-5ba51119fcdd",
   "metadata": {},
   "outputs": [
    {
     "data": {
      "text/plain": [
       "array([[ 1,  2,  3,  4,  5,  6],\n",
       "       [ 7,  8,  9, 10, 11, 12]])"
      ]
     },
     "execution_count": 20,
     "metadata": {},
     "output_type": "execute_result"
    }
   ],
   "source": [
    "myarray.reshape(2,6)"
   ]
  },
  {
   "cell_type": "code",
   "execution_count": 21,
   "id": "797c9764-6f92-4112-bf31-7545db1501b2",
   "metadata": {},
   "outputs": [
    {
     "data": {
      "text/plain": [
       "array([[ 1,  2,  3,  4],\n",
       "       [ 5,  6,  7,  8],\n",
       "       [ 9, 10, 11, 12]])"
      ]
     },
     "execution_count": 21,
     "metadata": {},
     "output_type": "execute_result"
    }
   ],
   "source": [
    "myarray"
   ]
  },
  {
   "cell_type": "code",
   "execution_count": 22,
   "id": "e5ca08be-78d2-4f1f-9031-fc6c98d75622",
   "metadata": {},
   "outputs": [
    {
     "data": {
      "text/plain": [
       "array([[ 1,  2,  3,  4],\n",
       "       [ 5,  6,  7,  8],\n",
       "       [ 9, 10, 11, 12]])"
      ]
     },
     "execution_count": 22,
     "metadata": {},
     "output_type": "execute_result"
    }
   ],
   "source": [
    "x = myarray\n",
    "x"
   ]
  },
  {
   "cell_type": "code",
   "execution_count": 23,
   "id": "f077a492-d21b-41e6-9c90-f5138375755f",
   "metadata": {},
   "outputs": [
    {
     "data": {
      "text/plain": [
       "array([[42,  2,  3,  4],\n",
       "       [ 5,  6,  7,  8],\n",
       "       [ 9, 10, 11, 12]])"
      ]
     },
     "execution_count": 23,
     "metadata": {},
     "output_type": "execute_result"
    }
   ],
   "source": [
    "x[0,0] = 42\n",
    "myarray"
   ]
  },
  {
   "cell_type": "code",
   "execution_count": 24,
   "id": "6bb52949-e8bd-470b-97c5-db21a4506fb5",
   "metadata": {},
   "outputs": [
    {
     "data": {
      "text/plain": [
       "array([[ 4,  4, 10,  9],\n",
       "       [ 2,  3, 10,  9],\n",
       "       [ 1,  3,  3,  6]])"
      ]
     },
     "execution_count": 24,
     "metadata": {},
     "output_type": "execute_result"
    }
   ],
   "source": [
    "# Create a 3x4 array of random integers between 1 and 10 \n",
    "np.random.randint(1, 11, (3,4))\n"
   ]
  },
  {
   "cell_type": "code",
   "execution_count": 25,
   "id": "477de4fd-de29-4673-90f9-0f02eafd62b8",
   "metadata": {},
   "outputs": [
    {
     "data": {
      "text/plain": [
       "array([[ 8,  8,  6,  6],\n",
       "       [ 4, 10,  3,  7],\n",
       "       [ 6, 10,  5,  2]])"
      ]
     },
     "execution_count": 25,
     "metadata": {},
     "output_type": "execute_result"
    }
   ],
   "source": [
    "# ... or:\n",
    "    \n",
    "arr = np.random.randint(1,11,12).reshape(3,4)\n",
    "arr"
   ]
  },
  {
   "cell_type": "code",
   "execution_count": 26,
   "id": "50c4ec18-19f7-4388-b77b-9cbecbf843f6",
   "metadata": {},
   "outputs": [
    {
     "data": {
      "text/plain": [
       "array([[0, 0, 0, 0],\n",
       "       [0, 0, 0, 0],\n",
       "       [0, 0, 0, 0]])"
      ]
     },
     "execution_count": 26,
     "metadata": {},
     "output_type": "execute_result"
    }
   ],
   "source": [
    "arr - arr"
   ]
  },
  {
   "cell_type": "code",
   "execution_count": 27,
   "id": "981ea130-d8ea-4130-9338-225223593a5a",
   "metadata": {},
   "outputs": [],
   "source": [
    "\n",
    "z_list = [z for z in range(0,5)]\n",
    "y_list = [z_list for y in range(0,4)]\n",
    "x_list = [y_list for x in range(0,3)]\n",
    "\n",
    "x_array = np.array(x_list)\n",
    "\n",
    "\n",
    "         "
   ]
  },
  {
   "cell_type": "code",
   "execution_count": 28,
   "id": "c347cf60-68ee-4176-bc5d-932af651559e",
   "metadata": {},
   "outputs": [
    {
     "data": {
      "text/plain": [
       "(3, 4, 5)"
      ]
     },
     "execution_count": 28,
     "metadata": {},
     "output_type": "execute_result"
    }
   ],
   "source": [
    "# My guess is x_array.shape == 3,4,5.  Correct but show tuple brackets would be better\n",
    "x_array.shape"
   ]
  },
  {
   "cell_type": "code",
   "execution_count": 29,
   "id": "fc78bfe7-cf2e-4a2c-8035-6cf70e2c3876",
   "metadata": {},
   "outputs": [
    {
     "data": {
      "text/plain": [
       "3"
      ]
     },
     "execution_count": 29,
     "metadata": {},
     "output_type": "execute_result"
    }
   ],
   "source": [
    "# What is the value of x_array.ndim?\n",
    "x_array.ndim"
   ]
  },
  {
   "cell_type": "code",
   "execution_count": 108,
   "id": "3295de06-6160-419c-a73a-b11df5fcf910",
   "metadata": {},
   "outputs": [
    {
     "data": {
      "text/plain": [
       "array([[0, 3],\n",
       "       [1, 4],\n",
       "       [2, 5]])"
      ]
     },
     "execution_count": 108,
     "metadata": {},
     "output_type": "execute_result"
    }
   ],
   "source": [
    "# Given the following:\n",
    "arr = np.arange(0,6).reshape(2,3)\n",
    "arr\n",
    "# How could you convert it to an array that looks like\n",
    "# array([[0,3], [1,4], [2,5]))\n",
    "# My answer either arr.transpose() or arr.T\n",
    "# (arr.transpose() == arr.T).all()\n",
    "# Note difference is mutablity?  NO!  Both return a view.  Need to copy.\n",
    "arr.transpose()\n"
   ]
  },
  {
   "cell_type": "code",
   "execution_count": 87,
   "id": "35d03861-17b9-42d4-aea3-b42c5aba8652",
   "metadata": {},
   "outputs": [
    {
     "data": {
      "text/plain": [
       "array([[ 1,  2,  3,  4,  5],\n",
       "       [ 6,  7,  8,  9, 10],\n",
       "       [11, 12, 13, 14, 15],\n",
       "       [16, 17, 18, 19, 20]])"
      ]
     },
     "execution_count": 87,
     "metadata": {},
     "output_type": "execute_result"
    }
   ],
   "source": [
    "four_by_five = np.arange(1, 21).reshape(4,5)\n",
    "four_by_five"
   ]
  },
  {
   "cell_type": "code",
   "execution_count": 31,
   "id": "d3882a92-0a58-415f-b55c-1a286288e7ce",
   "metadata": {},
   "outputs": [
    {
     "data": {
      "text/plain": [
       "array([1, 2, 3, 4, 5])"
      ]
     },
     "execution_count": 31,
     "metadata": {},
     "output_type": "execute_result"
    }
   ],
   "source": [
    "# Write an exoression to return the first row\n",
    "four_by_five[0]"
   ]
  },
  {
   "cell_type": "code",
   "execution_count": 32,
   "id": "2b8a9a1c-045a-4c03-b8e8-897bfe253d78",
   "metadata": {},
   "outputs": [
    {
     "data": {
      "text/plain": [
       "array([16, 17, 18, 19, 20])"
      ]
     },
     "execution_count": 32,
     "metadata": {},
     "output_type": "execute_result"
    }
   ],
   "source": [
    "# Write an exoression to return the last row\n",
    "four_by_five[-1]"
   ]
  },
  {
   "cell_type": "code",
   "execution_count": 33,
   "id": "b2c4311c-51de-4f5a-801e-864b51666227",
   "metadata": {},
   "outputs": [
    {
     "data": {
      "text/plain": [
       "14"
      ]
     },
     "execution_count": 33,
     "metadata": {},
     "output_type": "execute_result"
    }
   ],
   "source": [
    "# What does four_by_five[2,3] return?  My answer, 14 (scalar)\n",
    "four_by_five[2,3]"
   ]
  },
  {
   "cell_type": "code",
   "execution_count": 34,
   "id": "ba187a5d-e6d4-452d-af36-951d9c0ce1ce",
   "metadata": {},
   "outputs": [
    {
     "data": {
      "text/plain": [
       "18"
      ]
     },
     "execution_count": 34,
     "metadata": {},
     "output_type": "execute_result"
    }
   ],
   "source": [
    "# What does four_by_five[3,2] return?  My answer, 18 (scalar)\n",
    "four_by_five[3,2]"
   ]
  },
  {
   "cell_type": "code",
   "execution_count": 35,
   "id": "f27bbdea-44d0-40db-840c-7ed785968bcc",
   "metadata": {},
   "outputs": [
    {
     "data": {
      "text/plain": [
       "array([ 1,  6, 11, 16])"
      ]
     },
     "execution_count": 35,
     "metadata": {},
     "output_type": "execute_result"
    }
   ],
   "source": [
    "# How could you return the first column?  It will be a (four-element array ending with 16.) My answer four_by_five[:,0]\n",
    "four_by_five[:,0]"
   ]
  },
  {
   "cell_type": "code",
   "execution_count": 36,
   "id": "e98683e1-25d4-4bb5-a0b4-046f37b76073",
   "metadata": {},
   "outputs": [
    {
     "data": {
      "text/plain": [
       "array([[ 3,  4],\n",
       "       [ 8,  9],\n",
       "       [13, 14],\n",
       "       [18, 19]])"
      ]
     },
     "execution_count": 36,
     "metadata": {},
     "output_type": "execute_result"
    }
   ],
   "source": [
    "# What does four_by_five[:, 2:4] return?\n",
    "# My answer the last two columns -- wrong, third and fourth columns\n",
    "four_by_five[:, 2:4]"
   ]
  },
  {
   "cell_type": "code",
   "execution_count": 37,
   "id": "55f8a1e5-6cd0-4171-9593-2a1c3414e290",
   "metadata": {},
   "outputs": [
    {
     "data": {
      "text/plain": [
       "array([[ 4,  5],\n",
       "       [ 9, 10],\n",
       "       [14, 15],\n",
       "       [19, 20]])"
      ]
     },
     "execution_count": 37,
     "metadata": {},
     "output_type": "execute_result"
    }
   ],
   "source": [
    "# Corrected question\n",
    "# What does four_by_five[:, 3:5] return?\n",
    "four_by_five[:, 3:5] "
   ]
  },
  {
   "cell_type": "code",
   "execution_count": 38,
   "id": "91aefd49-65f6-4ade-9d9e-163b7ec4bd04",
   "metadata": {},
   "outputs": [
    {
     "data": {
      "text/plain": [
       "array([[ 9, 10],\n",
       "       [14, 15]])"
      ]
     },
     "execution_count": 38,
     "metadata": {},
     "output_type": "execute_result"
    }
   ],
   "source": [
    "# Write an expression to return the last two columns of the middle two rows.\n",
    "four_by_five[1:3, 3:] "
   ]
  },
  {
   "cell_type": "code",
   "execution_count": 39,
   "id": "d8dab8a1-5d00-4c46-a838-7fbd0772876a",
   "metadata": {},
   "outputs": [
    {
     "data": {
      "text/plain": [
       "array([1, 2, 3, 4, 5])"
      ]
     },
     "execution_count": 39,
     "metadata": {},
     "output_type": "execute_result"
    }
   ],
   "source": [
    "one_dim = np.arange(1,6)\n",
    "one_dim"
   ]
  },
  {
   "cell_type": "code",
   "execution_count": 40,
   "id": "59632045-f5c8-4571-90ff-c8ae172fddca",
   "metadata": {},
   "outputs": [
    {
     "data": {
      "text/plain": [
       "array([ 2,  4,  6,  8, 10])"
      ]
     },
     "execution_count": 40,
     "metadata": {},
     "output_type": "execute_result"
    }
   ],
   "source": [
    "# What would be the result of one_dim * 2\n",
    "# My answer array([2, 4, 6, 8, 10])\n",
    "one_dim * 2"
   ]
  },
  {
   "cell_type": "code",
   "execution_count": 41,
   "id": "1d8bac55-9919-42ca-a57b-8d96de4c055b",
   "metadata": {},
   "outputs": [
    {
     "data": {
      "text/plain": [
       "array([6, 6, 6, 6, 6])"
      ]
     },
     "execution_count": 41,
     "metadata": {},
     "output_type": "execute_result"
    }
   ],
   "source": [
    "# What would be the result of one_dim + np.arange(5, 0, -1)?\n",
    "# My answer:  array([ 6,  6,  6,  6, 6])\n",
    "one_dim + np.arange(5, 0, -1)"
   ]
  },
  {
   "cell_type": "code",
   "execution_count": 42,
   "id": "4930a95b-f550-4cdf-b779-e04c55b2d1d0",
   "metadata": {},
   "outputs": [
    {
     "data": {
      "text/plain": [
       "array([0, 0, 0, 0, 0])"
      ]
     },
     "execution_count": 42,
     "metadata": {},
     "output_type": "execute_result"
    }
   ],
   "source": [
    "# How many zeros are in the array returned by one_dim - one_dim ?\n",
    "# My answer: 5\n",
    "one_dim - one_dim"
   ]
  },
  {
   "cell_type": "code",
   "execution_count": 43,
   "id": "08e01f28-cc36-45af-8600-781fa11c3a98",
   "metadata": {},
   "outputs": [
    {
     "data": {
      "text/plain": [
       "array([False, False,  True,  True,  True])"
      ]
     },
     "execution_count": 43,
     "metadata": {},
     "output_type": "execute_result"
    }
   ],
   "source": [
    "# What is the result of one_dim > 2 ?\n",
    "# My answer:  array([F, F, T, T, T])  (abbreviated)\n",
    "one_dim > 2"
   ]
  },
  {
   "cell_type": "code",
   "execution_count": 44,
   "id": "da58dc9e-9d31-4422-9602-bbb7d50da8d6",
   "metadata": {},
   "outputs": [
    {
     "data": {
      "text/plain": [
       "array([ True, False, False, False,  True])"
      ]
     },
     "execution_count": 44,
     "metadata": {},
     "output_type": "execute_result"
    }
   ],
   "source": [
    "# For NumPy arrays, logical operations are done with the operators \"&\" and \"|\", \n",
    "# rather than the usual Python \"and\" and \"or\".  Given that, can you evaluate this expression?  \n",
    "# (one_dim > 4) | (one_dim == 1)\n",
    "# My answer: array([True, False, False, False, True])\n",
    "(one_dim > 4) | (one_dim == 1)"
   ]
  },
  {
   "cell_type": "code",
   "execution_count": 45,
   "id": "09b89fce-0a25-4756-aacc-353f960153ea",
   "metadata": {},
   "outputs": [
    {
     "data": {
      "text/plain": [
       "array([-1, -2, -3, -4, -5])"
      ]
     },
     "execution_count": 45,
     "metadata": {},
     "output_type": "execute_result"
    }
   ],
   "source": [
    "# What is the result of -one_dim?\n",
    "# My answer array([-1, -2, -3, -4, -5])\n",
    "-one_dim"
   ]
  },
  {
   "cell_type": "code",
   "execution_count": 46,
   "id": "ed5b0df9-9b73-4405-bbec-268bfaa98333",
   "metadata": {},
   "outputs": [
    {
     "data": {
      "text/plain": [
       "array([4, 5])"
      ]
     },
     "execution_count": 46,
     "metadata": {},
     "output_type": "execute_result"
    }
   ],
   "source": [
    "# np.absolute take the absolute value of each element.  Given that, what would the result be of the following expression:\n",
    "# My answer 4,5\n",
    "np.absolute(-(one_dim[3:]))"
   ]
  },
  {
   "cell_type": "code",
   "execution_count": 47,
   "id": "f4612ae8-f93f-4296-8631-56d7ada74092",
   "metadata": {},
   "outputs": [
    {
     "data": {
      "text/plain": [
       "15"
      ]
     },
     "execution_count": 47,
     "metadata": {},
     "output_type": "execute_result"
    }
   ],
   "source": [
    "# What is returned by one_dim.sum()?\n",
    "# My answer: 15\n",
    "one_dim.sum()"
   ]
  },
  {
   "cell_type": "code",
   "execution_count": 48,
   "id": "e97074f7-fd56-4274-99ad-7dbcaa4ecada",
   "metadata": {},
   "outputs": [
    {
     "data": {
      "text/plain": [
       "3.0"
      ]
     },
     "execution_count": 48,
     "metadata": {},
     "output_type": "execute_result"
    }
   ],
   "source": [
    "# What is the value of one_dim.mean() ?\n",
    "\n",
    "\n",
    "one_dim.mean() # The median!\n"
   ]
  },
  {
   "cell_type": "code",
   "execution_count": 50,
   "id": "b4a5e90d-f681-445e-a150-b103c44e6a8b",
   "metadata": {},
   "outputs": [
    {
     "data": {
      "text/plain": [
       "array([0.        , 1.57079633, 3.14159265, 4.71238898, 6.28318531])"
      ]
     },
     "execution_count": 50,
     "metadata": {},
     "output_type": "execute_result"
    }
   ],
   "source": [
    "# Given the following...\n",
    "\n",
    "arr = np.array([0., .5, 1.0, 1.5, 2.0]) * np.pi\n",
    "arr"
   ]
  },
  {
   "cell_type": "code",
   "execution_count": 54,
   "id": "f1cfb763-4648-475a-83eb-d7472f33055c",
   "metadata": {},
   "outputs": [
    {
     "data": {
      "text/plain": [
       "array([ 0.,  1.,  0., -1., -0.])"
      ]
     },
     "execution_count": 54,
     "metadata": {},
     "output_type": "execute_result"
    }
   ],
   "source": [
    "# What are the \"approximate\" values for \n",
    "# np.around(np.sin(arr), 0)\n",
    "# My answer:  array(0, 1, 0, -1, 0)\n",
    "np.around(np.sin(arr), 0)\n"
   ]
  },
  {
   "cell_type": "code",
   "execution_count": 56,
   "id": "3b9c5f32-7009-4ba2-b2dc-31ec5d0ddfbd",
   "metadata": {},
   "outputs": [
    {
     "data": {
      "text/plain": [
       "array([ 1.,  0., -1., -0.,  1.])"
      ]
     },
     "execution_count": 56,
     "metadata": {},
     "output_type": "execute_result"
    }
   ],
   "source": [
    "# What are the approximate values for \n",
    "# np.around(np.cos(arr), 0)\n",
    "# My answer:  array(1, 0, -1, 0, 1)\n",
    "np.around(np.cos(arr), 0)"
   ]
  },
  {
   "cell_type": "code",
   "execution_count": 70,
   "id": "318d64da-cf28-448c-8052-a5545420ed1f",
   "metadata": {},
   "outputs": [],
   "source": [
    "# You're asked to save the following two arrays as is to a file, \"data.npz\". The arrays should be named as they are here in the file. How could you do it?\n",
    "people = np.array([\"John\", \"Jenniffer\", \"Helen\", \"Miryam\"])\n",
    "languages = np.array([2, 2, 1, 1])\n",
    "# My answer np.savez(\"data.npz\", people=people, languages=languages)\n",
    "np.savez(\"data.npz\", people=people, languages=languages)"
   ]
  },
  {
   "cell_type": "code",
   "execution_count": 71,
   "id": "3e9238c9-83be-471e-b4ee-62940f941ce4",
   "metadata": {},
   "outputs": [
    {
     "name": "stdout",
     "output_type": "stream",
     "text": [
      "['John' 'Jenniffer' 'Helen' 'Miryam']\n",
      "[2 2 1 1]\n"
     ]
    }
   ],
   "source": [
    "# How could you load the files again into two new variables, people2 and languages2\n",
    "\n",
    "arrays = np.load(\"data.npz\")\n",
    "people2 = arrays[\"people\"]\n",
    "languages2 = arrays[\"languages\"]\n",
    "print(people2)\n",
    "print(languages2)"
   ]
  },
  {
   "cell_type": "code",
   "execution_count": 79,
   "id": "05dbbe29-7b09-42e7-bd28-c5b999f1152a",
   "metadata": {},
   "outputs": [],
   "source": [
    "# Given \n",
    "# arr = np.arange(1,13).reshape(3,4)\n",
    "# Save it to a csv file, \"myrray.csv\".\n",
    "arr = np.arange(1,13).reshape(3,4)\n",
    "np.savetxt(\"myarray.csv\", arr, delimiter=\",\")"
   ]
  },
  {
   "cell_type": "code",
   "execution_count": 85,
   "id": "4ba692a5-9de6-41c2-9ef3-2cf32f6b3935",
   "metadata": {},
   "outputs": [
    {
     "data": {
      "text/plain": [
       "array([[ 1.,  2.,  3.,  4.],\n",
       "       [ 5.,  6.,  7.,  8.],\n",
       "       [ 9., 10., 11., 12.]])"
      ]
     },
     "execution_count": 85,
     "metadata": {},
     "output_type": "execute_result"
    }
   ],
   "source": [
    "# How would you load it back into arr2?\n",
    "# My guess: arr2 = np.loadtxt(\"myarray.csv\", delimiter=\",\")\n",
    "arr2 = np.loadtxt(\"myarray.csv\", delimiter=\",\")\n",
    "arr2"
   ]
  },
  {
   "cell_type": "code",
   "execution_count": 115,
   "id": "44a727b0-fe2d-4bd0-a9a0-1c053df15db3",
   "metadata": {},
   "outputs": [
    {
     "data": {
      "text/plain": [
       "array([\"I'm\", 'a', 'lumberjack', 'and', \"I'm\", 'OK', 'I', 'sleep', 'all',\n",
       "       'night', 'and', 'I', 'work', 'all', 'day'], dtype='<U10')"
      ]
     },
     "execution_count": 115,
     "metadata": {},
     "output_type": "execute_result"
    }
   ],
   "source": [
    "# Given \n",
    "\n",
    "lumberjack = np.array(\"I'm a lumberjack and I'm OK I sleep all night and I work all day\".split(\" \"))\n",
    "lumberjack\n"
   ]
  },
  {
   "cell_type": "code",
   "execution_count": 121,
   "id": "333cab80-895e-4b55-bef1-31c1905fb7e5",
   "metadata": {},
   "outputs": [
    {
     "data": {
      "text/plain": [
       "array([\"I'm\", 'a', 'lumberjack', 'and', \"I'm\", 'OK', 'I', 'sleep', 'all',\n",
       "       'night', 'and', 'I', 'work', 'all', 'day'], dtype='<U10')"
      ]
     },
     "execution_count": 121,
     "metadata": {},
     "output_type": "execute_result"
    }
   ],
   "source": [
    "# How could you capitalize the first character of each string?\n",
    "# Guessed np.capitalize(lumberjack) wrong\n",
    "np.char.capitalize(lumberjack)"
   ]
  },
  {
   "cell_type": "code",
   "execution_count": 124,
   "id": "11934bc2-e138-4735-ab81-7a08cefe37a6",
   "metadata": {},
   "outputs": [
    {
     "data": {
      "text/plain": [
       "'Lumberjack'"
      ]
     },
     "execution_count": 124,
     "metadata": {},
     "output_type": "execute_result"
    }
   ],
   "source": [
    "# What would you expect the value of np.char.capitalize(lunberjack)[2] to be?\n",
    "# My answer \"Lumberjack\"\n",
    "np.char.capitalize(lumberjack)[2]"
   ]
  },
  {
   "cell_type": "code",
   "execution_count": 127,
   "id": "452a193d-06da-4db4-bbe1-f47b154de04a",
   "metadata": {},
   "outputs": [
    {
     "data": {
      "text/plain": [
       "array([\"*I'm*\", '*a*', '*lumberjack*', '*and*', \"*I'm*\", '*OK*', '*I*',\n",
       "       '*sleep*', '*all*', '*night*', '*and*', '*I*', '*work*', '*all*',\n",
       "       '*day*'], dtype='<U12')"
      ]
     },
     "execution_count": 127,
     "metadata": {},
     "output_type": "execute_result"
    }
   ],
   "source": [
    "# How could you surround each string with an initial and final asterisk character (*)?  \n",
    "# Guessed add takes n arguments, wrong, need two arguments at a time\n",
    "np.char.add(np.char.add(\"*\", lumberjack), \"*\")"
   ]
  },
  {
   "cell_type": "code",
   "execution_count": 129,
   "id": "d28f1de2-6329-4036-abce-268fd6cc209a",
   "metadata": {},
   "outputs": [],
   "source": [
    "# np.where can be used to make selections.  How can we use this to create a smaller array of those strings that have a length >= 5?\n",
    "# My guess np.where(lumberjack, np.length(lumberjack) >= 5)  Way off."
   ]
  },
  {
   "cell_type": "code",
   "execution_count": 139,
   "id": "8d279d64-e5fd-4841-b2a1-4283207afbbd",
   "metadata": {},
   "outputs": [
    {
     "data": {
      "text/plain": [
       "(array([2, 7, 9]),)"
      ]
     },
     "execution_count": 139,
     "metadata": {},
     "output_type": "execute_result"
    }
   ],
   "source": [
    "np.where(np.char.str_len(lumberjack) >=5)"
   ]
  },
  {
   "cell_type": "code",
   "execution_count": 137,
   "id": "b3c073c8-984e-42d1-85b4-161dd02176ba",
   "metadata": {},
   "outputs": [
    {
     "data": {
      "text/plain": [
       "array(['lumberjack', 'sleep', 'night'], dtype='<U10')"
      ]
     },
     "execution_count": 137,
     "metadata": {},
     "output_type": "execute_result"
    }
   ],
   "source": [
    "lumberjack[np.where(np.char.str_len(lumberjack) >=5)]"
   ]
  }
 ],
 "metadata": {
  "kernelspec": {
   "display_name": "Python 3 (ipykernel)",
   "language": "python",
   "name": "python3"
  },
  "language_info": {
   "codemirror_mode": {
    "name": "ipython",
    "version": 3
   },
   "file_extension": ".py",
   "mimetype": "text/x-python",
   "name": "python",
   "nbconvert_exporter": "python",
   "pygments_lexer": "ipython3",
   "version": "3.10.1"
  }
 },
 "nbformat": 4,
 "nbformat_minor": 5
}
