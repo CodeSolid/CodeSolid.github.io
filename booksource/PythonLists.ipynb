{
 "cells": [
  {
   "cell_type": "markdown",
   "id": "c137fc4e-c709-4196-b272-27c4368c19f5",
   "metadata": {},
   "source": [
    "# Python Lists\n",
    "\n",
    "Python lists are one of the most flexible and widely used data types in Python.  The basic idea of a list is very easy to understand, because most people already know how to use a list in real life.  We might have a list of things to do, for example:\n",
    "\n",
    "* Finish work project\n",
    "* Stop at pharmacy\n",
    "* Return parrot to pet store\n",
    "\n",
    "Here's how easy it is to create a Python list with those items:"
   ]
  },
  {
   "cell_type": "code",
   "execution_count": 4,
   "id": "4460c6d1-dc51-41c2-b0cd-2cc6596a62d1",
   "metadata": {},
   "outputs": [
    {
     "name": "stdout",
     "output_type": "stream",
     "text": [
      "['Finish work project', 'Stop at pharmacy', 'Return parrot to pet store']\n"
     ]
    }
   ],
   "source": [
    "todo_list = [\"Finish work project\", \"Stop at pharmacy\", \"Return parrot to pet store\"]\n",
    "print(todo_list)"
   ]
  },
  {
   "cell_type": "markdown",
   "id": "e7b2c62f-74c8-413b-952d-922fd304be3f",
   "metadata": {},
   "source": [
    "We usually create a list with square brackets, as we've done here.  Square brackets tell Python we're dealing with a list. We can even create an empty list that way:"
   ]
  },
  {
   "cell_type": "code",
   "execution_count": 5,
   "id": "953898ad-c1b1-49a7-b382-a4e2de54ae15",
   "metadata": {},
   "outputs": [
    {
     "name": "stdout",
     "output_type": "stream",
     "text": [
      "<class 'list'>\n"
     ]
    }
   ],
   "source": [
    "empty = []\n",
    "print(type(empty))"
   ]
  },
  {
   "cell_type": "markdown",
   "id": "c2e9c6f2-2336-4183-b88e-92854c983df0",
   "metadata": {},
   "source": [
    "In the case of our todo list example, we wanted to populate the list in advance, so we included three strings. Inside the list, we separate each list item with a comma."
   ]
  },
  {
   "cell_type": "markdown",
   "id": "428bab6c-2b5d-4984-9d7b-f4fc26d3e253",
   "metadata": {},
   "source": [
    "## Lists can contain items of any Python type\n",
    "\n",
    "We can add any Python object to a list -- numbers, strings, dates, user-defined classes, dictionaries -- even other lists.  \n",
    "\n",
    "We can even mix and match types in a single list, but just as in real life, this isn't something you normally want to do unless the items are related somehow.  It would make the meaning of the list unclear, and it would be hard to write any kind of reasonable code to process the list."
   ]
  },
  {
   "cell_type": "code",
   "execution_count": 10,
   "id": "5d7d58e4-4008-4251-86ae-f3998c8fca3d",
   "metadata": {},
   "outputs": [],
   "source": [
    "# A list of numbers\n",
    "prime_numbers = [2,3,5,7]\n",
    "\n",
    "# The three stooges\n",
    "stooges = ['Moe', 'Larry', 'Curly']\n",
    "\n",
    "# A list of lists\n",
    "all_my_lists = [prime_numbers, stooges]\n",
    "\n",
    "# An unclear list of mixed types -- bad idea!\n",
    "some_list = [42, 3.14, \"Make some soup\", \"Yugoslavia\"]"
   ]
  },
  {
   "cell_type": "markdown",
   "id": "695df86b-c310-414c-81e1-6239be044131",
   "metadata": {},
   "source": [
    "## Python Lists are Ordered\n",
    "\n",
    "The elements in a Python list are ordered with numbers beginning with zero. Most programming languages begin counting from zero rather than one, so this is also how C and Java and JavaScript and many other languages do it. This means we can retrieve or change the items of the list if we know where they appear in the list.  \n",
    "\n",
    "Let's look at several things we can do with lists in the next code segment.  We'll start with a small list of countries to see what we can do."
   ]
  },
  {
   "cell_type": "code",
   "execution_count": 24,
   "id": "b6ded0b8-3a41-4d65-b03b-fff780ccf92d",
   "metadata": {},
   "outputs": [
    {
     "name": "stdout",
     "output_type": "stream",
     "text": [
      "United States\n",
      "Japan is at index:  2\n",
      "There are 4 countries in the list.\n",
      "['United States', 'Colombia', 'Japan', 'Republic of Kenya']\n"
     ]
    }
   ],
   "source": [
    "countries = ['United States', 'Colombia', 'Japan', 'Kenya']\n",
    "\n",
    "# Get the first country into a variable.  \n",
    "# Use the list name, the [] operator, and the zero-based index in the list.\n",
    "usa = countries[0]\n",
    "print(usa)\n",
    "\n",
    "# Find the zero based-index of Japan\n",
    "location = countries.index('Japan')\n",
    "print(\"Japan is at index: \", location)\n",
    "\n",
    "# Find out how many countries are in the list\n",
    "length = len(countries)\n",
    "print(\"There are\", length, \"countries in the list.\")\n",
    "\n",
    "# Change the last item in the list.\n",
    "# Since the list counting is zero based, the index of the last \n",
    "# item is the list's length - 1\n",
    "countries[length - 1] = 'Republic of Kenya'\n",
    "\n",
    "# Print the list\n",
    "print(countries)"
   ]
  },
  {
   "cell_type": "code",
   "execution_count": null,
   "id": "62164ec9-34c9-474d-af42-a4baaf70ed0f",
   "metadata": {},
   "outputs": [],
   "source": []
  }
 ],
 "metadata": {
  "kernelspec": {
   "display_name": "Python 3 (ipykernel)",
   "language": "python",
   "name": "python3"
  },
  "language_info": {
   "codemirror_mode": {
    "name": "ipython",
    "version": 3
   },
   "file_extension": ".py",
   "mimetype": "text/x-python",
   "name": "python",
   "nbconvert_exporter": "python",
   "pygments_lexer": "ipython3",
   "version": "3.10.2"
  }
 },
 "nbformat": 4,
 "nbformat_minor": 5
}
