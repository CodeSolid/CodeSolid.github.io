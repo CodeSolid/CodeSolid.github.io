{
 "cells": [
  {
   "cell_type": "markdown",
   "id": "54bd0ceb-343c-4e71-9e60-d2fef482421a",
   "metadata": {},
   "source": [
    "# Jupyter NoteBook Starter\n",
    "\n",
    "This is a Jupyter notebook example as described in the article [Jupyter Notebook:  A Complete Introduction](https://codesolid.com/jupyter-notebook-a-complete-introduction/).  This is a Markdown \"cell\" (row).  You can double-click this cell to view or edit the text.  When you're done editing, type Shift-ENTER to run the cell."
   ]
  },
  {
   "cell_type": "code",
   "execution_count": null,
   "id": "c0bf1366-50c0-46d6-b3d6-d7b789b8865e",
   "metadata": {},
   "outputs": [],
   "source": [
    "# This is a Python Code Cell.  It behaves like the Python terminal, \n",
    "# so it will display the results of the last expression.  You can also use print or other Python functions, or course.\n",
    "# Double-click on this cell if you want to edit the python code.  When you're ready to run it, type Shift-ENTER again.\n",
    "\n",
    "print(2+2)\n",
    "message = \"Hello from Python\"\n",
    "message"
   ]
  },
  {
   "cell_type": "markdown",
   "id": "72b510f4-e087-41b1-8183-accfd5ab5c3b",
   "metadata": {},
   "source": [
    "Jupyter Notebook supports Graphs using Matplotlib, Seaborn, etc.\n",
    "\n",
    "For the rest of the notebook, I saved the output so you could see how it looks."
   ]
  },
  {
   "cell_type": "code",
   "execution_count": 8,
   "id": "ae7c9f98-6a15-4f18-9a8c-d47bc8990107",
   "metadata": {},
   "outputs": [
    {
     "data": {
      "text/html": [
       "<div>\n",
       "<style scoped>\n",
       "    .dataframe tbody tr th:only-of-type {\n",
       "        vertical-align: middle;\n",
       "    }\n",
       "\n",
       "    .dataframe tbody tr th {\n",
       "        vertical-align: top;\n",
       "    }\n",
       "\n",
       "    .dataframe thead th {\n",
       "        text-align: right;\n",
       "    }\n",
       "</style>\n",
       "<table border=\"1\" class=\"dataframe\">\n",
       "  <thead>\n",
       "    <tr style=\"text-align: right;\">\n",
       "      <th></th>\n",
       "      <th>name</th>\n",
       "      <th>age</th>\n",
       "      <th>height_inches</th>\n",
       "    </tr>\n",
       "  </thead>\n",
       "  <tbody>\n",
       "    <tr>\n",
       "      <th>0</th>\n",
       "      <td>Roger</td>\n",
       "      <td>27</td>\n",
       "      <td>73</td>\n",
       "    </tr>\n",
       "    <tr>\n",
       "      <th>1</th>\n",
       "      <td>Juan</td>\n",
       "      <td>32</td>\n",
       "      <td>70</td>\n",
       "    </tr>\n",
       "    <tr>\n",
       "      <th>2</th>\n",
       "      <td>Marla</td>\n",
       "      <td>40</td>\n",
       "      <td>61</td>\n",
       "    </tr>\n",
       "    <tr>\n",
       "      <th>3</th>\n",
       "      <td>Diane</td>\n",
       "      <td>16</td>\n",
       "      <td>65</td>\n",
       "    </tr>\n",
       "  </tbody>\n",
       "</table>\n",
       "</div>"
      ],
      "text/plain": [
       "    name  age  height_inches\n",
       "0  Roger   27             73\n",
       "1   Juan   32             70\n",
       "2  Marla   40             61\n",
       "3  Diane   16             65"
      ]
     },
     "execution_count": 8,
     "metadata": {},
     "output_type": "execute_result"
    }
   ],
   "source": [
    "import pandas as pd\n",
    "from pandas import DataFrame\n",
    "import matplotlib.pyplot as plt\n",
    "\n",
    "data = {\n",
    "    'name': ['Roger', 'Juan', 'Marla', 'Diane'],\n",
    "    'age': [27, 32, 40, 16],\n",
    "    'height_inches': [73, 70, 61, 65]\n",
    "}\n",
    "\n",
    "df = DataFrame(data)\n",
    "df"
   ]
  },
  {
   "cell_type": "code",
   "execution_count": 12,
   "id": "6aee8293-ca7a-46c7-a791-9538bc5285c0",
   "metadata": {},
   "outputs": [
    {
     "data": {
      "image/png": "[encoded data removed]",
      "text/plain": [
       "<Figure size 432x288 with 1 Axes>"
      ]
     },
     "metadata": {
      "needs_background": "light"
     },
     "output_type": "display_data"
    }
   ],
   "source": [
    "df.plot(x='name', y='height_inches', kind='bar')\n",
    "plt.show()"
   ]
  },
  {
   "cell_type": "code",
   "execution_count": null,
   "id": "cf8f0a8a-23fd-4b12-9a70-3e9613e68794",
   "metadata": {},
   "outputs": [],
   "source": []
  }
 ],
 "metadata": {
  "kernelspec": {
   "display_name": "Python 3 (ipykernel)",
   "language": "python",
   "name": "python3"
  },
  "language_info": {
   "codemirror_mode": {
    "name": "ipython",
    "version": 3
   },
   "file_extension": ".py",
   "mimetype": "text/x-python",
   "name": "python",
   "nbconvert_exporter": "python",
   "pygments_lexer": "ipython3",
   "version": "3.10.2"
  }
 },
 "nbformat": 4,
 "nbformat_minor": 5
}
