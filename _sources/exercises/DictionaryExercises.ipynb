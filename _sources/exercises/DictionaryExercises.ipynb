{
 "cells": [
  {
   "cell_type": "markdown",
   "id": "27370f01-c5e1-41e0-9b68-250eaed4c03e",
   "metadata": {},
   "source": [
    "These are the exercises for the article [Python Dictionaries for Beginners:  A Complete Lesson With Exercises](https://codesolid.com/python-dictionaries-with-exercises)"
   ]
  },
  {
   "cell_type": "markdown",
   "id": "1a82921e-f36f-4b46-a9eb-cc34f6282b41",
   "metadata": {},
   "source": [
    "**1.** When should you prefer a dictionary over a list?  What advantages does it have?"
   ]
  },
  {
   "cell_type": "markdown",
   "id": "d97860d3-cb4f-430b-962d-09235a33f702",
   "metadata": {},
   "source": []
  },
  {
   "cell_type": "markdown",
   "id": "87c8b0b8-abcd-44fb-9901-f98ece18c9d0",
   "metadata": {},
   "source": [
    "**2.** Given the following elements and their symbols, create a dictionary that allows you to look up the symbol given the element name as a key. Assume the element name and symbol names have the cases as shown.  Name the dictionary \"elements\".\n",
    "\n",
    "* Hydrogen H\n",
    "* Bismuth Bi\n",
    "* Iron Fe\n",
    "* Carbon C\n",
    "* Silicon Si\n",
    "* Helium He\n"
   ]
  },
  {
   "cell_type": "code",
   "execution_count": null,
   "id": "ee63bb60-21e6-4d5d-98fb-43377338079d",
   "metadata": {},
   "outputs": [],
   "source": []
  },
  {
   "cell_type": "markdown",
   "id": "34a4a890-97bd-4e22-925c-20967fcb1a28",
   "metadata": {},
   "source": [
    "**3.** Write a for loop that loops over the elements dictionary you created in exercise 2, above.  Print each item as \"Symbol => Name\" on a single line,"
   ]
  },
  {
   "cell_type": "code",
   "execution_count": null,
   "id": "7d8052b6-1628-40c5-9db7-173417551061",
   "metadata": {},
   "outputs": [],
   "source": []
  },
  {
   "cell_type": "markdown",
   "id": "29e293d8-ac8c-417a-876e-b456a48ae57f",
   "metadata": {},
   "source": [
    "**4.** Assuming the elements dictionary is in scope (declared globally for example, or you can add it to the function), write a function that takes an element name and returns the symbol name.  If the element name is not found, return the string \"NOT FOUND\"."
   ]
  },
  {
   "cell_type": "code",
   "execution_count": null,
   "id": "11faf8b1-75a3-4fb9-9273-be4864cecb60",
   "metadata": {},
   "outputs": [],
   "source": [
    "def find_symbol(element: str):\n",
    "    \"\"\"Todo:  Replace None with your code\"\"\"\n",
    "    None"
   ]
  },
  {
   "cell_type": "markdown",
   "id": "a8bf4eda-04ec-430f-b9d9-8729b8444041",
   "metadata": {},
   "source": [
    "**5.** Add the following elements and their symbols to the elements table.\n",
    "\n",
    "* Oxygen O\n",
    "* Sodium Na\n",
    "* Zinc Zn"
   ]
  },
  {
   "cell_type": "code",
   "execution_count": null,
   "id": "0829919b-6f70-43cf-8294-af5629ad37e9",
   "metadata": {},
   "outputs": [],
   "source": []
  },
  {
   "cell_type": "markdown",
   "id": "3dfc09cd-6bd4-4119-b47d-da6c24cbf2e0",
   "metadata": {},
   "source": [
    "**6.** The elements table allows you to look up symbols, given an element name.  How could you create a dictionary that would allow you to look up the element name, given a symbol name?"
   ]
  },
  {
   "cell_type": "code",
   "execution_count": null,
   "id": "7323717f-9545-482f-9c3e-9adc39558fc2",
   "metadata": {},
   "outputs": [],
   "source": []
  },
  {
   "cell_type": "markdown",
   "id": "3c4d769f-9613-456b-9b18-cc8bc0924b78",
   "metadata": {},
   "source": [
    "**7.** You have a list of sensor IDs and sensor readings, as given in the next cell (the sensor ID comes first in each pair). Also shown is the code for iterating through the list. Write the code to create a dictionary that maps each unique sensor ID to a list of readings related to it, as shown in the following psuedocode:  ```{sensor_id:  [reading1, reading2, ...], ...}```  Name the dictionary \"readings\".\n"
   ]
  },
  {
   "cell_type": "code",
   "execution_count": 8,
   "id": "6cdf782c-f98f-4b37-b76b-e35e273df722",
   "metadata": {},
   "outputs": [
    {
     "name": "stdout",
     "output_type": "stream",
     "text": [
      "id = id001, reading = 93.9\n",
      "id = id001, reading = 93.9\n",
      "id = id007, reading = 33.5\n",
      "id = id001, reading = 22.0\n",
      "id = id003, reading = 55.1\n",
      "id = id007, reading = 22.1\n"
     ]
    }
   ],
   "source": [
    "reading_list = [(\"id001\", 93.9), (\"id001\", 93.9), (\"id007\", 33.5), (\"id001\", 22.0), (\"id003\", 55.1), (\"id007\", 22.10)]\n",
    "for reading in reading_list:\n",
    "    print(f\"id = {reading[0]}, reading = {reading[1]}\")\n",
    "\n",
    "# Your code to create the readings dictionary here:\n"
   ]
  },
  {
   "cell_type": "markdown",
   "id": "d0eadcc2-bdfa-4d25-b49d-4f79932c4e77",
   "metadata": {},
   "source": [
    "**8.** Write the code to create a dictionary named \"squares\".  Each key should be a number between one and ten, and each value should be the square of the number."
   ]
  },
  {
   "cell_type": "code",
   "execution_count": null,
   "id": "a4a5d709-d255-488d-bff1-605bf2bccefc",
   "metadata": {},
   "outputs": [],
   "source": []
  },
  {
   "cell_type": "markdown",
   "id": "0096e61c-6c9f-456f-8e6a-cafa75f45628",
   "metadata": {},
   "source": [
    "**10.** What is wrong with the following code?  You can run it if you need to in order to refresh your memory about this topic:\n",
    "```\n",
    "grades = {[99, 95]: \"Kalea\", [85, 100]: \"Antoine\"}\n",
    "grades\n",
    "```"
   ]
  },
  {
   "cell_type": "code",
   "execution_count": null,
   "id": "adafd94c-6806-49db-a43e-6cd014d4f3a4",
   "metadata": {},
   "outputs": [],
   "source": []
  },
  {
   "cell_type": "code",
   "execution_count": null,
   "id": "9b526524-9bd6-4c14-94a9-6c2739ba8691",
   "metadata": {},
   "outputs": [],
   "source": []
  }
 ],
 "metadata": {
  "kernelspec": {
   "display_name": "Python 3 (ipykernel)",
   "language": "python",
   "name": "python3"
  },
  "language_info": {
   "codemirror_mode": {
    "name": "ipython",
    "version": 3
   },
   "file_extension": ".py",
   "mimetype": "text/x-python",
   "name": "python",
   "nbconvert_exporter": "python",
   "pygments_lexer": "ipython3",
   "version": "3.10.2"
  }
 },
 "nbformat": 4,
 "nbformat_minor": 5
}
