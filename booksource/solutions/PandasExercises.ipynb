{
 "cells": [
  {
   "cell_type": "markdown",
   "id": "47fbeb51-864b-4e14-a0b2-fed06b014c2e",
   "metadata": {},
   "source": [
    "# Pandas Exercises"
   ]
  },
  {
   "cell_type": "markdown",
   "id": "1d26ef1e-3c49-4a46-a4c5-b68825d5a953",
   "metadata": {},
   "source": [
    "## Creating DataFrames and Using Sample Data Sets"
   ]
  },
  {
   "cell_type": "markdown",
   "id": "5252953e-79d1-43f3-9bf9-e4ef72e0987c",
   "metadata": {},
   "source": [
    "This is the Jupyter Notebook **solution set* for the article, [Pandas Practice Questions – Fifty-Two Examples to Make You an Expert](https://codesolid.com/pandas-practice-questions-twenty-one-examples-to-make-you-an-expert/)."
   ]
  },
  {
   "cell_type": "code",
   "execution_count": 1,
   "id": "df91e92f-5f2b-4e98-81f7-84e7478ed432",
   "metadata": {},
   "outputs": [],
   "source": [
    "import pandas as pd\n",
    "import numpy as np\n",
    "import seaborn as sb"
   ]
  },
  {
   "cell_type": "markdown",
   "id": "6950cc47-3cc0-4565-8df1-d01741b7ea5f",
   "metadata": {},
   "source": [
    "**1.** Using NumPy, create a Pandas DataFrame with five rows and three columms:"
   ]
  },
  {
   "cell_type": "code",
   "execution_count": 2,
   "id": "dd1a5014-d17e-4fd0-b7a2-db261a53a02a",
   "metadata": {},
   "outputs": [
    {
     "data": {
      "text/html": [
       "<div>\n",
       "<style scoped>\n",
       "    .dataframe tbody tr th:only-of-type {\n",
       "        vertical-align: middle;\n",
       "    }\n",
       "\n",
       "    .dataframe tbody tr th {\n",
       "        vertical-align: top;\n",
       "    }\n",
       "\n",
       "    .dataframe thead th {\n",
       "        text-align: right;\n",
       "    }\n",
       "</style>\n",
       "<table border=\"1\" class=\"dataframe\">\n",
       "  <thead>\n",
       "    <tr style=\"text-align: right;\">\n",
       "      <th></th>\n",
       "      <th>0</th>\n",
       "      <th>1</th>\n",
       "      <th>2</th>\n",
       "    </tr>\n",
       "  </thead>\n",
       "  <tbody>\n",
       "    <tr>\n",
       "      <th>0</th>\n",
       "      <td>0</td>\n",
       "      <td>1</td>\n",
       "      <td>2</td>\n",
       "    </tr>\n",
       "    <tr>\n",
       "      <th>1</th>\n",
       "      <td>3</td>\n",
       "      <td>4</td>\n",
       "      <td>5</td>\n",
       "    </tr>\n",
       "    <tr>\n",
       "      <th>2</th>\n",
       "      <td>6</td>\n",
       "      <td>7</td>\n",
       "      <td>8</td>\n",
       "    </tr>\n",
       "    <tr>\n",
       "      <th>3</th>\n",
       "      <td>9</td>\n",
       "      <td>10</td>\n",
       "      <td>11</td>\n",
       "    </tr>\n",
       "    <tr>\n",
       "      <th>4</th>\n",
       "      <td>12</td>\n",
       "      <td>13</td>\n",
       "      <td>14</td>\n",
       "    </tr>\n",
       "  </tbody>\n",
       "</table>\n",
       "</div>"
      ],
      "text/plain": [
       "    0   1   2\n",
       "0   0   1   2\n",
       "1   3   4   5\n",
       "2   6   7   8\n",
       "3   9  10  11\n",
       "4  12  13  14"
      ]
     },
     "execution_count": 2,
     "metadata": {},
     "output_type": "execute_result"
    }
   ],
   "source": []
  },
  {
   "cell_type": "markdown",
   "id": "9c74f94d-4adf-403d-a2c4-9efd200ba5b2",
   "metadata": {},
   "source": [
    "**2.** For a Pandas DataFrame created from a NumPy array, what is the default behavior for the labels for the columns?  For the rows?"
   ]
  },
  {
   "cell_type": "markdown",
   "id": "e7508b50-d724-47a7-8272-9ba040cd9c65",
   "metadata": {},
   "source": [
    "Both the \"columns\" value and the \"index\" value (for the rows) are set to zero based numeric arrays."
   ]
  },
  {
   "cell_type": "markdown",
   "id": "1a20442a-ea2c-4d32-877b-bfe5ae349318",
   "metadata": {},
   "source": [
    "**3.** Create a second DataFrame as above with five rows and three columns, setting the row labels to the names of any five major US cities and the column labels to the first three months of the year."
   ]
  },
  {
   "cell_type": "code",
   "execution_count": 3,
   "id": "02686eae-cba2-4180-94ff-4dc85eca0731",
   "metadata": {},
   "outputs": [
    {
     "data": {
      "text/html": [
       "<div>\n",
       "<style scoped>\n",
       "    .dataframe tbody tr th:only-of-type {\n",
       "        vertical-align: middle;\n",
       "    }\n",
       "\n",
       "    .dataframe tbody tr th {\n",
       "        vertical-align: top;\n",
       "    }\n",
       "\n",
       "    .dataframe thead th {\n",
       "        text-align: right;\n",
       "    }\n",
       "</style>\n",
       "<table border=\"1\" class=\"dataframe\">\n",
       "  <thead>\n",
       "    <tr style=\"text-align: right;\">\n",
       "      <th></th>\n",
       "      <th>January</th>\n",
       "      <th>February</th>\n",
       "      <th>March</th>\n",
       "    </tr>\n",
       "  </thead>\n",
       "  <tbody>\n",
       "    <tr>\n",
       "      <th>NewYork</th>\n",
       "      <td>0</td>\n",
       "      <td>1</td>\n",
       "      <td>2</td>\n",
       "    </tr>\n",
       "    <tr>\n",
       "      <th>LosAngeles</th>\n",
       "      <td>3</td>\n",
       "      <td>4</td>\n",
       "      <td>5</td>\n",
       "    </tr>\n",
       "    <tr>\n",
       "      <th>Atlanta</th>\n",
       "      <td>6</td>\n",
       "      <td>7</td>\n",
       "      <td>8</td>\n",
       "    </tr>\n",
       "    <tr>\n",
       "      <th>Boston</th>\n",
       "      <td>9</td>\n",
       "      <td>10</td>\n",
       "      <td>11</td>\n",
       "    </tr>\n",
       "    <tr>\n",
       "      <th>SanFrancisco</th>\n",
       "      <td>12</td>\n",
       "      <td>13</td>\n",
       "      <td>14</td>\n",
       "    </tr>\n",
       "  </tbody>\n",
       "</table>\n",
       "</div>"
      ],
      "text/plain": [
       "              January  February  March\n",
       "NewYork             0         1      2\n",
       "LosAngeles          3         4      5\n",
       "Atlanta             6         7      8\n",
       "Boston              9        10     11\n",
       "SanFrancisco       12        13     14"
      ]
     },
     "execution_count": 3,
     "metadata": {},
     "output_type": "execute_result"
    }
   ],
   "source": [
    "df = DataFrame(np.arange(15).reshape(5,3))\n",
    "df.index = [\"NewYork\", \"LosAngeles\", \"Atlanta\", \"Boston\", \"SanFrancisco\"]\n",
    "df.columns = [\"January\", \"February\", \"March\"]\n",
    "df"
   ]
  },
  {
   "cell_type": "markdown",
   "id": "f6c2f45b-0fea-49bf-98a0-572d594a0680",
   "metadata": {},
   "source": [
    "**4.** You recall that the Seaborn package has some data sets built in, but can't remember how to list and load them. Assuming the functions to do so have \"data\" in the name, how might you locate them?  You can assume a Jupyter Notebook / IPython environment and explain the process, or write the code to do it in Python."
   ]
  },
  {
   "cell_type": "markdown",
   "id": "8afae59d-eb5a-4692-9924-b54d49942769",
   "metadata": {},
   "source": [
    "Method 1:  In an empty code cell, type sb + tab to bring up a list of names.  Type \"data\" to filter the names."
   ]
  },
  {
   "cell_type": "code",
   "execution_count": 4,
   "id": "ce709b0a-cb22-4f33-9492-62f8346d0ef4",
   "metadata": {},
   "outputs": [
    {
     "data": {
      "text/plain": [
       "['get_data_home', 'get_dataset_names', 'load_dataset']"
      ]
     },
     "execution_count": 4,
     "metadata": {},
     "output_type": "execute_result"
    }
   ],
   "source": [
    "# Method 2:\n",
    "[x for x in dir(sb) if \"data\" in x]"
   ]
  },
  {
   "cell_type": "code",
   "execution_count": 5,
   "id": "81dabb30-8220-49c3-981c-106d190a5de1",
   "metadata": {},
   "outputs": [
    {
     "data": {
      "text/plain": [
       "['anagrams',\n",
       " 'anscombe',\n",
       " 'attention',\n",
       " 'brain_networks',\n",
       " 'car_crashes',\n",
       " 'diamonds',\n",
       " 'dots',\n",
       " 'exercise',\n",
       " 'flights',\n",
       " 'fmri',\n",
       " 'gammas',\n",
       " 'geyser',\n",
       " 'iris',\n",
       " 'mpg',\n",
       " 'penguins',\n",
       " 'planets',\n",
       " 'taxis',\n",
       " 'tips',\n",
       " 'titanic']"
      ]
     },
     "execution_count": 5,
     "metadata": {},
     "output_type": "execute_result"
    }
   ],
   "source": [
    "sb.get_dataset_names()"
   ]
  },
  {
   "cell_type": "markdown",
   "id": "70efcde8-cd73-4d61-8534-e6a3c469dbff",
   "metadata": {},
   "source": [
    "## Loading data from CSV"
   ]
  },
  {
   "cell_type": "markdown",
   "id": "00214582-1340-4700-99b5-9f36afce3e16",
   "metadata": {},
   "source": [
    "**5**. Zillow home data is available at this URL: https://files.zillowstatic.com/research/public_csvs/zhvi/Metro_zhvi_uc_sfrcondo_tier_0.33_0.67_sm_sa_month.csv\n",
    "\n",
    "Open this file as a DataFrame in Pandas."
   ]
  },
  {
   "cell_type": "code",
   "execution_count": 6,
   "id": "2838d3d2-5f1c-4e97-aab6-c7236ced82ad",
   "metadata": {},
   "outputs": [],
   "source": [
    "df_homes = pd.read_csv(\"https://files.zillowstatic.com/research/public_csvs/zhvi/Metro_zhvi_uc_sfrcondo_tier_0.33_0.67_sm_sa_month.csv\")\n"
   ]
  },
  {
   "cell_type": "markdown",
   "id": "4476553a-1f93-4259-87df-69670ef486c0",
   "metadata": {},
   "source": [
    "**6.** Save the DataFrame, df_homes, to a local CSV file, \"zillow_home_data.csv\".  "
   ]
  },
  {
   "cell_type": "code",
   "execution_count": 7,
   "id": "1d237615-d23c-4f62-a0b8-c709deb95647",
   "metadata": {},
   "outputs": [],
   "source": [
    "df_homes.to_csv(\"../data/zillow_home_data.csv\")"
   ]
  },
  {
   "cell_type": "markdown",
   "id": "182e0039-63dc-49df-9413-7eede1453fe0",
   "metadata": {},
   "source": [
    "**7.** Load zillow_home_data.csv back into a new Dataframe, df_homes_2"
   ]
  },
  {
   "cell_type": "code",
   "execution_count": 8,
   "id": "53665adb-adb2-462f-a244-01665182e870",
   "metadata": {},
   "outputs": [],
   "source": [
    "df_homes_2 = pd.read_csv(\"../data/zillow_home_data.csv\")"
   ]
  },
  {
   "cell_type": "markdown",
   "id": "eaaa6d3b-21e6-4e4a-916a-d522f1fd60c6",
   "metadata": {},
   "source": [
    "**8.** Compare the dimensions of the two DataFrames, df_homes and df_homes_2.  Are they equal?  If not, how can you fix it?"
   ]
  },
  {
   "cell_type": "code",
   "execution_count": 9,
   "id": "dff1485e-fb64-4a19-a6ee-15dc38c72b2e",
   "metadata": {},
   "outputs": [
    {
     "name": "stdout",
     "output_type": "stream",
     "text": [
      "(908, 271)\n",
      "(908, 272)\n",
      "False\n"
     ]
    }
   ],
   "source": [
    "print(df_homes.shape)\n",
    "print(df_homes_2.shape)\n",
    "print(df_homes.shape == df_homes_2.shape)"
   ]
  },
  {
   "cell_type": "markdown",
   "id": "7e6d423c-75b5-4813-85cd-700f598491ee",
   "metadata": {},
   "source": [
    "To fix the fact that they're not equal, save file again this time using index=False to avoid saving the index as a CSV column."
   ]
  },
  {
   "cell_type": "code",
   "execution_count": 10,
   "id": "553a674c-345a-46ff-8466-6a8f003630db",
   "metadata": {},
   "outputs": [
    {
     "name": "stdout",
     "output_type": "stream",
     "text": [
      "True\n"
     ]
    }
   ],
   "source": [
    "df_homes.to_csv(\"../data/zillow_home_data.csv\", index=False)\n",
    "df_homes_2 = pd.read_csv(\"../data/zillow_home_data.csv\")\n",
    "print(df_homes.shape == df_homes_2.shape)"
   ]
  },
  {
   "cell_type": "markdown",
   "id": "0f34b104-fc3a-492c-964b-45daa12850b0",
   "metadata": {},
   "source": [
    "**9.** A remote spreadsheet showing how a snapshot of how traffic increased for a hypothetical website is available here: https://github.com/CodeSolid/CodeSolid.github.io/raw/main/booksource/data/AnalyticsSnapshot.xlsx. Load the worksheet page of the spreasheet data labelled \"February 2022\" as a DataFrame named \"feb\".  Note: the leftmost column in the spreadsheet is the index column."
   ]
  },
  {
   "cell_type": "code",
   "execution_count": 11,
   "id": "7b8772dd-5d19-4510-a725-80c7273ce61b",
   "metadata": {},
   "outputs": [
    {
     "data": {
      "text/html": [
       "<div>\n",
       "<style scoped>\n",
       "    .dataframe tbody tr th:only-of-type {\n",
       "        vertical-align: middle;\n",
       "    }\n",
       "\n",
       "    .dataframe tbody tr th {\n",
       "        vertical-align: top;\n",
       "    }\n",
       "\n",
       "    .dataframe thead th {\n",
       "        text-align: right;\n",
       "    }\n",
       "</style>\n",
       "<table border=\"1\" class=\"dataframe\">\n",
       "  <thead>\n",
       "    <tr style=\"text-align: right;\">\n",
       "      <th></th>\n",
       "      <th>This Month</th>\n",
       "      <th>Last Month</th>\n",
       "      <th>Month to Month Increase</th>\n",
       "    </tr>\n",
       "  </thead>\n",
       "  <tbody>\n",
       "    <tr>\n",
       "      <th>Users</th>\n",
       "      <td>1800.0</td>\n",
       "      <td>280.0</td>\n",
       "      <td>5.428571</td>\n",
       "    </tr>\n",
       "    <tr>\n",
       "      <th>New Users</th>\n",
       "      <td>1700.0</td>\n",
       "      <td>298.0</td>\n",
       "      <td>4.704698</td>\n",
       "    </tr>\n",
       "    <tr>\n",
       "      <th>Page Views</th>\n",
       "      <td>2534.0</td>\n",
       "      <td>436.0</td>\n",
       "      <td>4.811927</td>\n",
       "    </tr>\n",
       "  </tbody>\n",
       "</table>\n",
       "</div>"
      ],
      "text/plain": [
       "            This Month  Last Month  Month to Month Increase\n",
       "Users           1800.0       280.0                 5.428571\n",
       "New Users       1700.0       298.0                 4.704698\n",
       "Page Views      2534.0       436.0                 4.811927"
      ]
     },
     "execution_count": 11,
     "metadata": {},
     "output_type": "execute_result"
    }
   ],
   "source": [
    "url = \"https://github.com/CodeSolid/CodeSolid.github.io/raw/main/booksource/data/AnalyticsSnapshot.xlsx\"\n",
    "feb = pd.read_excel(url, sheet_name=\"February 2022\", index_col=0)\n",
    "feb"
   ]
  },
  {
   "cell_type": "markdown",
   "id": "ad366534-b168-490c-a55d-654f3ef44288",
   "metadata": {},
   "source": [
    "**10.** The \"Month to Month Increase\" column is a bit hard to understand, so ignore it for now.  Given the values for \"This Month\" and \"Last Month\", create a new column, \"Percentage Increase\"."
   ]
  },
  {
   "cell_type": "code",
   "execution_count": 12,
   "id": "d053f773-c9a9-4592-aaaa-660ae8e189e5",
   "metadata": {},
   "outputs": [
    {
     "data": {
      "text/html": [
       "<div>\n",
       "<style scoped>\n",
       "    .dataframe tbody tr th:only-of-type {\n",
       "        vertical-align: middle;\n",
       "    }\n",
       "\n",
       "    .dataframe tbody tr th {\n",
       "        vertical-align: top;\n",
       "    }\n",
       "\n",
       "    .dataframe thead th {\n",
       "        text-align: right;\n",
       "    }\n",
       "</style>\n",
       "<table border=\"1\" class=\"dataframe\">\n",
       "  <thead>\n",
       "    <tr style=\"text-align: right;\">\n",
       "      <th></th>\n",
       "      <th>This Month</th>\n",
       "      <th>Last Month</th>\n",
       "      <th>Month to Month Increase</th>\n",
       "      <th>Percentage Increase</th>\n",
       "    </tr>\n",
       "  </thead>\n",
       "  <tbody>\n",
       "    <tr>\n",
       "      <th>Users</th>\n",
       "      <td>1800.0</td>\n",
       "      <td>280.0</td>\n",
       "      <td>5.428571</td>\n",
       "      <td>542.857143</td>\n",
       "    </tr>\n",
       "    <tr>\n",
       "      <th>New Users</th>\n",
       "      <td>1700.0</td>\n",
       "      <td>298.0</td>\n",
       "      <td>4.704698</td>\n",
       "      <td>470.469799</td>\n",
       "    </tr>\n",
       "    <tr>\n",
       "      <th>Page Views</th>\n",
       "      <td>2534.0</td>\n",
       "      <td>436.0</td>\n",
       "      <td>4.811927</td>\n",
       "      <td>481.192661</td>\n",
       "    </tr>\n",
       "  </tbody>\n",
       "</table>\n",
       "</div>"
      ],
      "text/plain": [
       "            This Month  Last Month  Month to Month Increase  \\\n",
       "Users           1800.0       280.0                 5.428571   \n",
       "New Users       1700.0       298.0                 4.704698   \n",
       "Page Views      2534.0       436.0                 4.811927   \n",
       "\n",
       "            Percentage Increase  \n",
       "Users                542.857143  \n",
       "New Users            470.469799  \n",
       "Page Views           481.192661  "
      ]
     },
     "execution_count": 12,
     "metadata": {},
     "output_type": "execute_result"
    }
   ],
   "source": [
    "feb[\"Percentage Increase\"] = (feb[\"This Month\"] - feb[\"Last Month\"]) / feb[\"Last Month\"] * 100\n",
    "feb"
   ]
  },
  {
   "cell_type": "markdown",
   "id": "8a71222f-2ab4-47bb-806d-2610e25b3a91",
   "metadata": {},
   "source": [
    "## Basic Operations on Data"
   ]
  },
  {
   "cell_type": "markdown",
   "id": "0b9cf32b-3132-40cc-a5ca-26d6e6a36e4b",
   "metadata": {},
   "source": [
    "**11.** Using Seaborn, get a dataset about penguins into a dataframe named \"df_penguins\".  Note that because all of the following questions depend on this example, we'll provide the solution here so no one gets stuck:"
   ]
  },
  {
   "cell_type": "code",
   "execution_count": 13,
   "id": "a8b68caf-a998-414a-9de7-899eae7213c7",
   "metadata": {},
   "outputs": [],
   "source": [
    "df_penguins = sb.load_dataset('penguins')"
   ]
  },
  {
   "cell_type": "markdown",
   "id": "f7170135-17bd-45e2-9239-dad647ed6eaf",
   "metadata": {},
   "source": [
    "**12.** Write the code to show the the number of rows and columns in df_penguins"
   ]
  },
  {
   "cell_type": "code",
   "execution_count": 14,
   "id": "6f565afb-d5f4-462d-b3e5-946bc91bd83e",
   "metadata": {},
   "outputs": [
    {
     "data": {
      "text/plain": [
       "(344, 7)"
      ]
     },
     "execution_count": 14,
     "metadata": {},
     "output_type": "execute_result"
    }
   ],
   "source": [
    "df_penguins.shape"
   ]
  },
  {
   "cell_type": "markdown",
   "id": "9d3396f3-3fe6-4571-83b2-1e70f8a11513",
   "metadata": {},
   "source": [
    "**13.** How might you show the first few rows of df_penguins?"
   ]
  },
  {
   "cell_type": "code",
   "execution_count": 15,
   "id": "68d5946e-5011-4735-983e-7485f44a60f2",
   "metadata": {},
   "outputs": [
    {
     "data": {
      "text/html": [
       "<div>\n",
       "<style scoped>\n",
       "    .dataframe tbody tr th:only-of-type {\n",
       "        vertical-align: middle;\n",
       "    }\n",
       "\n",
       "    .dataframe tbody tr th {\n",
       "        vertical-align: top;\n",
       "    }\n",
       "\n",
       "    .dataframe thead th {\n",
       "        text-align: right;\n",
       "    }\n",
       "</style>\n",
       "<table border=\"1\" class=\"dataframe\">\n",
       "  <thead>\n",
       "    <tr style=\"text-align: right;\">\n",
       "      <th></th>\n",
       "      <th>species</th>\n",
       "      <th>island</th>\n",
       "      <th>bill_length_mm</th>\n",
       "      <th>bill_depth_mm</th>\n",
       "      <th>flipper_length_mm</th>\n",
       "      <th>body_mass_g</th>\n",
       "      <th>sex</th>\n",
       "    </tr>\n",
       "  </thead>\n",
       "  <tbody>\n",
       "    <tr>\n",
       "      <th>0</th>\n",
       "      <td>Adelie</td>\n",
       "      <td>Torgersen</td>\n",
       "      <td>39.1</td>\n",
       "      <td>18.7</td>\n",
       "      <td>181.0</td>\n",
       "      <td>3750.0</td>\n",
       "      <td>Male</td>\n",
       "    </tr>\n",
       "    <tr>\n",
       "      <th>1</th>\n",
       "      <td>Adelie</td>\n",
       "      <td>Torgersen</td>\n",
       "      <td>39.5</td>\n",
       "      <td>17.4</td>\n",
       "      <td>186.0</td>\n",
       "      <td>3800.0</td>\n",
       "      <td>Female</td>\n",
       "    </tr>\n",
       "    <tr>\n",
       "      <th>2</th>\n",
       "      <td>Adelie</td>\n",
       "      <td>Torgersen</td>\n",
       "      <td>40.3</td>\n",
       "      <td>18.0</td>\n",
       "      <td>195.0</td>\n",
       "      <td>3250.0</td>\n",
       "      <td>Female</td>\n",
       "    </tr>\n",
       "    <tr>\n",
       "      <th>3</th>\n",
       "      <td>Adelie</td>\n",
       "      <td>Torgersen</td>\n",
       "      <td>NaN</td>\n",
       "      <td>NaN</td>\n",
       "      <td>NaN</td>\n",
       "      <td>NaN</td>\n",
       "      <td>NaN</td>\n",
       "    </tr>\n",
       "    <tr>\n",
       "      <th>4</th>\n",
       "      <td>Adelie</td>\n",
       "      <td>Torgersen</td>\n",
       "      <td>36.7</td>\n",
       "      <td>19.3</td>\n",
       "      <td>193.0</td>\n",
       "      <td>3450.0</td>\n",
       "      <td>Female</td>\n",
       "    </tr>\n",
       "  </tbody>\n",
       "</table>\n",
       "</div>"
      ],
      "text/plain": [
       "  species     island  bill_length_mm  bill_depth_mm  flipper_length_mm  \\\n",
       "0  Adelie  Torgersen            39.1           18.7              181.0   \n",
       "1  Adelie  Torgersen            39.5           17.4              186.0   \n",
       "2  Adelie  Torgersen            40.3           18.0              195.0   \n",
       "3  Adelie  Torgersen             NaN            NaN                NaN   \n",
       "4  Adelie  Torgersen            36.7           19.3              193.0   \n",
       "\n",
       "   body_mass_g     sex  \n",
       "0       3750.0    Male  \n",
       "1       3800.0  Female  \n",
       "2       3250.0  Female  \n",
       "3          NaN     NaN  \n",
       "4       3450.0  Female  "
      ]
     },
     "execution_count": 15,
     "metadata": {},
     "output_type": "execute_result"
    }
   ],
   "source": [
    "df_penguins.head()"
   ]
  },
  {
   "cell_type": "markdown",
   "id": "c841930d-e235-468a-809d-8427f8739076",
   "metadata": {},
   "source": [
    "**14.** How can you return the unique species of penguins from df_penguins?  How many unique species are there?"
   ]
  },
  {
   "cell_type": "code",
   "execution_count": 16,
   "id": "130ed9bd-397b-4504-bf26-6b0dc716ba8b",
   "metadata": {},
   "outputs": [
    {
     "name": "stdout",
     "output_type": "stream",
     "text": [
      "0         Adelie\n",
      "152    Chinstrap\n",
      "220       Gentoo\n",
      "Name: species, dtype: object\n",
      "There are 3 unique species, ['Adelie', 'Chinstrap', 'Gentoo'].\n"
     ]
    }
   ],
   "source": [
    "species = df_penguins[\"species\"].copy()\n",
    "unique = species.fillna(0)\n",
    "unique = unique.drop_duplicates()\n",
    "nrows = unique.shape[0]\n",
    "print(unique)\n",
    "print(f\"There are {nrows} unique species, {list(unique.values)}.\")"
   ]
  },
  {
   "cell_type": "markdown",
   "id": "3912a3df-d931-4d74-a6fa-34ad11f83f94",
   "metadata": {},
   "source": [
    "**15.** What function can we use to drop the rows that have missing data?"
   ]
  },
  {
   "cell_type": "code",
   "execution_count": 17,
   "id": "436cf3d3-db4a-42e3-81d3-9f2df28265f1",
   "metadata": {},
   "outputs": [
    {
     "data": {
      "text/html": [
       "<div>\n",
       "<style scoped>\n",
       "    .dataframe tbody tr th:only-of-type {\n",
       "        vertical-align: middle;\n",
       "    }\n",
       "\n",
       "    .dataframe tbody tr th {\n",
       "        vertical-align: top;\n",
       "    }\n",
       "\n",
       "    .dataframe thead th {\n",
       "        text-align: right;\n",
       "    }\n",
       "</style>\n",
       "<table border=\"1\" class=\"dataframe\">\n",
       "  <thead>\n",
       "    <tr style=\"text-align: right;\">\n",
       "      <th></th>\n",
       "      <th>species</th>\n",
       "      <th>island</th>\n",
       "      <th>bill_length_mm</th>\n",
       "      <th>bill_depth_mm</th>\n",
       "      <th>flipper_length_mm</th>\n",
       "      <th>body_mass_g</th>\n",
       "      <th>sex</th>\n",
       "    </tr>\n",
       "  </thead>\n",
       "  <tbody>\n",
       "    <tr>\n",
       "      <th>0</th>\n",
       "      <td>Adelie</td>\n",
       "      <td>Torgersen</td>\n",
       "      <td>39.1</td>\n",
       "      <td>18.7</td>\n",
       "      <td>181.0</td>\n",
       "      <td>3750.0</td>\n",
       "      <td>Male</td>\n",
       "    </tr>\n",
       "    <tr>\n",
       "      <th>1</th>\n",
       "      <td>Adelie</td>\n",
       "      <td>Torgersen</td>\n",
       "      <td>39.5</td>\n",
       "      <td>17.4</td>\n",
       "      <td>186.0</td>\n",
       "      <td>3800.0</td>\n",
       "      <td>Female</td>\n",
       "    </tr>\n",
       "    <tr>\n",
       "      <th>2</th>\n",
       "      <td>Adelie</td>\n",
       "      <td>Torgersen</td>\n",
       "      <td>40.3</td>\n",
       "      <td>18.0</td>\n",
       "      <td>195.0</td>\n",
       "      <td>3250.0</td>\n",
       "      <td>Female</td>\n",
       "    </tr>\n",
       "    <tr>\n",
       "      <th>4</th>\n",
       "      <td>Adelie</td>\n",
       "      <td>Torgersen</td>\n",
       "      <td>36.7</td>\n",
       "      <td>19.3</td>\n",
       "      <td>193.0</td>\n",
       "      <td>3450.0</td>\n",
       "      <td>Female</td>\n",
       "    </tr>\n",
       "    <tr>\n",
       "      <th>5</th>\n",
       "      <td>Adelie</td>\n",
       "      <td>Torgersen</td>\n",
       "      <td>39.3</td>\n",
       "      <td>20.6</td>\n",
       "      <td>190.0</td>\n",
       "      <td>3650.0</td>\n",
       "      <td>Male</td>\n",
       "    </tr>\n",
       "    <tr>\n",
       "      <th>...</th>\n",
       "      <td>...</td>\n",
       "      <td>...</td>\n",
       "      <td>...</td>\n",
       "      <td>...</td>\n",
       "      <td>...</td>\n",
       "      <td>...</td>\n",
       "      <td>...</td>\n",
       "    </tr>\n",
       "    <tr>\n",
       "      <th>338</th>\n",
       "      <td>Gentoo</td>\n",
       "      <td>Biscoe</td>\n",
       "      <td>47.2</td>\n",
       "      <td>13.7</td>\n",
       "      <td>214.0</td>\n",
       "      <td>4925.0</td>\n",
       "      <td>Female</td>\n",
       "    </tr>\n",
       "    <tr>\n",
       "      <th>340</th>\n",
       "      <td>Gentoo</td>\n",
       "      <td>Biscoe</td>\n",
       "      <td>46.8</td>\n",
       "      <td>14.3</td>\n",
       "      <td>215.0</td>\n",
       "      <td>4850.0</td>\n",
       "      <td>Female</td>\n",
       "    </tr>\n",
       "    <tr>\n",
       "      <th>341</th>\n",
       "      <td>Gentoo</td>\n",
       "      <td>Biscoe</td>\n",
       "      <td>50.4</td>\n",
       "      <td>15.7</td>\n",
       "      <td>222.0</td>\n",
       "      <td>5750.0</td>\n",
       "      <td>Male</td>\n",
       "    </tr>\n",
       "    <tr>\n",
       "      <th>342</th>\n",
       "      <td>Gentoo</td>\n",
       "      <td>Biscoe</td>\n",
       "      <td>45.2</td>\n",
       "      <td>14.8</td>\n",
       "      <td>212.0</td>\n",
       "      <td>5200.0</td>\n",
       "      <td>Female</td>\n",
       "    </tr>\n",
       "    <tr>\n",
       "      <th>343</th>\n",
       "      <td>Gentoo</td>\n",
       "      <td>Biscoe</td>\n",
       "      <td>49.9</td>\n",
       "      <td>16.1</td>\n",
       "      <td>213.0</td>\n",
       "      <td>5400.0</td>\n",
       "      <td>Male</td>\n",
       "    </tr>\n",
       "  </tbody>\n",
       "</table>\n",
       "<p>333 rows × 7 columns</p>\n",
       "</div>"
      ],
      "text/plain": [
       "    species     island  bill_length_mm  bill_depth_mm  flipper_length_mm  \\\n",
       "0    Adelie  Torgersen            39.1           18.7              181.0   \n",
       "1    Adelie  Torgersen            39.5           17.4              186.0   \n",
       "2    Adelie  Torgersen            40.3           18.0              195.0   \n",
       "4    Adelie  Torgersen            36.7           19.3              193.0   \n",
       "5    Adelie  Torgersen            39.3           20.6              190.0   \n",
       "..      ...        ...             ...            ...                ...   \n",
       "338  Gentoo     Biscoe            47.2           13.7              214.0   \n",
       "340  Gentoo     Biscoe            46.8           14.3              215.0   \n",
       "341  Gentoo     Biscoe            50.4           15.7              222.0   \n",
       "342  Gentoo     Biscoe            45.2           14.8              212.0   \n",
       "343  Gentoo     Biscoe            49.9           16.1              213.0   \n",
       "\n",
       "     body_mass_g     sex  \n",
       "0         3750.0    Male  \n",
       "1         3800.0  Female  \n",
       "2         3250.0  Female  \n",
       "4         3450.0  Female  \n",
       "5         3650.0    Male  \n",
       "..           ...     ...  \n",
       "338       4925.0  Female  \n",
       "340       4850.0  Female  \n",
       "341       5750.0    Male  \n",
       "342       5200.0  Female  \n",
       "343       5400.0    Male  \n",
       "\n",
       "[333 rows x 7 columns]"
      ]
     },
     "execution_count": 17,
     "metadata": {},
     "output_type": "execute_result"
    }
   ],
   "source": [
    "df_penguins.dropna()"
   ]
  },
  {
   "cell_type": "markdown",
   "id": "f1feab44-7136-4736-a11c-ee005fdb0698",
   "metadata": {},
   "source": [
    "**16.** By default, will this modify df_penguins or will it return a copy?"
   ]
  },
  {
   "cell_type": "markdown",
   "id": "8b0981bc-d8b1-42a5-9df6-e2723f61013c",
   "metadata": {},
   "source": [
    "It will return a copy."
   ]
  },
  {
   "cell_type": "markdown",
   "id": "7f35c024-ac5c-43e0-8ea7-3e03953f644b",
   "metadata": {},
   "source": [
    "**17.** How can we override the default?"
   ]
  },
  {
   "cell_type": "markdown",
   "id": "3f62e100-1000-40df-b21b-6af919fbb945",
   "metadata": {},
   "source": [
    "We can use ```df_penguins.dropna(inplace=True)```"
   ]
  },
  {
   "cell_type": "markdown",
   "id": "a17f9c69-c8e2-4331-b9c7-c5be6a13a968",
   "metadata": {},
   "source": [
    "**18.** Create a new DataFrame, df_penguins_full, with the missing data deleted."
   ]
  },
  {
   "cell_type": "code",
   "execution_count": 18,
   "id": "f160094c-ba0c-4fe1-96f0-d6b23e8162c9",
   "metadata": {},
   "outputs": [],
   "source": [
    "df_penguins_full = df_penguins.dropna()"
   ]
  },
  {
   "cell_type": "code",
   "execution_count": 19,
   "id": "54156eb4-45a6-4fcf-b40c-b406ee493180",
   "metadata": {},
   "outputs": [
    {
     "data": {
      "text/plain": [
       "Index(['species', 'island', 'bill_length_mm', 'bill_depth_mm',\n",
       "       'flipper_length_mm', 'body_mass_g', 'sex'],\n",
       "      dtype='object')"
      ]
     },
     "execution_count": 19,
     "metadata": {},
     "output_type": "execute_result"
    }
   ],
   "source": [
    "# Expoloratory only\n",
    "df_penguins_full.columns"
   ]
  },
  {
   "cell_type": "markdown",
   "id": "c34afa01-c0c4-40fa-b3a6-3b7c6abc58e1",
   "metadata": {},
   "source": [
    "**19.** What is the average bill length of a penguin, in millimeters, in this (df_full) data set?"
   ]
  },
  {
   "cell_type": "code",
   "execution_count": 20,
   "id": "6012e669-3c97-4949-be33-3e44daf9534a",
   "metadata": {},
   "outputs": [
    {
     "data": {
      "text/plain": [
       "43.99279279279279"
      ]
     },
     "execution_count": 20,
     "metadata": {},
     "output_type": "execute_result"
    }
   ],
   "source": [
    "df_penguins_full['bill_length_mm'].mean()"
   ]
  },
  {
   "cell_type": "markdown",
   "id": "38076367-ae05-4567-8963-12b5e0d77214",
   "metadata": {},
   "source": [
    "**20.** Which of the following is most strongly correlated with bill length?  a) Body mass?  b) Flipper length?  c) Bill depth?  Show how you arrived at the answer."
   ]
  },
  {
   "cell_type": "markdown",
   "id": "2edbbf08-8f1d-40ea-b137-cdcdbfe02787",
   "metadata": {},
   "source": [
    "The answer is b) Flipper length.  See below:"
   ]
  },
  {
   "cell_type": "code",
   "execution_count": 21,
   "id": "93840bc0-eda0-48fd-b14d-4405a484c547",
   "metadata": {},
   "outputs": [
    {
     "name": "stdout",
     "output_type": "stream",
     "text": [
      "0.5894511101769488\n",
      "0.6530956386670861\n",
      "-0.2286256359130292\n"
     ]
    }
   ],
   "source": [
    "print(df_penguins_full['bill_length_mm'].corr(df_penguins_full['body_mass_g']))\n",
    "print(df_penguins_full['bill_length_mm'].corr(df_penguins_full['flipper_length_mm']))\n",
    "print(df_penguins_full['bill_length_mm'].corr(df_penguins_full['bill_depth_mm']))\n"
   ]
  },
  {
   "cell_type": "markdown",
   "id": "538ed22f-f2c0-46df-bf41-6a27246e356d",
   "metadata": {},
   "source": [
    "**21.** How could you show the median flipper length, grouped by species?"
   ]
  },
  {
   "cell_type": "code",
   "execution_count": 22,
   "id": "a39321c8-1822-4078-91f9-6f9a36a3bab7",
   "metadata": {},
   "outputs": [
    {
     "data": {
      "text/plain": [
       "species\n",
       "Adelie       190.102740\n",
       "Chinstrap    195.823529\n",
       "Gentoo       217.235294\n",
       "Name: flipper_length_mm, dtype: float64"
      ]
     },
     "execution_count": 22,
     "metadata": {},
     "output_type": "execute_result"
    }
   ],
   "source": [
    "df_penguins_full.groupby('species').mean()['flipper_length_mm']"
   ]
  },
  {
   "cell_type": "markdown",
   "id": "0d6ff0a0-f72b-47a0-a8c5-50cf2e9c8ef4",
   "metadata": {},
   "source": [
    "**22.** Which species has the longest flippers?"
   ]
  },
  {
   "cell_type": "markdown",
   "id": "20f5ec8f-1580-438d-8ddb-ad2eeabed1ba",
   "metadata": {},
   "source": [
    "Gentoo"
   ]
  },
  {
   "cell_type": "markdown",
   "id": "f50dacfd-a59d-4763-b8bf-004a02d8f05f",
   "metadata": {},
   "source": [
    "**23.** Which two species have the most similar mean weight?  Show how you arrived at the answer."
   ]
  },
  {
   "cell_type": "markdown",
   "id": "be5582aa-447d-4645-85cd-072894fcbb82",
   "metadata": {},
   "source": [
    "Adelie and Chinstrap"
   ]
  },
  {
   "cell_type": "code",
   "execution_count": 23,
   "id": "c61f152b-d401-4c28-aea1-014d01100136",
   "metadata": {},
   "outputs": [
    {
     "data": {
      "text/html": [
       "<div>\n",
       "<style scoped>\n",
       "    .dataframe tbody tr th:only-of-type {\n",
       "        vertical-align: middle;\n",
       "    }\n",
       "\n",
       "    .dataframe tbody tr th {\n",
       "        vertical-align: top;\n",
       "    }\n",
       "\n",
       "    .dataframe thead th {\n",
       "        text-align: right;\n",
       "    }\n",
       "</style>\n",
       "<table border=\"1\" class=\"dataframe\">\n",
       "  <thead>\n",
       "    <tr style=\"text-align: right;\">\n",
       "      <th></th>\n",
       "      <th>bill_length_mm</th>\n",
       "      <th>bill_depth_mm</th>\n",
       "      <th>flipper_length_mm</th>\n",
       "      <th>body_mass_g</th>\n",
       "    </tr>\n",
       "    <tr>\n",
       "      <th>species</th>\n",
       "      <th></th>\n",
       "      <th></th>\n",
       "      <th></th>\n",
       "      <th></th>\n",
       "    </tr>\n",
       "  </thead>\n",
       "  <tbody>\n",
       "    <tr>\n",
       "      <th>Adelie</th>\n",
       "      <td>38.823973</td>\n",
       "      <td>18.347260</td>\n",
       "      <td>190.102740</td>\n",
       "      <td>3706.164384</td>\n",
       "    </tr>\n",
       "    <tr>\n",
       "      <th>Chinstrap</th>\n",
       "      <td>48.833824</td>\n",
       "      <td>18.420588</td>\n",
       "      <td>195.823529</td>\n",
       "      <td>3733.088235</td>\n",
       "    </tr>\n",
       "    <tr>\n",
       "      <th>Gentoo</th>\n",
       "      <td>47.568067</td>\n",
       "      <td>14.996639</td>\n",
       "      <td>217.235294</td>\n",
       "      <td>5092.436975</td>\n",
       "    </tr>\n",
       "  </tbody>\n",
       "</table>\n",
       "</div>"
      ],
      "text/plain": [
       "           bill_length_mm  bill_depth_mm  flipper_length_mm  body_mass_g\n",
       "species                                                                 \n",
       "Adelie          38.823973      18.347260         190.102740  3706.164384\n",
       "Chinstrap       48.833824      18.420588         195.823529  3733.088235\n",
       "Gentoo          47.568067      14.996639         217.235294  5092.436975"
      ]
     },
     "execution_count": 23,
     "metadata": {},
     "output_type": "execute_result"
    }
   ],
   "source": [
    "df_penguins_full.groupby('species').mean()"
   ]
  },
  {
   "cell_type": "markdown",
   "id": "ddca88e5-374f-4c8a-bf61-26b70a8b3a90",
   "metadata": {},
   "source": [
    "**24.** How could you sort the rows by bill length?"
   ]
  },
  {
   "cell_type": "code",
   "execution_count": 24,
   "id": "4faabd67-0417-45ca-b907-7a170f4e9b71",
   "metadata": {},
   "outputs": [
    {
     "data": {
      "text/html": [
       "<div>\n",
       "<style scoped>\n",
       "    .dataframe tbody tr th:only-of-type {\n",
       "        vertical-align: middle;\n",
       "    }\n",
       "\n",
       "    .dataframe tbody tr th {\n",
       "        vertical-align: top;\n",
       "    }\n",
       "\n",
       "    .dataframe thead th {\n",
       "        text-align: right;\n",
       "    }\n",
       "</style>\n",
       "<table border=\"1\" class=\"dataframe\">\n",
       "  <thead>\n",
       "    <tr style=\"text-align: right;\">\n",
       "      <th></th>\n",
       "      <th>species</th>\n",
       "      <th>island</th>\n",
       "      <th>bill_length_mm</th>\n",
       "      <th>bill_depth_mm</th>\n",
       "      <th>flipper_length_mm</th>\n",
       "      <th>body_mass_g</th>\n",
       "      <th>sex</th>\n",
       "    </tr>\n",
       "  </thead>\n",
       "  <tbody>\n",
       "    <tr>\n",
       "      <th>142</th>\n",
       "      <td>Adelie</td>\n",
       "      <td>Dream</td>\n",
       "      <td>32.1</td>\n",
       "      <td>15.5</td>\n",
       "      <td>188.0</td>\n",
       "      <td>3050.0</td>\n",
       "      <td>Female</td>\n",
       "    </tr>\n",
       "    <tr>\n",
       "      <th>98</th>\n",
       "      <td>Adelie</td>\n",
       "      <td>Dream</td>\n",
       "      <td>33.1</td>\n",
       "      <td>16.1</td>\n",
       "      <td>178.0</td>\n",
       "      <td>2900.0</td>\n",
       "      <td>Female</td>\n",
       "    </tr>\n",
       "    <tr>\n",
       "      <th>70</th>\n",
       "      <td>Adelie</td>\n",
       "      <td>Torgersen</td>\n",
       "      <td>33.5</td>\n",
       "      <td>19.0</td>\n",
       "      <td>190.0</td>\n",
       "      <td>3600.0</td>\n",
       "      <td>Female</td>\n",
       "    </tr>\n",
       "    <tr>\n",
       "      <th>92</th>\n",
       "      <td>Adelie</td>\n",
       "      <td>Dream</td>\n",
       "      <td>34.0</td>\n",
       "      <td>17.1</td>\n",
       "      <td>185.0</td>\n",
       "      <td>3400.0</td>\n",
       "      <td>Female</td>\n",
       "    </tr>\n",
       "    <tr>\n",
       "      <th>8</th>\n",
       "      <td>Adelie</td>\n",
       "      <td>Torgersen</td>\n",
       "      <td>34.1</td>\n",
       "      <td>18.1</td>\n",
       "      <td>193.0</td>\n",
       "      <td>3475.0</td>\n",
       "      <td>NaN</td>\n",
       "    </tr>\n",
       "    <tr>\n",
       "      <th>...</th>\n",
       "      <td>...</td>\n",
       "      <td>...</td>\n",
       "      <td>...</td>\n",
       "      <td>...</td>\n",
       "      <td>...</td>\n",
       "      <td>...</td>\n",
       "      <td>...</td>\n",
       "    </tr>\n",
       "    <tr>\n",
       "      <th>321</th>\n",
       "      <td>Gentoo</td>\n",
       "      <td>Biscoe</td>\n",
       "      <td>55.9</td>\n",
       "      <td>17.0</td>\n",
       "      <td>228.0</td>\n",
       "      <td>5600.0</td>\n",
       "      <td>Male</td>\n",
       "    </tr>\n",
       "    <tr>\n",
       "      <th>169</th>\n",
       "      <td>Chinstrap</td>\n",
       "      <td>Dream</td>\n",
       "      <td>58.0</td>\n",
       "      <td>17.8</td>\n",
       "      <td>181.0</td>\n",
       "      <td>3700.0</td>\n",
       "      <td>Female</td>\n",
       "    </tr>\n",
       "    <tr>\n",
       "      <th>253</th>\n",
       "      <td>Gentoo</td>\n",
       "      <td>Biscoe</td>\n",
       "      <td>59.6</td>\n",
       "      <td>17.0</td>\n",
       "      <td>230.0</td>\n",
       "      <td>6050.0</td>\n",
       "      <td>Male</td>\n",
       "    </tr>\n",
       "    <tr>\n",
       "      <th>3</th>\n",
       "      <td>Adelie</td>\n",
       "      <td>Torgersen</td>\n",
       "      <td>NaN</td>\n",
       "      <td>NaN</td>\n",
       "      <td>NaN</td>\n",
       "      <td>NaN</td>\n",
       "      <td>NaN</td>\n",
       "    </tr>\n",
       "    <tr>\n",
       "      <th>339</th>\n",
       "      <td>Gentoo</td>\n",
       "      <td>Biscoe</td>\n",
       "      <td>NaN</td>\n",
       "      <td>NaN</td>\n",
       "      <td>NaN</td>\n",
       "      <td>NaN</td>\n",
       "      <td>NaN</td>\n",
       "    </tr>\n",
       "  </tbody>\n",
       "</table>\n",
       "<p>344 rows × 7 columns</p>\n",
       "</div>"
      ],
      "text/plain": [
       "       species     island  bill_length_mm  bill_depth_mm  flipper_length_mm  \\\n",
       "142     Adelie      Dream            32.1           15.5              188.0   \n",
       "98      Adelie      Dream            33.1           16.1              178.0   \n",
       "70      Adelie  Torgersen            33.5           19.0              190.0   \n",
       "92      Adelie      Dream            34.0           17.1              185.0   \n",
       "8       Adelie  Torgersen            34.1           18.1              193.0   \n",
       "..         ...        ...             ...            ...                ...   \n",
       "321     Gentoo     Biscoe            55.9           17.0              228.0   \n",
       "169  Chinstrap      Dream            58.0           17.8              181.0   \n",
       "253     Gentoo     Biscoe            59.6           17.0              230.0   \n",
       "3       Adelie  Torgersen             NaN            NaN                NaN   \n",
       "339     Gentoo     Biscoe             NaN            NaN                NaN   \n",
       "\n",
       "     body_mass_g     sex  \n",
       "142       3050.0  Female  \n",
       "98        2900.0  Female  \n",
       "70        3600.0  Female  \n",
       "92        3400.0  Female  \n",
       "8         3475.0     NaN  \n",
       "..           ...     ...  \n",
       "321       5600.0    Male  \n",
       "169       3700.0  Female  \n",
       "253       6050.0    Male  \n",
       "3            NaN     NaN  \n",
       "339          NaN     NaN  \n",
       "\n",
       "[344 rows x 7 columns]"
      ]
     },
     "execution_count": 24,
     "metadata": {},
     "output_type": "execute_result"
    }
   ],
   "source": [
    "df_penguins.sort_values('bill_length_mm')"
   ]
  },
  {
   "cell_type": "markdown",
   "id": "56d12fe3-805d-4f79-bf83-e515b5070229",
   "metadata": {},
   "source": [
    "**25.** How could you run the same sort in descending order?"
   ]
  },
  {
   "cell_type": "code",
   "execution_count": 25,
   "id": "02544f08-974e-463c-a2da-ac0b3ba3ff0d",
   "metadata": {},
   "outputs": [
    {
     "data": {
      "text/html": [
       "<div>\n",
       "<style scoped>\n",
       "    .dataframe tbody tr th:only-of-type {\n",
       "        vertical-align: middle;\n",
       "    }\n",
       "\n",
       "    .dataframe tbody tr th {\n",
       "        vertical-align: top;\n",
       "    }\n",
       "\n",
       "    .dataframe thead th {\n",
       "        text-align: right;\n",
       "    }\n",
       "</style>\n",
       "<table border=\"1\" class=\"dataframe\">\n",
       "  <thead>\n",
       "    <tr style=\"text-align: right;\">\n",
       "      <th></th>\n",
       "      <th>species</th>\n",
       "      <th>island</th>\n",
       "      <th>bill_length_mm</th>\n",
       "      <th>bill_depth_mm</th>\n",
       "      <th>flipper_length_mm</th>\n",
       "      <th>body_mass_g</th>\n",
       "      <th>sex</th>\n",
       "    </tr>\n",
       "  </thead>\n",
       "  <tbody>\n",
       "    <tr>\n",
       "      <th>253</th>\n",
       "      <td>Gentoo</td>\n",
       "      <td>Biscoe</td>\n",
       "      <td>59.6</td>\n",
       "      <td>17.0</td>\n",
       "      <td>230.0</td>\n",
       "      <td>6050.0</td>\n",
       "      <td>Male</td>\n",
       "    </tr>\n",
       "    <tr>\n",
       "      <th>169</th>\n",
       "      <td>Chinstrap</td>\n",
       "      <td>Dream</td>\n",
       "      <td>58.0</td>\n",
       "      <td>17.8</td>\n",
       "      <td>181.0</td>\n",
       "      <td>3700.0</td>\n",
       "      <td>Female</td>\n",
       "    </tr>\n",
       "    <tr>\n",
       "      <th>321</th>\n",
       "      <td>Gentoo</td>\n",
       "      <td>Biscoe</td>\n",
       "      <td>55.9</td>\n",
       "      <td>17.0</td>\n",
       "      <td>228.0</td>\n",
       "      <td>5600.0</td>\n",
       "      <td>Male</td>\n",
       "    </tr>\n",
       "    <tr>\n",
       "      <th>215</th>\n",
       "      <td>Chinstrap</td>\n",
       "      <td>Dream</td>\n",
       "      <td>55.8</td>\n",
       "      <td>19.8</td>\n",
       "      <td>207.0</td>\n",
       "      <td>4000.0</td>\n",
       "      <td>Male</td>\n",
       "    </tr>\n",
       "    <tr>\n",
       "      <th>335</th>\n",
       "      <td>Gentoo</td>\n",
       "      <td>Biscoe</td>\n",
       "      <td>55.1</td>\n",
       "      <td>16.0</td>\n",
       "      <td>230.0</td>\n",
       "      <td>5850.0</td>\n",
       "      <td>Male</td>\n",
       "    </tr>\n",
       "    <tr>\n",
       "      <th>...</th>\n",
       "      <td>...</td>\n",
       "      <td>...</td>\n",
       "      <td>...</td>\n",
       "      <td>...</td>\n",
       "      <td>...</td>\n",
       "      <td>...</td>\n",
       "      <td>...</td>\n",
       "    </tr>\n",
       "    <tr>\n",
       "      <th>70</th>\n",
       "      <td>Adelie</td>\n",
       "      <td>Torgersen</td>\n",
       "      <td>33.5</td>\n",
       "      <td>19.0</td>\n",
       "      <td>190.0</td>\n",
       "      <td>3600.0</td>\n",
       "      <td>Female</td>\n",
       "    </tr>\n",
       "    <tr>\n",
       "      <th>98</th>\n",
       "      <td>Adelie</td>\n",
       "      <td>Dream</td>\n",
       "      <td>33.1</td>\n",
       "      <td>16.1</td>\n",
       "      <td>178.0</td>\n",
       "      <td>2900.0</td>\n",
       "      <td>Female</td>\n",
       "    </tr>\n",
       "    <tr>\n",
       "      <th>142</th>\n",
       "      <td>Adelie</td>\n",
       "      <td>Dream</td>\n",
       "      <td>32.1</td>\n",
       "      <td>15.5</td>\n",
       "      <td>188.0</td>\n",
       "      <td>3050.0</td>\n",
       "      <td>Female</td>\n",
       "    </tr>\n",
       "    <tr>\n",
       "      <th>3</th>\n",
       "      <td>Adelie</td>\n",
       "      <td>Torgersen</td>\n",
       "      <td>NaN</td>\n",
       "      <td>NaN</td>\n",
       "      <td>NaN</td>\n",
       "      <td>NaN</td>\n",
       "      <td>NaN</td>\n",
       "    </tr>\n",
       "    <tr>\n",
       "      <th>339</th>\n",
       "      <td>Gentoo</td>\n",
       "      <td>Biscoe</td>\n",
       "      <td>NaN</td>\n",
       "      <td>NaN</td>\n",
       "      <td>NaN</td>\n",
       "      <td>NaN</td>\n",
       "      <td>NaN</td>\n",
       "    </tr>\n",
       "  </tbody>\n",
       "</table>\n",
       "<p>344 rows × 7 columns</p>\n",
       "</div>"
      ],
      "text/plain": [
       "       species     island  bill_length_mm  bill_depth_mm  flipper_length_mm  \\\n",
       "253     Gentoo     Biscoe            59.6           17.0              230.0   \n",
       "169  Chinstrap      Dream            58.0           17.8              181.0   \n",
       "321     Gentoo     Biscoe            55.9           17.0              228.0   \n",
       "215  Chinstrap      Dream            55.8           19.8              207.0   \n",
       "335     Gentoo     Biscoe            55.1           16.0              230.0   \n",
       "..         ...        ...             ...            ...                ...   \n",
       "70      Adelie  Torgersen            33.5           19.0              190.0   \n",
       "98      Adelie      Dream            33.1           16.1              178.0   \n",
       "142     Adelie      Dream            32.1           15.5              188.0   \n",
       "3       Adelie  Torgersen             NaN            NaN                NaN   \n",
       "339     Gentoo     Biscoe             NaN            NaN                NaN   \n",
       "\n",
       "     body_mass_g     sex  \n",
       "253       6050.0    Male  \n",
       "169       3700.0  Female  \n",
       "321       5600.0    Male  \n",
       "215       4000.0    Male  \n",
       "335       5850.0    Male  \n",
       "..           ...     ...  \n",
       "70        3600.0  Female  \n",
       "98        2900.0  Female  \n",
       "142       3050.0  Female  \n",
       "3            NaN     NaN  \n",
       "339          NaN     NaN  \n",
       "\n",
       "[344 rows x 7 columns]"
      ]
     },
     "execution_count": 25,
     "metadata": {},
     "output_type": "execute_result"
    }
   ],
   "source": [
    "df_penguins.sort_values(['bill_length_mm'], ascending=False)"
   ]
  },
  {
   "cell_type": "markdown",
   "id": "3b69d24f-cd5b-41c9-a4eb-b8325251fe7b",
   "metadata": {},
   "source": [
    "**26.** How could you sort by species first, then by body mass?"
   ]
  },
  {
   "cell_type": "code",
   "execution_count": 26,
   "id": "bda80b1d-2773-493f-b13d-7b2fa60e6849",
   "metadata": {},
   "outputs": [
    {
     "data": {
      "text/html": [
       "<div>\n",
       "<style scoped>\n",
       "    .dataframe tbody tr th:only-of-type {\n",
       "        vertical-align: middle;\n",
       "    }\n",
       "\n",
       "    .dataframe tbody tr th {\n",
       "        vertical-align: top;\n",
       "    }\n",
       "\n",
       "    .dataframe thead th {\n",
       "        text-align: right;\n",
       "    }\n",
       "</style>\n",
       "<table border=\"1\" class=\"dataframe\">\n",
       "  <thead>\n",
       "    <tr style=\"text-align: right;\">\n",
       "      <th></th>\n",
       "      <th>species</th>\n",
       "      <th>island</th>\n",
       "      <th>bill_length_mm</th>\n",
       "      <th>bill_depth_mm</th>\n",
       "      <th>flipper_length_mm</th>\n",
       "      <th>body_mass_g</th>\n",
       "      <th>sex</th>\n",
       "    </tr>\n",
       "  </thead>\n",
       "  <tbody>\n",
       "    <tr>\n",
       "      <th>58</th>\n",
       "      <td>Adelie</td>\n",
       "      <td>Biscoe</td>\n",
       "      <td>36.5</td>\n",
       "      <td>16.6</td>\n",
       "      <td>181.0</td>\n",
       "      <td>2850.0</td>\n",
       "      <td>Female</td>\n",
       "    </tr>\n",
       "    <tr>\n",
       "      <th>64</th>\n",
       "      <td>Adelie</td>\n",
       "      <td>Biscoe</td>\n",
       "      <td>36.4</td>\n",
       "      <td>17.1</td>\n",
       "      <td>184.0</td>\n",
       "      <td>2850.0</td>\n",
       "      <td>Female</td>\n",
       "    </tr>\n",
       "    <tr>\n",
       "      <th>54</th>\n",
       "      <td>Adelie</td>\n",
       "      <td>Biscoe</td>\n",
       "      <td>34.5</td>\n",
       "      <td>18.1</td>\n",
       "      <td>187.0</td>\n",
       "      <td>2900.0</td>\n",
       "      <td>Female</td>\n",
       "    </tr>\n",
       "    <tr>\n",
       "      <th>98</th>\n",
       "      <td>Adelie</td>\n",
       "      <td>Dream</td>\n",
       "      <td>33.1</td>\n",
       "      <td>16.1</td>\n",
       "      <td>178.0</td>\n",
       "      <td>2900.0</td>\n",
       "      <td>Female</td>\n",
       "    </tr>\n",
       "    <tr>\n",
       "      <th>116</th>\n",
       "      <td>Adelie</td>\n",
       "      <td>Torgersen</td>\n",
       "      <td>38.6</td>\n",
       "      <td>17.0</td>\n",
       "      <td>188.0</td>\n",
       "      <td>2900.0</td>\n",
       "      <td>Female</td>\n",
       "    </tr>\n",
       "    <tr>\n",
       "      <th>...</th>\n",
       "      <td>...</td>\n",
       "      <td>...</td>\n",
       "      <td>...</td>\n",
       "      <td>...</td>\n",
       "      <td>...</td>\n",
       "      <td>...</td>\n",
       "      <td>...</td>\n",
       "    </tr>\n",
       "    <tr>\n",
       "      <th>297</th>\n",
       "      <td>Gentoo</td>\n",
       "      <td>Biscoe</td>\n",
       "      <td>51.1</td>\n",
       "      <td>16.3</td>\n",
       "      <td>220.0</td>\n",
       "      <td>6000.0</td>\n",
       "      <td>Male</td>\n",
       "    </tr>\n",
       "    <tr>\n",
       "      <th>337</th>\n",
       "      <td>Gentoo</td>\n",
       "      <td>Biscoe</td>\n",
       "      <td>48.8</td>\n",
       "      <td>16.2</td>\n",
       "      <td>222.0</td>\n",
       "      <td>6000.0</td>\n",
       "      <td>Male</td>\n",
       "    </tr>\n",
       "    <tr>\n",
       "      <th>253</th>\n",
       "      <td>Gentoo</td>\n",
       "      <td>Biscoe</td>\n",
       "      <td>59.6</td>\n",
       "      <td>17.0</td>\n",
       "      <td>230.0</td>\n",
       "      <td>6050.0</td>\n",
       "      <td>Male</td>\n",
       "    </tr>\n",
       "    <tr>\n",
       "      <th>237</th>\n",
       "      <td>Gentoo</td>\n",
       "      <td>Biscoe</td>\n",
       "      <td>49.2</td>\n",
       "      <td>15.2</td>\n",
       "      <td>221.0</td>\n",
       "      <td>6300.0</td>\n",
       "      <td>Male</td>\n",
       "    </tr>\n",
       "    <tr>\n",
       "      <th>339</th>\n",
       "      <td>Gentoo</td>\n",
       "      <td>Biscoe</td>\n",
       "      <td>NaN</td>\n",
       "      <td>NaN</td>\n",
       "      <td>NaN</td>\n",
       "      <td>NaN</td>\n",
       "      <td>NaN</td>\n",
       "    </tr>\n",
       "  </tbody>\n",
       "</table>\n",
       "<p>344 rows × 7 columns</p>\n",
       "</div>"
      ],
      "text/plain": [
       "    species     island  bill_length_mm  bill_depth_mm  flipper_length_mm  \\\n",
       "58   Adelie     Biscoe            36.5           16.6              181.0   \n",
       "64   Adelie     Biscoe            36.4           17.1              184.0   \n",
       "54   Adelie     Biscoe            34.5           18.1              187.0   \n",
       "98   Adelie      Dream            33.1           16.1              178.0   \n",
       "116  Adelie  Torgersen            38.6           17.0              188.0   \n",
       "..      ...        ...             ...            ...                ...   \n",
       "297  Gentoo     Biscoe            51.1           16.3              220.0   \n",
       "337  Gentoo     Biscoe            48.8           16.2              222.0   \n",
       "253  Gentoo     Biscoe            59.6           17.0              230.0   \n",
       "237  Gentoo     Biscoe            49.2           15.2              221.0   \n",
       "339  Gentoo     Biscoe             NaN            NaN                NaN   \n",
       "\n",
       "     body_mass_g     sex  \n",
       "58        2850.0  Female  \n",
       "64        2850.0  Female  \n",
       "54        2900.0  Female  \n",
       "98        2900.0  Female  \n",
       "116       2900.0  Female  \n",
       "..           ...     ...  \n",
       "297       6000.0    Male  \n",
       "337       6000.0    Male  \n",
       "253       6050.0    Male  \n",
       "237       6300.0    Male  \n",
       "339          NaN     NaN  \n",
       "\n",
       "[344 rows x 7 columns]"
      ]
     },
     "execution_count": 26,
     "metadata": {},
     "output_type": "execute_result"
    }
   ],
   "source": [
    "df_penguins.sort_values(['species', 'body_mass_g'])"
   ]
  },
  {
   "cell_type": "markdown",
   "id": "82890e5f-d9f7-4729-a179-b0883f1bc498",
   "metadata": {},
   "source": [
    "## Selecting Rows, Columns, and Cells\n",
    "\n",
    "Let's look at some precious stones now, and leave the poor penguins alone for a while.  Let's look at some precious stones now, and leave the poor penguins alone for a while.  "
   ]
  },
  {
   "cell_type": "markdown",
   "id": "5d1abb35-5d24-4bd2-89d4-dd9dbbdadccf",
   "metadata": {},
   "source": [
    "**27.** Load the Seaborn \"diamonds\" dataset into a Pandas dataframe named diamonds."
   ]
  },
  {
   "cell_type": "code",
   "execution_count": 27,
   "id": "9247186e-0c21-43d3-88db-79c7f4ecbc06",
   "metadata": {},
   "outputs": [],
   "source": [
    "diamonds = sb.load_dataset('diamonds')"
   ]
  },
  {
   "cell_type": "markdown",
   "id": "cbe20f32-5cb2-4191-9994-dbadaf7488dd",
   "metadata": {},
   "source": [
    "**28.** Display the columns that are available."
   ]
  },
  {
   "cell_type": "code",
   "execution_count": 28,
   "id": "c12fd634-2c83-4130-87f3-5580e42ce496",
   "metadata": {},
   "outputs": [
    {
     "data": {
      "text/plain": [
       "Index(['carat', 'cut', 'color', 'clarity', 'depth', 'table', 'price', 'x', 'y',\n",
       "       'z'],\n",
       "      dtype='object')"
      ]
     },
     "execution_count": 28,
     "metadata": {},
     "output_type": "execute_result"
    }
   ],
   "source": [
    "diamonds.columns"
   ]
  },
  {
   "cell_type": "markdown",
   "id": "505b677e-c1bb-4daa-8615-a78ea4860a71",
   "metadata": {},
   "source": [
    "**29.** If you select a single column from the diamonds DataFrame, what will be the type of the return value?"
   ]
  },
  {
   "cell_type": "markdown",
   "id": "10307c17-e2ad-48ce-b0b9-ddde83b5f6c3",
   "metadata": {},
   "source": [
    "A Pandas Series."
   ]
  },
  {
   "cell_type": "markdown",
   "id": "5f5d7cae-b784-449d-be28-a1473721b4fa",
   "metadata": {},
   "source": [
    "**30.** Select the 'table' column and show its type"
   ]
  },
  {
   "cell_type": "code",
   "execution_count": 29,
   "id": "18963cfe-266d-4ca6-9471-b47000c35ee5",
   "metadata": {},
   "outputs": [
    {
     "data": {
      "text/plain": [
       "pandas.core.series.Series"
      ]
     },
     "execution_count": 29,
     "metadata": {},
     "output_type": "execute_result"
    }
   ],
   "source": [
    "table = diamonds['table']\n",
    "type(table)"
   ]
  },
  {
   "cell_type": "markdown",
   "id": "82de5bb4-baed-422e-83a6-d7581ea15ab8",
   "metadata": {},
   "source": [
    "**31.** Select the first ten rows of the price and carat columns ten rows of the diamonds DataFrame into a variable called subset, and display them."
   ]
  },
  {
   "cell_type": "code",
   "execution_count": 30,
   "id": "55ccbc17-b267-4ffb-9876-d2192ba2437d",
   "metadata": {},
   "outputs": [
    {
     "data": {
      "text/html": [
       "<div>\n",
       "<style scoped>\n",
       "    .dataframe tbody tr th:only-of-type {\n",
       "        vertical-align: middle;\n",
       "    }\n",
       "\n",
       "    .dataframe tbody tr th {\n",
       "        vertical-align: top;\n",
       "    }\n",
       "\n",
       "    .dataframe thead th {\n",
       "        text-align: right;\n",
       "    }\n",
       "</style>\n",
       "<table border=\"1\" class=\"dataframe\">\n",
       "  <thead>\n",
       "    <tr style=\"text-align: right;\">\n",
       "      <th></th>\n",
       "      <th>price</th>\n",
       "      <th>carat</th>\n",
       "    </tr>\n",
       "  </thead>\n",
       "  <tbody>\n",
       "    <tr>\n",
       "      <th>0</th>\n",
       "      <td>326</td>\n",
       "      <td>0.23</td>\n",
       "    </tr>\n",
       "    <tr>\n",
       "      <th>1</th>\n",
       "      <td>326</td>\n",
       "      <td>0.21</td>\n",
       "    </tr>\n",
       "    <tr>\n",
       "      <th>2</th>\n",
       "      <td>327</td>\n",
       "      <td>0.23</td>\n",
       "    </tr>\n",
       "    <tr>\n",
       "      <th>3</th>\n",
       "      <td>334</td>\n",
       "      <td>0.29</td>\n",
       "    </tr>\n",
       "    <tr>\n",
       "      <th>4</th>\n",
       "      <td>335</td>\n",
       "      <td>0.31</td>\n",
       "    </tr>\n",
       "    <tr>\n",
       "      <th>5</th>\n",
       "      <td>336</td>\n",
       "      <td>0.24</td>\n",
       "    </tr>\n",
       "    <tr>\n",
       "      <th>6</th>\n",
       "      <td>336</td>\n",
       "      <td>0.24</td>\n",
       "    </tr>\n",
       "    <tr>\n",
       "      <th>7</th>\n",
       "      <td>337</td>\n",
       "      <td>0.26</td>\n",
       "    </tr>\n",
       "    <tr>\n",
       "      <th>8</th>\n",
       "      <td>337</td>\n",
       "      <td>0.22</td>\n",
       "    </tr>\n",
       "    <tr>\n",
       "      <th>9</th>\n",
       "      <td>338</td>\n",
       "      <td>0.23</td>\n",
       "    </tr>\n",
       "  </tbody>\n",
       "</table>\n",
       "</div>"
      ],
      "text/plain": [
       "   price  carat\n",
       "0    326   0.23\n",
       "1    326   0.21\n",
       "2    327   0.23\n",
       "3    334   0.29\n",
       "4    335   0.31\n",
       "5    336   0.24\n",
       "6    336   0.24\n",
       "7    337   0.26\n",
       "8    337   0.22\n",
       "9    338   0.23"
      ]
     },
     "execution_count": 30,
     "metadata": {},
     "output_type": "execute_result"
    }
   ],
   "source": [
    "subset = diamonds.loc[0:9, ['price', 'carat']]\n",
    "subset"
   ]
  },
  {
   "cell_type": "markdown",
   "id": "fdb4c150-ebdc-420d-979b-14231fc4764b",
   "metadata": {},
   "source": [
    "**32.** For a given column, show the code to display the datatype of the _values_ in the column?  "
   ]
  },
  {
   "cell_type": "code",
   "execution_count": 31,
   "id": "bb6b2d54-e58f-4da4-bcf2-a4d08ee34602",
   "metadata": {},
   "outputs": [
    {
     "data": {
      "text/plain": [
       "dtype('int64')"
      ]
     },
     "execution_count": 31,
     "metadata": {},
     "output_type": "execute_result"
    }
   ],
   "source": [
    "diamonds['price'].dtype"
   ]
  },
  {
   "cell_type": "markdown",
   "id": "ca510203-8c7e-48a1-81c3-c9e1bc5aa7b1",
   "metadata": {},
   "source": [
    "**33.** Select the first row of the diamonds DataFrame into a variable called row."
   ]
  },
  {
   "cell_type": "code",
   "execution_count": 32,
   "id": "8535dd1a-db9d-49c7-a6b2-0257616d7334",
   "metadata": {},
   "outputs": [],
   "source": [
    "row = diamonds.iloc[0,:]"
   ]
  },
  {
   "cell_type": "markdown",
   "id": "edbd9394-ec43-479c-919a-5eab17acb792",
   "metadata": {},
   "source": [
    "**34.** What would you expect the data type of the row to be?  Display it."
   ]
  },
  {
   "cell_type": "markdown",
   "id": "22d7c0bd-cf41-491e-8fc5-41aed540c16e",
   "metadata": {},
   "source": [
    "A Pandas series"
   ]
  },
  {
   "cell_type": "code",
   "execution_count": 33,
   "id": "777274bd-3653-4d0c-b73e-75f879cb48ae",
   "metadata": {},
   "outputs": [
    {
     "data": {
      "text/plain": [
       "pandas.core.series.Series"
      ]
     },
     "execution_count": 33,
     "metadata": {},
     "output_type": "execute_result"
    }
   ],
   "source": [
    "type(row)"
   ]
  },
  {
   "cell_type": "markdown",
   "id": "f6027d4a-4df5-45c6-bb82-c4ed046c2681",
   "metadata": {},
   "source": [
    "**35.** Can you discover the names of the columns using only the row returned in #33?  Why or why not?Can you discover the names of the columns using only the row returned in #33?  Why or why not?"
   ]
  },
  {
   "cell_type": "markdown",
   "id": "55c063e1-2346-4782-9133-e684c2714fe0",
   "metadata": {},
   "source": [
    "Yes, because a row series should have the columns as the index (See below):"
   ]
  },
  {
   "cell_type": "code",
   "execution_count": 34,
   "id": "1a5b9a02-9764-43b7-b49b-4522506e5669",
   "metadata": {},
   "outputs": [
    {
     "data": {
      "text/plain": [
       "Index(['carat', 'cut', 'color', 'clarity', 'depth', 'table', 'price', 'x', 'y',\n",
       "       'z'],\n",
       "      dtype='object')"
      ]
     },
     "execution_count": 34,
     "metadata": {},
     "output_type": "execute_result"
    }
   ],
   "source": [
    "row.index"
   ]
  },
  {
   "cell_type": "markdown",
   "id": "369f761e-0dbe-4589-835f-526ab8f9884f",
   "metadata": {},
   "source": [
    "**36.** Select the row with the highest priced diamond."
   ]
  },
  {
   "cell_type": "code",
   "execution_count": 35,
   "id": "41f8510d-cf79-43eb-910c-1c03aebc21ba",
   "metadata": {},
   "outputs": [
    {
     "data": {
      "text/plain": [
       "carat         2.29\n",
       "cut        Premium\n",
       "color            I\n",
       "clarity        VS2\n",
       "depth         60.8\n",
       "table         60.0\n",
       "price        18823\n",
       "x              8.5\n",
       "y             8.47\n",
       "z             5.16\n",
       "Name: 27749, dtype: object"
      ]
     },
     "execution_count": 35,
     "metadata": {},
     "output_type": "execute_result"
    }
   ],
   "source": [
    "diamonds.loc[diamonds['price'].idxmax(), :]"
   ]
  },
  {
   "cell_type": "markdown",
   "id": "2694d362-a5d1-4ad9-8b09-f408d7531948",
   "metadata": {},
   "source": [
    "**37.** Select the row with the lowest priced diamond."
   ]
  },
  {
   "cell_type": "code",
   "execution_count": 36,
   "id": "b6559ffa-fbb6-4ce9-b882-5bccbf5403e4",
   "metadata": {},
   "outputs": [
    {
     "data": {
      "text/plain": [
       "carat       0.23\n",
       "cut        Ideal\n",
       "color          E\n",
       "clarity      SI2\n",
       "depth       61.5\n",
       "table       55.0\n",
       "price        326\n",
       "x           3.95\n",
       "y           3.98\n",
       "z           2.43\n",
       "Name: 0, dtype: object"
      ]
     },
     "execution_count": 36,
     "metadata": {},
     "output_type": "execute_result"
    }
   ],
   "source": [
    "diamonds.loc[diamonds['price'].idxmin(), :]"
   ]
  },
  {
   "cell_type": "markdown",
   "id": "e366af69-1739-48c5-b964-298fa294bc7a",
   "metadata": {},
   "source": [
    "## Some Exercises Using Time Series"
   ]
  },
  {
   "cell_type": "markdown",
   "id": "ca92f2e5-c4f3-460e-b3b1-0d6bff4694ff",
   "metadata": {},
   "source": [
    "**38.** Load the taxis dataset into a DataFrame, ```taxis```."
   ]
  },
  {
   "cell_type": "code",
   "execution_count": 37,
   "id": "5bb6dee5-3828-4a80-8a35-98397639e5db",
   "metadata": {},
   "outputs": [],
   "source": [
    "taxis = sb.load_dataset('taxis')"
   ]
  },
  {
   "cell_type": "markdown",
   "id": "06ef6738-b5fb-4341-8ced-15f02ee5aad6",
   "metadata": {},
   "source": [
    "**39.** The 'pickup' column contains the date and time the customer picked up, but it's a string.  Add a column to the DataFrame, 'pickup_time', containing the value in 'pickup' as a DateTime."
   ]
  },
  {
   "cell_type": "code",
   "execution_count": 38,
   "id": "a857614a-ada0-43c5-9ba0-6e00422bf518",
   "metadata": {},
   "outputs": [],
   "source": [
    "taxis['pickup_time'] = pd.to_datetime(taxis['pickup'])"
   ]
  },
  {
   "cell_type": "markdown",
   "id": "d2aca5a0-b67d-4c2b-928f-49a0df783a4a",
   "metadata": {},
   "source": [
    "**40.** We have a hypothesis that as the day goes on, the tips get higher.  We'll need to wrangle the data a bit before testing this, however.  First, now that we have a datetime column, pickup_time, create a subset of it to create a new DataFrame, taxis_one_day. This new DataFrame should have values between '2019-03-23 00:06:00' (inclusive) and '2019-03-24 00:00:00' (exlusive)."
   ]
  },
  {
   "cell_type": "code",
   "execution_count": 39,
   "id": "4c92be8d-ee1a-452d-84e9-64617cbcd850",
   "metadata": {},
   "outputs": [],
   "source": [
    "mask = (taxis['pickup_time'] >= '2019-03-23 06:00:00') & (taxis['pickup_time'] < '2019-03-24 00:00:00')\n",
    "taxis_one_day = taxis.loc[mask]"
   ]
  },
  {
   "cell_type": "markdown",
   "id": "14b66e0e-762c-433c-9041-e40cf624eaa5",
   "metadata": {},
   "source": [
    "**41.** We now have a range from morning until midnight, but we to take the mean of the numeric columns, grouped at one hour intervals.  Save the result as df_means, and display it."
   ]
  },
  {
   "cell_type": "code",
   "execution_count": 40,
   "id": "baca4e69-dc2d-492e-918b-c15d7d560b4b",
   "metadata": {},
   "outputs": [
    {
     "data": {
      "text/html": [
       "<div>\n",
       "<style scoped>\n",
       "    .dataframe tbody tr th:only-of-type {\n",
       "        vertical-align: middle;\n",
       "    }\n",
       "\n",
       "    .dataframe tbody tr th {\n",
       "        vertical-align: top;\n",
       "    }\n",
       "\n",
       "    .dataframe thead th {\n",
       "        text-align: right;\n",
       "    }\n",
       "</style>\n",
       "<table border=\"1\" class=\"dataframe\">\n",
       "  <thead>\n",
       "    <tr style=\"text-align: right;\">\n",
       "      <th></th>\n",
       "      <th>passengers</th>\n",
       "      <th>distance</th>\n",
       "      <th>fare</th>\n",
       "      <th>tip</th>\n",
       "      <th>tolls</th>\n",
       "      <th>total</th>\n",
       "    </tr>\n",
       "    <tr>\n",
       "      <th>pickup_time</th>\n",
       "      <th></th>\n",
       "      <th></th>\n",
       "      <th></th>\n",
       "      <th></th>\n",
       "      <th></th>\n",
       "      <th></th>\n",
       "    </tr>\n",
       "  </thead>\n",
       "  <tbody>\n",
       "    <tr>\n",
       "      <th>2019-03-23 06:00:00</th>\n",
       "      <td>1.000000</td>\n",
       "      <td>0.400000</td>\n",
       "      <td>21.500000</td>\n",
       "      <td>0.000000</td>\n",
       "      <td>0.000000</td>\n",
       "      <td>23.133333</td>\n",
       "    </tr>\n",
       "    <tr>\n",
       "      <th>2019-03-23 07:00:00</th>\n",
       "      <td>2.333333</td>\n",
       "      <td>0.980000</td>\n",
       "      <td>5.250000</td>\n",
       "      <td>1.165000</td>\n",
       "      <td>0.000000</td>\n",
       "      <td>9.298333</td>\n",
       "    </tr>\n",
       "    <tr>\n",
       "      <th>2019-03-23 08:00:00</th>\n",
       "      <td>1.000000</td>\n",
       "      <td>0.020000</td>\n",
       "      <td>2.500000</td>\n",
       "      <td>0.000000</td>\n",
       "      <td>0.000000</td>\n",
       "      <td>3.300000</td>\n",
       "    </tr>\n",
       "    <tr>\n",
       "      <th>2019-03-23 09:00:00</th>\n",
       "      <td>1.500000</td>\n",
       "      <td>1.352000</td>\n",
       "      <td>7.400000</td>\n",
       "      <td>1.674000</td>\n",
       "      <td>0.000000</td>\n",
       "      <td>12.124000</td>\n",
       "    </tr>\n",
       "    <tr>\n",
       "      <th>2019-03-23 10:00:00</th>\n",
       "      <td>1.000000</td>\n",
       "      <td>1.760000</td>\n",
       "      <td>8.750000</td>\n",
       "      <td>0.727500</td>\n",
       "      <td>0.000000</td>\n",
       "      <td>12.152500</td>\n",
       "    </tr>\n",
       "    <tr>\n",
       "      <th>2019-03-23 11:00:00</th>\n",
       "      <td>1.909091</td>\n",
       "      <td>2.070000</td>\n",
       "      <td>11.090909</td>\n",
       "      <td>0.803636</td>\n",
       "      <td>0.000000</td>\n",
       "      <td>14.667273</td>\n",
       "    </tr>\n",
       "    <tr>\n",
       "      <th>2019-03-23 12:00:00</th>\n",
       "      <td>2.000000</td>\n",
       "      <td>2.267143</td>\n",
       "      <td>10.260000</td>\n",
       "      <td>0.645714</td>\n",
       "      <td>0.000000</td>\n",
       "      <td>13.420000</td>\n",
       "    </tr>\n",
       "    <tr>\n",
       "      <th>2019-03-23 13:00:00</th>\n",
       "      <td>2.500000</td>\n",
       "      <td>1.167000</td>\n",
       "      <td>7.550000</td>\n",
       "      <td>2.074000</td>\n",
       "      <td>0.000000</td>\n",
       "      <td>12.344000</td>\n",
       "    </tr>\n",
       "    <tr>\n",
       "      <th>2019-03-23 14:00:00</th>\n",
       "      <td>2.470588</td>\n",
       "      <td>4.752941</td>\n",
       "      <td>18.330000</td>\n",
       "      <td>1.945294</td>\n",
       "      <td>1.003529</td>\n",
       "      <td>24.267059</td>\n",
       "    </tr>\n",
       "    <tr>\n",
       "      <th>2019-03-23 15:00:00</th>\n",
       "      <td>1.000000</td>\n",
       "      <td>6.557143</td>\n",
       "      <td>22.214286</td>\n",
       "      <td>3.210000</td>\n",
       "      <td>1.645714</td>\n",
       "      <td>30.370000</td>\n",
       "    </tr>\n",
       "    <tr>\n",
       "      <th>2019-03-23 16:00:00</th>\n",
       "      <td>2.000000</td>\n",
       "      <td>2.194545</td>\n",
       "      <td>10.454545</td>\n",
       "      <td>1.109091</td>\n",
       "      <td>0.000000</td>\n",
       "      <td>14.431818</td>\n",
       "    </tr>\n",
       "    <tr>\n",
       "      <th>2019-03-23 17:00:00</th>\n",
       "      <td>1.090909</td>\n",
       "      <td>1.913636</td>\n",
       "      <td>14.818182</td>\n",
       "      <td>2.688182</td>\n",
       "      <td>0.523636</td>\n",
       "      <td>20.739091</td>\n",
       "    </tr>\n",
       "    <tr>\n",
       "      <th>2019-03-23 18:00:00</th>\n",
       "      <td>1.571429</td>\n",
       "      <td>3.206429</td>\n",
       "      <td>12.821429</td>\n",
       "      <td>0.844286</td>\n",
       "      <td>0.411429</td>\n",
       "      <td>16.427143</td>\n",
       "    </tr>\n",
       "    <tr>\n",
       "      <th>2019-03-23 19:00:00</th>\n",
       "      <td>1.526316</td>\n",
       "      <td>2.097895</td>\n",
       "      <td>10.263158</td>\n",
       "      <td>1.176316</td>\n",
       "      <td>0.000000</td>\n",
       "      <td>14.226316</td>\n",
       "    </tr>\n",
       "    <tr>\n",
       "      <th>2019-03-23 20:00:00</th>\n",
       "      <td>1.400000</td>\n",
       "      <td>2.448000</td>\n",
       "      <td>11.100000</td>\n",
       "      <td>1.544000</td>\n",
       "      <td>0.000000</td>\n",
       "      <td>15.944000</td>\n",
       "    </tr>\n",
       "    <tr>\n",
       "      <th>2019-03-23 21:00:00</th>\n",
       "      <td>1.000000</td>\n",
       "      <td>2.017143</td>\n",
       "      <td>10.571429</td>\n",
       "      <td>1.420000</td>\n",
       "      <td>0.000000</td>\n",
       "      <td>15.791429</td>\n",
       "    </tr>\n",
       "    <tr>\n",
       "      <th>2019-03-23 22:00:00</th>\n",
       "      <td>1.307692</td>\n",
       "      <td>1.881538</td>\n",
       "      <td>8.923077</td>\n",
       "      <td>1.094615</td>\n",
       "      <td>0.000000</td>\n",
       "      <td>13.433077</td>\n",
       "    </tr>\n",
       "    <tr>\n",
       "      <th>2019-03-23 23:00:00</th>\n",
       "      <td>1.615385</td>\n",
       "      <td>3.725385</td>\n",
       "      <td>15.115385</td>\n",
       "      <td>1.696154</td>\n",
       "      <td>0.000000</td>\n",
       "      <td>20.034615</td>\n",
       "    </tr>\n",
       "  </tbody>\n",
       "</table>\n",
       "</div>"
      ],
      "text/plain": [
       "                     passengers  distance       fare       tip     tolls  \\\n",
       "pickup_time                                                                \n",
       "2019-03-23 06:00:00    1.000000  0.400000  21.500000  0.000000  0.000000   \n",
       "2019-03-23 07:00:00    2.333333  0.980000   5.250000  1.165000  0.000000   \n",
       "2019-03-23 08:00:00    1.000000  0.020000   2.500000  0.000000  0.000000   \n",
       "2019-03-23 09:00:00    1.500000  1.352000   7.400000  1.674000  0.000000   \n",
       "2019-03-23 10:00:00    1.000000  1.760000   8.750000  0.727500  0.000000   \n",
       "2019-03-23 11:00:00    1.909091  2.070000  11.090909  0.803636  0.000000   \n",
       "2019-03-23 12:00:00    2.000000  2.267143  10.260000  0.645714  0.000000   \n",
       "2019-03-23 13:00:00    2.500000  1.167000   7.550000  2.074000  0.000000   \n",
       "2019-03-23 14:00:00    2.470588  4.752941  18.330000  1.945294  1.003529   \n",
       "2019-03-23 15:00:00    1.000000  6.557143  22.214286  3.210000  1.645714   \n",
       "2019-03-23 16:00:00    2.000000  2.194545  10.454545  1.109091  0.000000   \n",
       "2019-03-23 17:00:00    1.090909  1.913636  14.818182  2.688182  0.523636   \n",
       "2019-03-23 18:00:00    1.571429  3.206429  12.821429  0.844286  0.411429   \n",
       "2019-03-23 19:00:00    1.526316  2.097895  10.263158  1.176316  0.000000   \n",
       "2019-03-23 20:00:00    1.400000  2.448000  11.100000  1.544000  0.000000   \n",
       "2019-03-23 21:00:00    1.000000  2.017143  10.571429  1.420000  0.000000   \n",
       "2019-03-23 22:00:00    1.307692  1.881538   8.923077  1.094615  0.000000   \n",
       "2019-03-23 23:00:00    1.615385  3.725385  15.115385  1.696154  0.000000   \n",
       "\n",
       "                         total  \n",
       "pickup_time                     \n",
       "2019-03-23 06:00:00  23.133333  \n",
       "2019-03-23 07:00:00   9.298333  \n",
       "2019-03-23 08:00:00   3.300000  \n",
       "2019-03-23 09:00:00  12.124000  \n",
       "2019-03-23 10:00:00  12.152500  \n",
       "2019-03-23 11:00:00  14.667273  \n",
       "2019-03-23 12:00:00  13.420000  \n",
       "2019-03-23 13:00:00  12.344000  \n",
       "2019-03-23 14:00:00  24.267059  \n",
       "2019-03-23 15:00:00  30.370000  \n",
       "2019-03-23 16:00:00  14.431818  \n",
       "2019-03-23 17:00:00  20.739091  \n",
       "2019-03-23 18:00:00  16.427143  \n",
       "2019-03-23 19:00:00  14.226316  \n",
       "2019-03-23 20:00:00  15.944000  \n",
       "2019-03-23 21:00:00  15.791429  \n",
       "2019-03-23 22:00:00  13.433077  \n",
       "2019-03-23 23:00:00  20.034615  "
      ]
     },
     "execution_count": 40,
     "metadata": {},
     "output_type": "execute_result"
    }
   ],
   "source": [
    "taxis_means = taxis_one_day.groupby(pd.Grouper(key='pickup_time', freq='1h')).mean()\n",
    "taxis_means"
   ]
  },
  {
   "cell_type": "markdown",
   "id": "601743a0-8e97-46f3-8c46-6681353d374c",
   "metadata": {},
   "source": [
    "**42.** Create a simple line plot of the value \"distance\".  "
   ]
  },
  {
   "cell_type": "code",
   "execution_count": 41,
   "id": "d270aaf8-b52e-4d1f-8373-3ce72f9d4a81",
   "metadata": {},
   "outputs": [
    {
     "data": {
      "text/plain": [
       "<AxesSubplot:xlabel='pickup_time'>"
      ]
     },
     "execution_count": 41,
     "metadata": {},
     "output_type": "execute_result"
    },
    {
     "data": {
      "image/png": "[encoded data removed]",
      "text/plain": [
       "<Figure size 432x288 with 1 Axes>"
      ]
     },
     "metadata": {
      "needs_background": "light"
     },
     "output_type": "display_data"
    }
   ],
   "source": [
    "taxis_means.plot(y='distance')"
   ]
  },
  {
   "cell_type": "markdown",
   "id": "deba998f-24b1-4fc3-93e6-807955ba111b",
   "metadata": {},
   "source": [
    "**43.** Overall, do riders travel further or less far as the day progresses?"
   ]
  },
  {
   "cell_type": "markdown",
   "id": "4b69ad07-bd6c-4ef8-8caa-ec0b5b4a2b21",
   "metadata": {},
   "source": [
    "They travel further."
   ]
  },
  {
   "cell_type": "markdown",
   "id": "3c1784d1-e66d-40c7-87d1-a5a4bc7dd43b",
   "metadata": {},
   "source": [
    "**44.** Create a new column in taxis_means, ```tip_in_percent```.  The source columns for this should be \"fare\" and \"tip\""
   ]
  },
  {
   "cell_type": "code",
   "execution_count": 42,
   "id": "014637ae-70f7-4289-8077-5264bf46daab",
   "metadata": {},
   "outputs": [
    {
     "data": {
      "text/plain": [
       "pickup_time\n",
       "2019-03-23 06:00:00     0.000000\n",
       "2019-03-23 07:00:00    22.190476\n",
       "2019-03-23 08:00:00     0.000000\n",
       "2019-03-23 09:00:00    22.621622\n",
       "2019-03-23 10:00:00     8.314286\n",
       "2019-03-23 11:00:00     7.245902\n",
       "2019-03-23 12:00:00     6.293512\n",
       "2019-03-23 13:00:00    27.470199\n",
       "2019-03-23 14:00:00    10.612625\n",
       "2019-03-23 15:00:00    14.450161\n",
       "2019-03-23 16:00:00    10.608696\n",
       "2019-03-23 17:00:00    18.141104\n",
       "2019-03-23 18:00:00     6.584958\n",
       "2019-03-23 19:00:00    11.461538\n",
       "2019-03-23 20:00:00    13.909910\n",
       "2019-03-23 21:00:00    13.432432\n",
       "2019-03-23 22:00:00    12.267241\n",
       "2019-03-23 23:00:00    11.221374\n",
       "Freq: H, Name: tip_in_percent, dtype: float64"
      ]
     },
     "execution_count": 42,
     "metadata": {},
     "output_type": "execute_result"
    }
   ],
   "source": [
    "taxis_means['tip_in_percent'] = taxis_means.tip / taxis_means.fare * 100\n",
    "taxis_means.tip_in_percent"
   ]
  },
  {
   "cell_type": "markdown",
   "id": "15be5b49-d465-48a7-9b3b-6d58291752d9",
   "metadata": {},
   "source": [
    "**45.** Create a new column, time_interval, as a range of integer values beginning with zero."
   ]
  },
  {
   "cell_type": "code",
   "execution_count": 43,
   "id": "bcc2dca5-7682-4e55-b218-e94006071ebd",
   "metadata": {},
   "outputs": [
    {
     "data": {
      "text/plain": [
       "pickup_time\n",
       "2019-03-23 06:00:00     0\n",
       "2019-03-23 07:00:00     1\n",
       "2019-03-23 08:00:00     2\n",
       "2019-03-23 09:00:00     3\n",
       "2019-03-23 10:00:00     4\n",
       "2019-03-23 11:00:00     5\n",
       "2019-03-23 12:00:00     6\n",
       "2019-03-23 13:00:00     7\n",
       "2019-03-23 14:00:00     8\n",
       "2019-03-23 15:00:00     9\n",
       "2019-03-23 16:00:00    10\n",
       "2019-03-23 17:00:00    11\n",
       "2019-03-23 18:00:00    12\n",
       "2019-03-23 19:00:00    13\n",
       "2019-03-23 20:00:00    14\n",
       "2019-03-23 21:00:00    15\n",
       "2019-03-23 22:00:00    16\n",
       "2019-03-23 23:00:00    17\n",
       "Freq: H, Name: time_interval, dtype: int64"
      ]
     },
     "execution_count": 43,
     "metadata": {},
     "output_type": "execute_result"
    }
   ],
   "source": [
    "taxis_means['time_interval'] = np.arange(0, taxis_means.shape[0])\n",
    "taxis_means.time_interval"
   ]
  },
  {
   "cell_type": "markdown",
   "id": "269b329e-cade-4e54-9ed8-ce5d23006750",
   "metadata": {},
   "source": [
    "Display the correlations between the following pairs of values:\n",
    "1. tip_in_percent and distance.\n",
    "1. tip_in_percent and passengers.\n",
    "1. tip_in_percent and time_interval."
   ]
  },
  {
   "cell_type": "code",
   "execution_count": 44,
   "id": "7003165a-2e86-46fa-9b0c-bb1e9dab4afd",
   "metadata": {},
   "outputs": [
    {
     "name": "stdout",
     "output_type": "stream",
     "text": [
      "0.058068558052138404\n",
      "0.39614201273484234\n",
      "0.11904714170082598\n"
     ]
    }
   ],
   "source": [
    "print(taxis_means['tip_in_percent'].corr(taxis_means['distance']))\n",
    "print(taxis_means['tip_in_percent'].corr(taxis_means['passengers']))\n",
    "print(taxis_means['tip_in_percent'].corr(taxis_means['time_interval']))"
   ]
  },
  {
   "cell_type": "markdown",
   "id": "934d0379-8d2c-4579-af88-fafffdb58767",
   "metadata": {},
   "source": [
    "**47.** Admittedly, the size of the data set is fairly small given how we've subsetted it.  But based on the values in #45, which of the three pairs show the strongest correlation."
   ]
  },
  {
   "cell_type": "markdown",
   "id": "04dfb838-f8de-4e79-8076-12ef0c187fc4",
   "metadata": {},
   "source": [
    "tip_in_percent and passengers."
   ]
  },
  {
   "cell_type": "markdown",
   "id": "279a9e91-2488-4e53-8234-ddde076fbe30",
   "metadata": {},
   "source": [
    "**48.** Did our hypothesis that people tip more as the day goes on turn out to be warranted?"
   ]
  },
  {
   "cell_type": "markdown",
   "id": "6aaf603f-5099-457c-99eb-bf8370583a0c",
   "metadata": {},
   "source": [
    "Not based on this dataset, no."
   ]
  }
 ],
 "metadata": {
  "kernelspec": {
   "display_name": "Python 3 (ipykernel)",
   "language": "python",
   "name": "python3"
  },
  "language_info": {
   "codemirror_mode": {
    "name": "ipython",
    "version": 3
   },
   "file_extension": ".py",
   "mimetype": "text/x-python",
   "name": "python",
   "nbconvert_exporter": "python",
   "pygments_lexer": "ipython3",
   "version": "3.10.2"
  }
 },
 "nbformat": 4,
 "nbformat_minor": 5
}
