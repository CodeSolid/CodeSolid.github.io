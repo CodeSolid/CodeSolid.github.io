{
 "cells": [
  {
   "cell_type": "markdown",
   "metadata": {},
   "source": [
    "# Python Indexing and Slicing Exercises\n",
    "\n",
    "This is the companion exercises notebook to the article [Python Indexing and Slicing: Complete Tutorial With Hand-On Exercises](https://codesolid.com/python-indexing-slicing-exercises/)."
   ]
  },
  {
   "cell_type": "markdown",
   "metadata": {},
   "source": [
    "__1.__ What does the code below produce, and what's it doing?  (You can run it to find out if you need to). Can you replace everything except the import with a print statement and a  concise slice expression?"
   ]
  },
  {
   "cell_type": "code",
   "execution_count": 35,
   "metadata": {},
   "outputs": [
    {
     "name": "stdout",
     "output_type": "stream",
     "text": [
      "AEIMQUY\n"
     ]
    }
   ],
   "source": [
    "from string import ascii_uppercase\n",
    "subset = \"\"\n",
    "for idx, letter in enumerate(ascii_uppercase):\n",
    "    if idx %4 == 0:\n",
    "        subset = subset + letter\n",
    "print(subset)"
   ]
  },
  {
   "cell_type": "code",
   "execution_count": 1,
   "metadata": {},
   "outputs": [],
   "source": [
    "from string import ascii_uppercase\n",
    "# Add your solution here:\n"
   ]
  },
  {
   "cell_type": "markdown",
   "metadata": {},
   "source": [
    "__2.__ Given the ascii_upercase we imported above, print the alphabet backward using a slice expression."
   ]
  },
  {
   "cell_type": "code",
   "execution_count": 2,
   "metadata": {},
   "outputs": [],
   "source": [
    "from string import ascii_uppercase\n",
    "# Add your solution here:\n"
   ]
  },
  {
   "cell_type": "markdown",
   "metadata": {},
   "source": [
    "__3.__ There's a needle in the haystack below. Extract it from the string.  In addition to a slice expression, you'll need the ```index``` method on the str class and the ```len``` function:\n",
    "\n",
    "```\n",
    "haystack = \"Hay hay hay hey hey needle nah nah nah nah, hey hey, goodbye.\"\n",
    "```"
   ]
  },
  {
   "cell_type": "code",
   "execution_count": 3,
   "metadata": {},
   "outputs": [],
   "source": [
    "haystack = \"Hay hay hay hey hey needle nah nah nah nah, hey hey, goodbye.\"\n",
    "# Add your solution here:\n"
   ]
  },
  {
   "cell_type": "markdown",
   "metadata": {},
   "source": [
    "__4.__ Using a slice expression, slice the list \"count_to_ten\" below to produce a list with: [9,6,3]\n",
    "    \n",
    "```\n",
    "count_to_ten = [num for num in range(1,11)]\n",
    "print(count_to_ten)\n",
    "```"
   ]
  },
  {
   "cell_type": "code",
   "execution_count": null,
   "metadata": {},
   "outputs": [],
   "source": [
    "count_to_ten = [num for num in range(1,11)]\n",
    "# Add your solution here:\n"
   ]
  },
  {
   "cell_type": "markdown",
   "metadata": {},
   "source": [
    "__5__. Given the following code, write a concise expression to index the word shrubbery from the tokens array:"
   ]
  },
  {
   "cell_type": "code",
   "execution_count": 5,
   "metadata": {},
   "outputs": [
    {
     "name": "stdout",
     "output_type": "stream",
     "text": [
      "['Is', 'there', 'anywhere', 'in', 'this', 'town', 'where', 'we', 'could', 'buy', 'a', 'shrubbery']\n"
     ]
    }
   ],
   "source": [
    "tokens = \"Is there anywhere in this town where we could buy a shrubbery\".split(\" \")\n",
    "print(tokens)"
   ]
  },
  {
   "cell_type": "code",
   "execution_count": 4,
   "metadata": {},
   "outputs": [],
   "source": [
    "tokens = \"Is there anywhere in this town where we could buy a shrubbery\".split(\" \")\n",
    "# Add your solution here"
   ]
  },
  {
   "cell_type": "markdown",
   "metadata": {},
   "source": [
    "__6.__ The index value can be used to look up the location of an item in a list or other sequence. It returns the item's index. Given the code below, what would you expect ```claim.index(\"Python\")``` to return?"
   ]
  },
  {
   "cell_type": "code",
   "execution_count": 19,
   "metadata": {},
   "outputs": [
    {
     "name": "stdout",
     "output_type": "stream",
     "text": [
      "['The', 'best', 'Python', 'examples', 'are', 'on', 'CodeSolid.com!']\n"
     ]
    }
   ],
   "source": [
    "claim = \"The best Python examples are on CodeSolid.com!\".split(\" \")\n",
    "print(claim)"
   ]
  },
  {
   "cell_type": "markdown",
   "metadata": {},
   "source": [
    "Write your answer here:\n"
   ]
  },
  {
   "cell_type": "markdown",
   "metadata": {},
   "source": [
    "__7__.  Given the following code, what does the first print statement do?  What does the second print statement do?\n",
    "\n",
    "```\n",
    "greeting = \"Hello\"\n",
    "print(greeting[4])\n",
    "print(greeting[5])\n",
    "```"
   ]
  },
  {
   "cell_type": "markdown",
   "metadata": {},
   "source": [
    "Write your answer here:\n"
   ]
  },
  {
   "cell_type": "markdown",
   "metadata": {},
   "source": [
    "__8.__  How could you find the knights in the 'introduction' below?"
   ]
  },
  {
   "cell_type": "code",
   "execution_count": 30,
   "metadata": {},
   "outputs": [],
   "source": [
    "introduction = \"We are the knights who say ni!\""
   ]
  },
  {
   "cell_type": "markdown",
   "metadata": {},
   "source": [
    "Write your answer here:\n"
   ]
  }
 ],
 "metadata": {
  "kernelspec": {
   "display_name": "Python 3 (ipykernel)",
   "language": "python",
   "name": "python3"
  },
  "language_info": {
   "codemirror_mode": {
    "name": "ipython",
    "version": 3
   },
   "file_extension": ".py",
   "mimetype": "text/x-python",
   "name": "python",
   "nbconvert_exporter": "python",
   "pygments_lexer": "ipython3",
   "version": "3.10.2"
  },
  "vscode": {
   "interpreter": {
    "hash": "6f484908f4354b341a50acb3e90894d58a8ba1c4a357f8a25e8071caf83056c8"
   }
  }
 },
 "nbformat": 4,
 "nbformat_minor": 4
}
