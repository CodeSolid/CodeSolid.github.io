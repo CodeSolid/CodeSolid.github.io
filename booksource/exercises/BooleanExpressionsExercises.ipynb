{
 "cells": [
  {
   "cell_type": "markdown",
   "id": "68325f78-d075-48de-b52a-ebe786ad75c2",
   "metadata": {},
   "source": [
    "# Python If/Else and Booleans:  Examples and Practice Questions\n",
    "\n",
    "These are the runnable exercises in [Boolean Expressions in Python: Beginner to Expert](https://codesolid.com/boolean-expressions-python/).  For the solutions to the exercises, see [this notebook](../solutions/BooleanExpressionsExercises.ipynb).\n",
    "\n",
    "For each of the following questions, give the best answer.  You can assume all code is indented/aligned correctly at the left even if it appears indented slightly in the question text.\n",
    "\n",
    "__1.__ The following Python code contains one or more errors.  How would you correct them?\n",
    "\n",
    "```\n",
    "water_level = 5\n",
    "\n",
    "if water_level > 3\n",
    "    print(\"Open flood gates\")\n",
    "else\n",
    "    print(\"Normal operations\")\n",
    "```"
   ]
  },
  {
   "cell_type": "code",
   "execution_count": null,
   "id": "cd2541cf-7b61-4611-a463-996a05d19fe5",
   "metadata": {},
   "outputs": [],
   "source": []
  },
  {
   "cell_type": "markdown",
   "id": "5130c4ad-dce9-4564-a7b2-46936f5ead7f",
   "metadata": {},
   "source": [
    "__2.__ Which of the following is not a boolean expression, and why?\n",
    "\n",
    "\n",
    "1. 5 < 2\n",
    "1. 2 < 3\n",
    "1. 3.5 <= 7\n",
    "1. 3 = 7\n",
    "1. my_variable is not None"
   ]
  },
  {
   "cell_type": "code",
   "execution_count": null,
   "id": "bf12b5d5-5109-4d20-b70f-dd054a4d9742",
   "metadata": {},
   "outputs": [],
   "source": []
  },
  {
   "cell_type": "markdown",
   "id": "c72b0682-68ce-43b8-93d0-3383b5560410",
   "metadata": {},
   "source": [
    "__3.__ What does the following print?\n",
    "\n",
    "```\n",
    "noise_level = 2\n",
    "heat_output_percent = 98\n",
    "\n",
    "if noise_level > 4 or heat_output_percent < 95:\n",
    "    print(\"Call technician\")\n",
    "else:\n",
    "    print(\"Normal operation\")\n",
    "\n",
    "```"
   ]
  },
  {
   "cell_type": "code",
   "execution_count": null,
   "id": "dc91daeb-37b7-47da-9334-3a1a11f88b9d",
   "metadata": {},
   "outputs": [],
   "source": []
  },
  {
   "cell_type": "markdown",
   "id": "743b9c21-ded7-413b-9e93-15e3b5100cdb",
   "metadata": {},
   "source": [
    "__4.__ What does the following print:\n",
    "```\n",
    "to_be = True\n",
    "\n",
    "print(to_be and not to_be)\n",
    "print(to_be or not to_be)\n",
    "```"
   ]
  },
  {
   "cell_type": "code",
   "execution_count": null,
   "id": "bebc7053-905b-4c33-8b45-5ba2c6ee12c2",
   "metadata": {},
   "outputs": [],
   "source": []
  },
  {
   "cell_type": "markdown",
   "id": "b425864c-5c6d-4545-835b-fb5168aefe86",
   "metadata": {},
   "source": [
    "__5.__ What does the following print:\n",
    "\n",
    "```\n",
    "water_level = 3\n",
    "time_of_day = \"PM\"\n",
    "heat_ouput_percent = 75\n",
    "\n",
    "print(water_level > 5 and time_of_day == \"PM\" or heat_output_percent < 90)\n",
    "```"
   ]
  },
  {
   "cell_type": "code",
   "execution_count": null,
   "id": "8787a381-f0b4-4ae2-b38d-2628b74ca95c",
   "metadata": {},
   "outputs": [],
   "source": []
  },
  {
   "cell_type": "markdown",
   "id": "8d817ec6-8f31-478a-8f79-d266fecdfe35",
   "metadata": {},
   "source": [
    "__6.__  The following code works OK, but what if anything is wrong with it?\n",
    "```\n",
    "if (3 > 10) or (4.5 > 9):\n",
    "    print(\"Gotcha!\")\n",
    "```"
   ]
  },
  {
   "cell_type": "markdown",
   "id": "be08d574-bb40-4e30-afba-d0137a72447b",
   "metadata": {},
   "source": [
    "What is the value of obscure after the following code runs?\n",
    "\n",
    "```\n",
    "obscure = True and False or False or True\n",
    "```"
   ]
  },
  {
   "cell_type": "code",
   "execution_count": null,
   "id": "bcaa0c72-cca4-4ad7-ad2b-d52d077de9ab",
   "metadata": {},
   "outputs": [],
   "source": []
  },
  {
   "cell_type": "markdown",
   "id": "6d19607f-29c6-4a8e-b622-9047883e6fba",
   "metadata": {},
   "source": [
    "__7.__ How might the following code be improved:\n",
    "\n",
    "```    \n",
    "rebounds = None\n",
    "\n",
    "if rebounds != None:\n",
    "    print(\"Got some rebounds!\")\n",
    "else:\n",
    "    print(\"No rebounds\")\n",
    "```    "
   ]
  },
  {
   "cell_type": "code",
   "execution_count": null,
   "id": "f66b2b2c-bc7d-4921-9081-56a1e03d581c",
   "metadata": {},
   "outputs": [],
   "source": []
  },
  {
   "cell_type": "markdown",
   "id": "17723efa-73a7-401f-b339-6af5cea6580d",
   "metadata": {},
   "source": [
    "__8.__ In the following code, which expressions are evaluated?\n",
    "\n",
    "```\n",
    "light_level = 10\n",
    "decibel_level = 30\n",
    "result = decibel_level > 50 or light_level == 10\n",
    "```\n",
    "\n",
    "A) decibel_level > 50\n",
    "\n",
    "B) light_level == 10 \n",
    "\n",
    "C) Both A and B \n",
    "\n",
    "D) Neither A nor B \n",
    "\n"
   ]
  },
  {
   "cell_type": "code",
   "execution_count": null,
   "id": "e2dd8704-d855-40b3-b01d-f838f8ec2867",
   "metadata": {},
   "outputs": [],
   "source": []
  },
  {
   "cell_type": "markdown",
   "id": "cc8a1e99-1d6c-4718-98f6-1e0459617f46",
   "metadata": {},
   "source": [
    "__9.__ Which of the following statements is false?  There may be more than one.\n",
    "\n",
    "<pre>\n",
    "A) An else clause must be preceded by an if clause.\n",
    "B) An if clause must be followed by an else clause.\n",
    "C) Usually, a Boolean expression contains one or more comparison operations.\n",
    "D) Boolean expressions can appear outside of an if statement.\n",
    "E) Boolean expressions must include a Boolean literal (i.e. one of the the keywords \"True\" or \"False\")\n",
    "</pre>\n"
   ]
  },
  {
   "cell_type": "code",
   "execution_count": null,
   "id": "0412de91-cf97-496b-a2ab-ac82c5a692d6",
   "metadata": {},
   "outputs": [],
   "source": []
  },
  {
   "cell_type": "markdown",
   "id": "18941676-8478-48a4-8534-d5565590ed5f",
   "metadata": {},
   "source": [
    "__10__. What is the error in the following code?  How would you fix it?\n",
    "\n",
    "```\n",
    "water_level = 5\n",
    "\n",
    "if water_level and water_level < 3:\n",
    "    print(\"Normal operations\")\n",
    "else if water_level >= 3 and water_level <= 4.5:\n",
    "    print(\"Call City Manager\")\n",
    "else:\n",
    "    print(\"Open flood gates and call City Manager\")\n",
    "```"
   ]
  },
  {
   "cell_type": "code",
   "execution_count": null,
   "id": "1e58d9af-47cd-4cf9-b5af-e1afa9744e1b",
   "metadata": {},
   "outputs": [],
   "source": []
  }
 ],
 "metadata": {
  "kernelspec": {
   "display_name": "Python 3 (ipykernel)",
   "language": "python",
   "name": "python3"
  },
  "language_info": {
   "codemirror_mode": {
    "name": "ipython",
    "version": 3
   },
   "file_extension": ".py",
   "mimetype": "text/x-python",
   "name": "python",
   "nbconvert_exporter": "python",
   "pygments_lexer": "ipython3",
   "version": "3.10.2"
  }
 },
 "nbformat": 4,
 "nbformat_minor": 5
}
