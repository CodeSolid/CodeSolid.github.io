{
 "cells": [
  {
   "cell_type": "markdown",
   "id": "1d26ef1e-3c49-4a46-a4c5-b68825d5a953",
   "metadata": {},
   "source": [
    "# Creating DataFrames and Using Sample Data Sets"
   ]
  },
  {
   "cell_type": "markdown",
   "id": "bc5dd17f-4431-4655-b2c5-ea537e23223c",
   "metadata": {},
   "source": [
    "This is the Jupyter Notebook runnable exercises version of the article, [Pandas Practice Questions – Fifty-Two Examples to Make You an Expert](https://codesolid.com/pandas-practice-questions-twenty-one-examples-to-make-you-an-expert/)."
   ]
  },
  {
   "cell_type": "code",
   "execution_count": 1,
   "id": "df91e92f-5f2b-4e98-81f7-84e7478ed432",
   "metadata": {},
   "outputs": [],
   "source": [
    "import pandas as pd\n",
    "import numpy as np\n",
    "import seaborn as sb"
   ]
  },
  {
   "cell_type": "markdown",
   "id": "6950cc47-3cc0-4565-8df1-d01741b7ea5f",
   "metadata": {},
   "source": [
    "**1.** Using NumPy, create a Pandas DataFrame with five rows and three columms:"
   ]
  },
  {
   "cell_type": "code",
   "execution_count": null,
   "id": "dd1a5014-d17e-4fd0-b7a2-db261a53a02a",
   "metadata": {},
   "outputs": [],
   "source": []
  },
  {
   "cell_type": "markdown",
   "id": "9c74f94d-4adf-403d-a2c4-9efd200ba5b2",
   "metadata": {},
   "source": [
    "**2.** For a Pandas DataFrame created from a NumPy array, what is the default behavior for the labels for the columns?  For the rows?"
   ]
  },
  {
   "cell_type": "markdown",
   "id": "e7508b50-d724-47a7-8272-9ba040cd9c65",
   "metadata": {},
   "source": []
  },
  {
   "cell_type": "markdown",
   "id": "1a20442a-ea2c-4d32-877b-bfe5ae349318",
   "metadata": {},
   "source": [
    "**3.** Create a second DataFrame as above with five rows and three columns, setting the row labels to the names of any five major US cities and the column labels to the first three months of the year."
   ]
  },
  {
   "cell_type": "code",
   "execution_count": null,
   "id": "02686eae-cba2-4180-94ff-4dc85eca0731",
   "metadata": {},
   "outputs": [],
   "source": []
  },
  {
   "cell_type": "markdown",
   "id": "f6c2f45b-0fea-49bf-98a0-572d594a0680",
   "metadata": {},
   "source": [
    "**4.** You recall that the Seaborn package has some data sets built in, but can't remember how to list and load them. Assuming the functions to do so have \"data\" in the name, how might you locate them?  You can assume a Jupyter Notebook / IPython environment and explain the process, or write the code to do it in Python."
   ]
  },
  {
   "cell_type": "markdown",
   "id": "8afae59d-eb5a-4692-9924-b54d49942769",
   "metadata": {},
   "source": []
  },
  {
   "cell_type": "code",
   "execution_count": null,
   "id": "ce709b0a-cb22-4f33-9492-62f8346d0ef4",
   "metadata": {},
   "outputs": [],
   "source": []
  },
  {
   "cell_type": "markdown",
   "id": "70efcde8-cd73-4d61-8534-e6a3c469dbff",
   "metadata": {},
   "source": [
    "# Loading data from CSV"
   ]
  },
  {
   "cell_type": "markdown",
   "id": "00214582-1340-4700-99b5-9f36afce3e16",
   "metadata": {},
   "source": [
    "**5**. Zillow home data is available at this URL: https://files.zillowstatic.com/research/public_csvs/zhvi/Metro_zhvi_uc_sfrcondo_tier_0.33_0.67_sm_sa_month.csv\n",
    "\n",
    "Open this file as a DataFrame named df_homes in Pandas."
   ]
  },
  {
   "cell_type": "code",
   "execution_count": null,
   "id": "2838d3d2-5f1c-4e97-aab6-c7236ced82ad",
   "metadata": {},
   "outputs": [],
   "source": []
  },
  {
   "cell_type": "markdown",
   "id": "4476553a-1f93-4259-87df-69670ef486c0",
   "metadata": {},
   "source": [
    "**6.** Save the DataFrame, df_homes, to a local CSV file, \"zillow_home_data.csv\".  "
   ]
  },
  {
   "cell_type": "code",
   "execution_count": null,
   "id": "1d237615-d23c-4f62-a0b8-c709deb95647",
   "metadata": {},
   "outputs": [],
   "source": []
  },
  {
   "cell_type": "markdown",
   "id": "182e0039-63dc-49df-9413-7eede1453fe0",
   "metadata": {},
   "source": [
    "**7.** Load zillow_home_data.csv back into a new Dataframe, df_homes_2"
   ]
  },
  {
   "cell_type": "code",
   "execution_count": null,
   "id": "53665adb-adb2-462f-a244-01665182e870",
   "metadata": {},
   "outputs": [],
   "source": []
  },
  {
   "cell_type": "markdown",
   "id": "eaaa6d3b-21e6-4e4a-916a-d522f1fd60c6",
   "metadata": {},
   "source": [
    "**8.** Compare the dimensions of the two DataFrames, df_homes and df_homes_2.  Are they equal?  If not, how can you fix it?"
   ]
  },
  {
   "cell_type": "code",
   "execution_count": null,
   "id": "5c0a7f30-3d6a-4283-9efb-c1dc1d5d7d42",
   "metadata": {},
   "outputs": [],
   "source": []
  },
  {
   "cell_type": "markdown",
   "id": "ed7fc7e0-6fe3-4eea-bbbc-2ecf8d910b5a",
   "metadata": {},
   "source": []
  },
  {
   "cell_type": "markdown",
   "id": "0f34b104-fc3a-492c-964b-45daa12850b0",
   "metadata": {},
   "source": [
    "**9.** A remote spreadsheet showing how a snapshot of how traffic increased for a hypothetical website is available here: https://github.com/CodeSolid/CodeSolid.github.io/raw/main/booksource/data/AnalyticsSnapshot.xlsx. Load the worksheet page of the spreasheet data labelled \"February 2022\" as a DataFrame named \"feb\".  Note: the leftmost column in the spreadsheet is the index column."
   ]
  },
  {
   "cell_type": "code",
   "execution_count": null,
   "id": "7b8772dd-5d19-4510-a725-80c7273ce61b",
   "metadata": {},
   "outputs": [],
   "source": []
  },
  {
   "cell_type": "markdown",
   "id": "ad366534-b168-490c-a55d-654f3ef44288",
   "metadata": {},
   "source": [
    "**10.** The \"Month to Month Increase\" column is a bit hard to understand, so ignore it for now.  Given the values for \"This Month\" and \"Last Month\", create a new column, \"Percentage Increase\"."
   ]
  },
  {
   "cell_type": "code",
   "execution_count": null,
   "id": "d053f773-c9a9-4592-aaaa-660ae8e189e5",
   "metadata": {},
   "outputs": [],
   "source": []
  },
  {
   "cell_type": "markdown",
   "id": "8a71222f-2ab4-47bb-806d-2610e25b3a91",
   "metadata": {},
   "source": [
    "# Basic Operations on Data"
   ]
  },
  {
   "cell_type": "markdown",
   "id": "0b9cf32b-3132-40cc-a5ca-26d6e6a36e4b",
   "metadata": {},
   "source": [
    "**11.** Using Seaborn, get a dataset about penguins into a dataframe named \"df_penguins\".  Note that because all of the following questions depend on this example, we'll provide the solution here so no one gets stuck:"
   ]
  },
  {
   "cell_type": "code",
   "execution_count": 2,
   "id": "a8b68caf-a998-414a-9de7-899eae7213c7",
   "metadata": {},
   "outputs": [],
   "source": [
    "df_penguins = sb.load_dataset('penguins')"
   ]
  },
  {
   "cell_type": "markdown",
   "id": "f7170135-17bd-45e2-9239-dad647ed6eaf",
   "metadata": {},
   "source": [
    "**12.** Write the code to show the the number of rows and columns in df_penguins"
   ]
  },
  {
   "cell_type": "code",
   "execution_count": null,
   "id": "6f565afb-d5f4-462d-b3e5-946bc91bd83e",
   "metadata": {},
   "outputs": [],
   "source": []
  },
  {
   "cell_type": "markdown",
   "id": "9d3396f3-3fe6-4571-83b2-1e70f8a11513",
   "metadata": {},
   "source": [
    "**13.** How might you show the first few rows of df_penguins?"
   ]
  },
  {
   "cell_type": "code",
   "execution_count": null,
   "id": "68d5946e-5011-4735-983e-7485f44a60f2",
   "metadata": {},
   "outputs": [],
   "source": []
  },
  {
   "cell_type": "markdown",
   "id": "c841930d-e235-468a-809d-8427f8739076",
   "metadata": {},
   "source": [
    "**14.** How can you return the unique species of penguins from df_penguins?  How many unique species are there?"
   ]
  },
  {
   "cell_type": "code",
   "execution_count": null,
   "id": "130ed9bd-397b-4504-bf26-6b0dc716ba8b",
   "metadata": {},
   "outputs": [],
   "source": []
  },
  {
   "cell_type": "markdown",
   "id": "3912a3df-d931-4d74-a6fa-34ad11f83f94",
   "metadata": {},
   "source": [
    "**15.** What function can we use to drop the rows that have missing data?"
   ]
  },
  {
   "cell_type": "code",
   "execution_count": null,
   "id": "436cf3d3-db4a-42e3-81d3-9f2df28265f1",
   "metadata": {},
   "outputs": [],
   "source": []
  },
  {
   "cell_type": "markdown",
   "id": "f1feab44-7136-4736-a11c-ee005fdb0698",
   "metadata": {},
   "source": [
    "**16.** By default, will this modify df_penguins or will it return a copy?"
   ]
  },
  {
   "cell_type": "markdown",
   "id": "8b0981bc-d8b1-42a5-9df6-e2723f61013c",
   "metadata": {},
   "source": []
  },
  {
   "cell_type": "markdown",
   "id": "7f35c024-ac5c-43e0-8ea7-3e03953f644b",
   "metadata": {},
   "source": [
    "**17.** How can we override the default?"
   ]
  },
  {
   "cell_type": "markdown",
   "id": "3f62e100-1000-40df-b21b-6af919fbb945",
   "metadata": {},
   "source": []
  },
  {
   "cell_type": "markdown",
   "id": "a17f9c69-c8e2-4331-b9c7-c5be6a13a968",
   "metadata": {},
   "source": [
    "**18.** Create a new DataFrame, df_penguins_full, with the missing data deleted."
   ]
  },
  {
   "cell_type": "code",
   "execution_count": null,
   "id": "f160094c-ba0c-4fe1-96f0-d6b23e8162c9",
   "metadata": {},
   "outputs": [],
   "source": []
  },
  {
   "cell_type": "markdown",
   "id": "c34afa01-c0c4-40fa-b3a6-3b7c6abc58e1",
   "metadata": {},
   "source": [
    "**19.** What is the average bill length of a penguin, in millimeters, in this (df_full) data set?"
   ]
  },
  {
   "cell_type": "code",
   "execution_count": null,
   "id": "6012e669-3c97-4949-be33-3e44daf9534a",
   "metadata": {},
   "outputs": [],
   "source": []
  },
  {
   "cell_type": "markdown",
   "id": "38076367-ae05-4567-8963-12b5e0d77214",
   "metadata": {},
   "source": [
    "**20.** Which of the following is most strongly correlated with bill length?  a) Body mass?  b) Flipper length?  c) Bill depth?  Show how you arrived at the answer."
   ]
  },
  {
   "cell_type": "markdown",
   "id": "2edbbf08-8f1d-40ea-b137-cdcdbfe02787",
   "metadata": {},
   "source": []
  },
  {
   "cell_type": "code",
   "execution_count": null,
   "id": "93840bc0-eda0-48fd-b14d-4405a484c547",
   "metadata": {},
   "outputs": [],
   "source": []
  },
  {
   "cell_type": "markdown",
   "id": "538ed22f-f2c0-46df-bf41-6a27246e356d",
   "metadata": {},
   "source": [
    "**21.** How could you show the median flipper length, grouped by species?"
   ]
  },
  {
   "cell_type": "code",
   "execution_count": null,
   "id": "a39321c8-1822-4078-91f9-6f9a36a3bab7",
   "metadata": {},
   "outputs": [],
   "source": []
  },
  {
   "cell_type": "markdown",
   "id": "0d6ff0a0-f72b-47a0-a8c5-50cf2e9c8ef4",
   "metadata": {},
   "source": [
    "**22.** Which species has the longest flippers?"
   ]
  },
  {
   "cell_type": "markdown",
   "id": "20f5ec8f-1580-438d-8ddb-ad2eeabed1ba",
   "metadata": {},
   "source": []
  },
  {
   "cell_type": "markdown",
   "id": "f50dacfd-a59d-4763-b8bf-004a02d8f05f",
   "metadata": {},
   "source": [
    "**23.** Which two species have the most similar mean weight?  Show how you arrived at the answer."
   ]
  },
  {
   "cell_type": "markdown",
   "id": "be5582aa-447d-4645-85cd-072894fcbb82",
   "metadata": {},
   "source": []
  },
  {
   "cell_type": "code",
   "execution_count": null,
   "id": "c61f152b-d401-4c28-aea1-014d01100136",
   "metadata": {},
   "outputs": [],
   "source": []
  },
  {
   "cell_type": "markdown",
   "id": "ddca88e5-374f-4c8a-bf61-26b70a8b3a90",
   "metadata": {},
   "source": [
    "**24.** How could you sort the rows by bill length?"
   ]
  },
  {
   "cell_type": "code",
   "execution_count": null,
   "id": "4faabd67-0417-45ca-b907-7a170f4e9b71",
   "metadata": {},
   "outputs": [],
   "source": []
  },
  {
   "cell_type": "markdown",
   "id": "56d12fe3-805d-4f79-bf83-e515b5070229",
   "metadata": {},
   "source": [
    "**25.** How could you run the same sort in descending order?"
   ]
  },
  {
   "cell_type": "code",
   "execution_count": null,
   "id": "02544f08-974e-463c-a2da-ac0b3ba3ff0d",
   "metadata": {},
   "outputs": [],
   "source": []
  },
  {
   "cell_type": "markdown",
   "id": "3b69d24f-cd5b-41c9-a4eb-b8325251fe7b",
   "metadata": {},
   "source": [
    "**26.** How could you sort by species first, then by body mass?"
   ]
  },
  {
   "cell_type": "code",
   "execution_count": null,
   "id": "bda80b1d-2773-493f-b13d-7b2fa60e6849",
   "metadata": {},
   "outputs": [],
   "source": []
  },
  {
   "cell_type": "markdown",
   "id": "82890e5f-d9f7-4729-a179-b0883f1bc498",
   "metadata": {},
   "source": [
    "# Selecting Rows, Columns, and Cells\n",
    "\n",
    "Let's look at some precious stones now, and leave the poor penguins alone for a while.  Let's look at some precious stones now, and leave the poor penguins alone for a while.  "
   ]
  },
  {
   "cell_type": "markdown",
   "id": "5d1abb35-5d24-4bd2-89d4-dd9dbbdadccf",
   "metadata": {},
   "source": [
    "**27.** Load the Seaborn \"diamonds\" dataset into a Pandas dataframe named diamonds."
   ]
  },
  {
   "cell_type": "code",
   "execution_count": null,
   "id": "9247186e-0c21-43d3-88db-79c7f4ecbc06",
   "metadata": {},
   "outputs": [],
   "source": []
  },
  {
   "cell_type": "markdown",
   "id": "cbe20f32-5cb2-4191-9994-dbadaf7488dd",
   "metadata": {},
   "source": [
    "**28.** Display the columns that are available."
   ]
  },
  {
   "cell_type": "code",
   "execution_count": null,
   "id": "c12fd634-2c83-4130-87f3-5580e42ce496",
   "metadata": {},
   "outputs": [],
   "source": []
  },
  {
   "cell_type": "markdown",
   "id": "505b677e-c1bb-4daa-8615-a78ea4860a71",
   "metadata": {},
   "source": [
    "**29.** If you select a single column from the diamonds DataFrame, what will be the type of the return value?"
   ]
  },
  {
   "cell_type": "markdown",
   "id": "10307c17-e2ad-48ce-b0b9-ddde83b5f6c3",
   "metadata": {},
   "source": []
  },
  {
   "cell_type": "markdown",
   "id": "5f5d7cae-b784-449d-be28-a1473721b4fa",
   "metadata": {},
   "source": [
    "**30.** Select the 'table' column and show its type"
   ]
  },
  {
   "cell_type": "code",
   "execution_count": null,
   "id": "18963cfe-266d-4ca6-9471-b47000c35ee5",
   "metadata": {},
   "outputs": [],
   "source": []
  },
  {
   "cell_type": "markdown",
   "id": "82de5bb4-baed-422e-83a6-d7581ea15ab8",
   "metadata": {},
   "source": [
    "**31.** Select the first ten rows of the price and carat columns ten rows of the diamonds DataFrame into a variable called subset, and display them."
   ]
  },
  {
   "cell_type": "code",
   "execution_count": null,
   "id": "55ccbc17-b267-4ffb-9876-d2192ba2437d",
   "metadata": {},
   "outputs": [],
   "source": []
  },
  {
   "cell_type": "markdown",
   "id": "fdb4c150-ebdc-420d-979b-14231fc4764b",
   "metadata": {},
   "source": [
    "**32.** For a given column, show the code to display the datatype of the _values_ in the column?  "
   ]
  },
  {
   "cell_type": "code",
   "execution_count": null,
   "id": "bb6b2d54-e58f-4da4-bcf2-a4d08ee34602",
   "metadata": {},
   "outputs": [],
   "source": []
  },
  {
   "cell_type": "markdown",
   "id": "ca510203-8c7e-48a1-81c3-c9e1bc5aa7b1",
   "metadata": {},
   "source": [
    "**33.** Select the first row of the diamonds DataFrame into a variable called row."
   ]
  },
  {
   "cell_type": "code",
   "execution_count": null,
   "id": "8535dd1a-db9d-49c7-a6b2-0257616d7334",
   "metadata": {},
   "outputs": [],
   "source": []
  },
  {
   "cell_type": "markdown",
   "id": "edbd9394-ec43-479c-919a-5eab17acb792",
   "metadata": {},
   "source": [
    "**34.** What would you expect the data type of the row to be?  Display it."
   ]
  },
  {
   "cell_type": "markdown",
   "id": "22d7c0bd-cf41-491e-8fc5-41aed540c16e",
   "metadata": {},
   "source": [
    "A Pandas series"
   ]
  },
  {
   "cell_type": "code",
   "execution_count": null,
   "id": "777274bd-3653-4d0c-b73e-75f879cb48ae",
   "metadata": {},
   "outputs": [],
   "source": []
  },
  {
   "cell_type": "markdown",
   "id": "f6027d4a-4df5-45c6-bb82-c4ed046c2681",
   "metadata": {},
   "source": [
    "**35.** Can you discover the names of the columns using only the row returned in #33?  Why or why not?Can you discover the names of the columns using only the row returned in #33?  Why or why not?"
   ]
  },
  {
   "cell_type": "markdown",
   "id": "55c063e1-2346-4782-9133-e684c2714fe0",
   "metadata": {},
   "source": [
    "Yes, because a row series should have the columns as the index (See below):"
   ]
  },
  {
   "cell_type": "code",
   "execution_count": null,
   "id": "1a5b9a02-9764-43b7-b49b-4522506e5669",
   "metadata": {},
   "outputs": [],
   "source": []
  },
  {
   "cell_type": "markdown",
   "id": "369f761e-0dbe-4589-835f-526ab8f9884f",
   "metadata": {},
   "source": [
    "**36.** Select the row with the highest priced diamond."
   ]
  },
  {
   "cell_type": "code",
   "execution_count": null,
   "id": "41f8510d-cf79-43eb-910c-1c03aebc21ba",
   "metadata": {},
   "outputs": [],
   "source": []
  },
  {
   "cell_type": "markdown",
   "id": "2694d362-a5d1-4ad9-8b09-f408d7531948",
   "metadata": {},
   "source": [
    "**37.** Select the row with the lowest priced diamond."
   ]
  },
  {
   "cell_type": "code",
   "execution_count": null,
   "id": "b6559ffa-fbb6-4ce9-b882-5bccbf5403e4",
   "metadata": {},
   "outputs": [],
   "source": []
  },
  {
   "cell_type": "markdown",
   "id": "e366af69-1739-48c5-b964-298fa294bc7a",
   "metadata": {},
   "source": [
    "# Some Exercises Using Time Series"
   ]
  },
  {
   "cell_type": "markdown",
   "id": "ca92f2e5-c4f3-460e-b3b1-0d6bff4694ff",
   "metadata": {},
   "source": [
    "**38.** Load the taxis dataset into a DataFrame, ```taxis```."
   ]
  },
  {
   "cell_type": "code",
   "execution_count": null,
   "id": "5bb6dee5-3828-4a80-8a35-98397639e5db",
   "metadata": {},
   "outputs": [],
   "source": []
  },
  {
   "cell_type": "markdown",
   "id": "06ef6738-b5fb-4341-8ced-15f02ee5aad6",
   "metadata": {},
   "source": [
    "**39.** The 'pickup' column contains the date and time the customer picked up, but it's a string.  Add a column to the DataFrame, 'pickup_time', containing the value in 'pickup' as a DateTime."
   ]
  },
  {
   "cell_type": "code",
   "execution_count": null,
   "id": "a857614a-ada0-43c5-9ba0-6e00422bf518",
   "metadata": {},
   "outputs": [],
   "source": []
  },
  {
   "cell_type": "markdown",
   "id": "d2aca5a0-b67d-4c2b-928f-49a0df783a4a",
   "metadata": {},
   "source": [
    "**40.** We have a hypothesis that as the day goes on, the tips get higher.  We'll need to wrangle the data a bit before testing this, however.  First, now that we have a datetime column, pickup_time, create a subset of it to create a new DataFrame, taxis_one_day. This new DataFrame should have values between '2019-03-23 00:06:00' (inclusive) and '2019-03-24 00:00:00' (exlusive)."
   ]
  },
  {
   "cell_type": "code",
   "execution_count": null,
   "id": "4c92be8d-ee1a-452d-84e9-64617cbcd850",
   "metadata": {},
   "outputs": [],
   "source": []
  },
  {
   "cell_type": "markdown",
   "id": "14b66e0e-762c-433c-9041-e40cf624eaa5",
   "metadata": {},
   "source": [
    "**41.** We now have a range from morning until midnight, but we to take the mean of the numeric columns, grouped at one hour intervals.  Save the result as df_means, and display it."
   ]
  },
  {
   "cell_type": "code",
   "execution_count": null,
   "id": "baca4e69-dc2d-492e-918b-c15d7d560b4b",
   "metadata": {},
   "outputs": [],
   "source": []
  },
  {
   "cell_type": "markdown",
   "id": "601743a0-8e97-46f3-8c46-6681353d374c",
   "metadata": {},
   "source": [
    "**42.** Create a simple line plot of the value \"distance\".  "
   ]
  },
  {
   "cell_type": "code",
   "execution_count": null,
   "id": "d270aaf8-b52e-4d1f-8373-3ce72f9d4a81",
   "metadata": {},
   "outputs": [],
   "source": []
  },
  {
   "cell_type": "markdown",
   "id": "deba998f-24b1-4fc3-93e6-807955ba111b",
   "metadata": {},
   "source": [
    "**43.** Overall, do riders travel further or less far as the day progresses?"
   ]
  },
  {
   "cell_type": "markdown",
   "id": "4b69ad07-bd6c-4ef8-8caa-ec0b5b4a2b21",
   "metadata": {},
   "source": []
  },
  {
   "cell_type": "markdown",
   "id": "3c1784d1-e66d-40c7-87d1-a5a4bc7dd43b",
   "metadata": {},
   "source": [
    "**44.** Create a new column in taxis_means, ```tip_in_percent```.  The source columns for this should be \"fare\" and \"tip\""
   ]
  },
  {
   "cell_type": "code",
   "execution_count": null,
   "id": "014637ae-70f7-4289-8077-5264bf46daab",
   "metadata": {},
   "outputs": [],
   "source": []
  },
  {
   "cell_type": "markdown",
   "id": "15be5b49-d465-48a7-9b3b-6d58291752d9",
   "metadata": {},
   "source": [
    "**45.** Create a new column, time_interval, as a range of integer values beginning with zero."
   ]
  },
  {
   "cell_type": "code",
   "execution_count": null,
   "id": "bcc2dca5-7682-4e55-b218-e94006071ebd",
   "metadata": {},
   "outputs": [],
   "source": []
  },
  {
   "cell_type": "markdown",
   "id": "269b329e-cade-4e54-9ed8-ce5d23006750",
   "metadata": {},
   "source": [
    "Display the correlations between the following pairs of values:\n",
    "1. tip_in_percent and distance.\n",
    "1. tip_in_percent and passengers.\n",
    "1. tip_in_percent and time_interval."
   ]
  },
  {
   "cell_type": "code",
   "execution_count": null,
   "id": "7003165a-2e86-46fa-9b0c-bb1e9dab4afd",
   "metadata": {},
   "outputs": [],
   "source": []
  },
  {
   "cell_type": "markdown",
   "id": "934d0379-8d2c-4579-af88-fafffdb58767",
   "metadata": {},
   "source": [
    "**47.** Admittedly, the size of the data set is fairly small given how we've subsetted it.  But based on the values in #45, which of the three pairs show the strongest correlation."
   ]
  },
  {
   "cell_type": "markdown",
   "id": "04dfb838-f8de-4e79-8076-12ef0c187fc4",
   "metadata": {},
   "source": []
  },
  {
   "cell_type": "markdown",
   "id": "279a9e91-2488-4e53-8234-ddde076fbe30",
   "metadata": {},
   "source": [
    "**48.** Did our hypothesis that people tip more as the day goes on turn out to be warranted?"
   ]
  },
  {
   "cell_type": "markdown",
   "id": "6aaf603f-5099-457c-99eb-bf8370583a0c",
   "metadata": {},
   "source": []
  },
  {
   "cell_type": "code",
   "execution_count": null,
   "id": "c885f77c-db5c-462b-8231-663e56f7f497",
   "metadata": {},
   "outputs": [],
   "source": []
  }
 ],
 "metadata": {
  "kernelspec": {
   "display_name": "Python 3 (ipykernel)",
   "language": "python",
   "name": "python3"
  },
  "language_info": {
   "codemirror_mode": {
    "name": "ipython",
    "version": 3
   },
   "file_extension": ".py",
   "mimetype": "text/x-python",
   "name": "python",
   "nbconvert_exporter": "python",
   "pygments_lexer": "ipython3",
   "version": "3.10.2"
  }
 },
 "nbformat": 4,
 "nbformat_minor": 5
}
